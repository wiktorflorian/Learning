{
 "cells": [
  {
   "cell_type": "markdown",
   "id": "dd07fa0e-32f8-48fd-aec1-75f5474994b9",
   "metadata": {},
   "source": [
    "# Backpropagation\n",
    "\n",
    "Based on **Patric Loeber** video: https://www.youtube.com/watch?v=c36lUUr864M&t=2520s"
   ]
  },
  {
   "cell_type": "code",
   "execution_count": null,
   "id": "057fc781-a012-4768-ab29-376e5cf9accd",
   "metadata": {},
   "outputs": [],
   "source": []
  },
  {
   "cell_type": "code",
   "execution_count": null,
   "id": "c223d20d-b004-4b32-a39f-0c67c5f8bf47",
   "metadata": {},
   "outputs": [],
   "source": []
  },
  {
   "cell_type": "code",
   "execution_count": null,
   "id": "4bbf36fb-149c-4d81-b62e-0fc6f17ee171",
   "metadata": {},
   "outputs": [],
   "source": []
  },
  {
   "cell_type": "code",
   "execution_count": null,
   "id": "8d9e6cc0-351a-4e01-a579-cfa3a01a35f0",
   "metadata": {},
   "outputs": [],
   "source": []
  },
  {
   "cell_type": "code",
   "execution_count": null,
   "id": "ec15122f-75bc-46bd-872b-da44526e04a8",
   "metadata": {},
   "outputs": [],
   "source": []
  }
 ],
 "metadata": {
  "kernelspec": {
   "display_name": "pytorch",
   "language": "python",
   "name": "pytorch"
  },
  "language_info": {
   "codemirror_mode": {
    "name": "ipython",
    "version": 3
   },
   "file_extension": ".py",
   "mimetype": "text/x-python",
   "name": "python",
   "nbconvert_exporter": "python",
   "pygments_lexer": "ipython3",
   "version": "3.10.10"
  }
 },
 "nbformat": 4,
 "nbformat_minor": 5
}
