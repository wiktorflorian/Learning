{
 "cells": [
  {
   "cell_type": "markdown",
   "id": "38510083-e731-481e-87ee-f70d8d5c01a2",
   "metadata": {},
   "source": [
    "# Linear Regression\n",
    "\n",
    "Based on **Patric Loeber** video: https://www.youtube.com/watch?v=c36lUUr864M&t=5234s"
   ]
  },
  {
   "cell_type": "code",
   "execution_count": null,
   "id": "b98b49ad-fa32-411a-a75c-062d0060fd73",
   "metadata": {},
   "outputs": [],
   "source": []
  },
  {
   "cell_type": "code",
   "execution_count": null,
   "id": "8f1ed0aa-d7f7-426d-b508-1e99cbe21ce8",
   "metadata": {},
   "outputs": [],
   "source": []
  },
  {
   "cell_type": "code",
   "execution_count": null,
   "id": "6dd1afe4-3627-4e52-b1ce-b601be26972d",
   "metadata": {},
   "outputs": [],
   "source": []
  }
 ],
 "metadata": {
  "kernelspec": {
   "display_name": "pytorch",
   "language": "python",
   "name": "pytorch"
  },
  "language_info": {
   "codemirror_mode": {
    "name": "ipython",
    "version": 3
   },
   "file_extension": ".py",
   "mimetype": "text/x-python",
   "name": "python",
   "nbconvert_exporter": "python",
   "pygments_lexer": "ipython3",
   "version": "3.10.10"
  }
 },
 "nbformat": 4,
 "nbformat_minor": 5
}
