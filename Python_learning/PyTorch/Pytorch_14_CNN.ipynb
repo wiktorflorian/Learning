{
 "cells": [
  {
   "cell_type": "markdown",
   "id": "578b6dd7-e89c-4671-bdf9-078f85821f06",
   "metadata": {},
   "source": [
    "# Convolutional Neural Net (CNN)\n",
    "\n",
    "Based on **Patric Loeber** video: https://www.youtube.com/watch?v=c36lUUr864M&t=11658s"
   ]
  }
 ],
 "metadata": {
  "kernelspec": {
   "display_name": "pytorch",
   "language": "python",
   "name": "pytorch"
  },
  "language_info": {
   "codemirror_mode": {
    "name": "ipython",
    "version": 3
   },
   "file_extension": ".py",
   "mimetype": "text/x-python",
   "name": "python",
   "nbconvert_exporter": "python",
   "pygments_lexer": "ipython3",
   "version": "3.10.10"
  }
 },
 "nbformat": 4,
 "nbformat_minor": 5
}
