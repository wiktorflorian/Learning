{
 "cells": [
  {
   "cell_type": "markdown",
   "id": "4028742b-9d91-433a-8bd9-b866e673a8b4",
   "metadata": {},
   "source": [
    "# Transfer Learning\n",
    "\n",
    "Based on **Patric Loeber** video: https://www.youtube.com/watch?v=c36lUUr864M&t=12990s"
   ]
  },
  {
   "cell_type": "code",
   "execution_count": null,
   "id": "2a7e3a6e-f8a2-4a9f-813a-643569cb6ef8",
   "metadata": {},
   "outputs": [],
   "source": []
  },
  {
   "cell_type": "code",
   "execution_count": null,
   "id": "aac20b5e-b8b6-4e11-99d9-bba4394ec486",
   "metadata": {},
   "outputs": [],
   "source": []
  }
 ],
 "metadata": {
  "kernelspec": {
   "display_name": "pytorch",
   "language": "python",
   "name": "pytorch"
  },
  "language_info": {
   "codemirror_mode": {
    "name": "ipython",
    "version": 3
   },
   "file_extension": ".py",
   "mimetype": "text/x-python",
   "name": "python",
   "nbconvert_exporter": "python",
   "pygments_lexer": "ipython3",
   "version": "3.10.10"
  }
 },
 "nbformat": 4,
 "nbformat_minor": 5
}
