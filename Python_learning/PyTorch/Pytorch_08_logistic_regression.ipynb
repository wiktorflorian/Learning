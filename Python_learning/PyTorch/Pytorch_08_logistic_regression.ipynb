{
 "cells": [
  {
   "cell_type": "markdown",
   "id": "11d425a8-feba-45fa-b58a-209717cd4bee",
   "metadata": {},
   "source": [
    "# Logistic Regression\n",
    "\n",
    "Based on **Patric Loeber** video: https://www.youtube.com/watch?v=c36lUUr864M&t=5970s"
   ]
  },
  {
   "cell_type": "markdown",
   "id": "7799b735-19e8-4d4d-bca8-f4774c58ec31",
   "metadata": {},
   "source": [
    "## Typical PyTorch pipeline"
   ]
  },
  {
   "cell_type": "markdown",
   "id": "b9af1a32-3710-4b53-90e1-367970c7ccaf",
   "metadata": {},
   "source": [
    "1) Design model (input, output size, forward pass)\n",
    "2) Construct loss and optimizer\n",
    "3) Training loop\n",
    "    + forward pass: compute prediction and loss\n",
    "    + backward pass: gradients\n",
    "    + update weights"
   ]
  },
  {
   "cell_type": "code",
   "execution_count": 9,
   "id": "cb56f236-00df-4c2b-bc6b-55847b33c5d2",
   "metadata": {},
   "outputs": [
    {
     "name": "stdout",
     "output_type": "stream",
     "text": [
      "samples: 569, features: 30\n"
     ]
    }
   ],
   "source": [
    "import torch\n",
    "import torch.nn as nn\n",
    "import numpy as np\n",
    "from sklearn import datasets\n",
    "from sklearn.preprocessing import StandardScaler\n",
    "from sklearn.model_selection import train_test_split\n",
    "\n",
    "# 0) prepare data\n",
    "bc = datasets.load_breast_cancer()\n",
    "X, y = bc.data, bc.target\n",
    "\n",
    "n_samples, n_features = X.shape\n",
    "print(f\"samples: {n_samples}, features: {n_features}\")\n",
    "\n",
    "X_train, X_test, y_train, y_test = train_test_split(X, y, test_size=0.2, random_state=1234)\n",
    "\n",
    "# scale features\n",
    "sc = StandardScaler()\n",
    "X_train = sc.fit_transform(X_train)\n",
    "X_test = sc.transform(X_test)\n",
    "\n",
    "# convert to torch tensors\n",
    "X_train = torch.from_numpy(X_train.astype(np.float32))\n",
    "X_test = torch.from_numpy(X_test.astype(np.float32))\n",
    "y_train = torch.from_numpy(y_train.astype(np.float32))\n",
    "y_test = torch.from_numpy(y_test.astype(np.float32))\n",
    "\n",
    "# row vector to column vector\n",
    "y_train = y_train.view(y_train.shape[0], 1)\n",
    "y_test = y_test.view(y_test.shape[0], 1)"
   ]
  },
  {
   "cell_type": "markdown",
   "id": "e9394ec4-87be-46a3-ab6b-ed16ed41d3c0",
   "metadata": {},
   "source": [
    "sc equals standard calar which will make our features to have zero mean and unit variance. This is always recommended to do when we want to deal with a logistic regression."
   ]
  },
  {
   "cell_type": "code",
   "execution_count": 16,
   "id": "5f9906fe-5ed1-45e6-9500-1913aa6e3db2",
   "metadata": {},
   "outputs": [
    {
     "name": "stdout",
     "output_type": "stream",
     "text": [
      "epoch: 200, loss = 0.1652\n",
      "epoch: 400, loss = 0.1233\n",
      "epoch: 600, loss = 0.1044\n",
      "epoch: 800, loss = 0.0932\n",
      "epoch: 1000, loss = 0.0857\n",
      "epoch: 1200, loss = 0.0802\n",
      "epoch: 1400, loss = 0.0760\n",
      "epoch: 1600, loss = 0.0725\n",
      "epoch: 1800, loss = 0.0697\n",
      "epoch: 2000, loss = 0.0672\n"
     ]
    }
   ],
   "source": [
    "# 1) model\n",
    "# f = wx + b, sigmoid function at the end\n",
    "class LogisticRegression(nn.Module):\n",
    "    \n",
    "    def __init__(self, n_input_features):\n",
    "        super(LogisticRegression, self).__init__()\n",
    "        self.linear = nn.Linear(n_input_features, 1)\n",
    "        \n",
    "    def forward(self, x):\n",
    "        y_predicted = torch.sigmoid(self.linear(x))\n",
    "        return y_predicted\n",
    "    \n",
    "model = LogisticRegression(n_features)\n",
    "\n",
    "# 2) loss and optimizer\n",
    "# BCELoss -> Binary Cross Entropy Loss\n",
    "learning_rate = 0.01\n",
    "criterion = nn.BCELoss()\n",
    "optimizer = torch.optim.SGD(model.parameters(), lr=learning_rate)\n",
    "\n",
    "# 3) training loop\n",
    "num_epochs = 2000\n",
    "\n",
    "for epoch in range(num_epochs):\n",
    "    # forward pass and loss calculation\n",
    "    y_predicted = model(X_train)\n",
    "    loss = criterion(y_predicted, y_train)\n",
    "    \n",
    "    # backward pass\n",
    "    loss.backward()\n",
    "    \n",
    "    # updates weights\n",
    "    optimizer.step()\n",
    "    \n",
    "    # zero gradients\n",
    "    optimizer.zero_grad()\n",
    "    \n",
    "    if (epoch+1) % 200 == 0:\n",
    "        print(f\"epoch: {epoch+1}, loss = {loss.item():.4f}\")"
   ]
  },
  {
   "cell_type": "code",
   "execution_count": 17,
   "id": "2ae27b5f-3613-478b-a551-7ce56f618a63",
   "metadata": {},
   "outputs": [
    {
     "name": "stdout",
     "output_type": "stream",
     "text": [
      "accuracy = 0.9649\n"
     ]
    }
   ],
   "source": [
    "with torch.no_grad():\n",
    "    y_predicted = model(X_test)\n",
    "    y_predicted_cls = y_predicted.round()\n",
    "    acc = y_predicted_cls.eq(y_test).sum() / float(y_test.shape[0])\n",
    "    print(f\"accuracy = {acc:.4f}\")"
   ]
  }
 ],
 "metadata": {
  "kernelspec": {
   "display_name": "pytorch",
   "language": "python",
   "name": "pytorch"
  },
  "language_info": {
   "codemirror_mode": {
    "name": "ipython",
    "version": 3
   },
   "file_extension": ".py",
   "mimetype": "text/x-python",
   "name": "python",
   "nbconvert_exporter": "python",
   "pygments_lexer": "ipython3",
   "version": "3.10.10"
  }
 },
 "nbformat": 4,
 "nbformat_minor": 5
}
