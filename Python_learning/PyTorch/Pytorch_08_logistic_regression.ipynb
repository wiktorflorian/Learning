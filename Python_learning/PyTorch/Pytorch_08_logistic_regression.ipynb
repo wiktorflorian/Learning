{
 "cells": [
  {
   "cell_type": "markdown",
   "id": "11d425a8-feba-45fa-b58a-209717cd4bee",
   "metadata": {},
   "source": [
    "# Logistic Regression\n",
    "\n",
    "Based on **Patric Loeber** video: https://www.youtube.com/watch?v=c36lUUr864M&t=5970s"
   ]
  }
 ],
 "metadata": {
  "kernelspec": {
   "display_name": "pytorch",
   "language": "python",
   "name": "pytorch"
  },
  "language_info": {
   "codemirror_mode": {
    "name": "ipython",
    "version": 3
   },
   "file_extension": ".py",
   "mimetype": "text/x-python",
   "name": "python",
   "nbconvert_exporter": "python",
   "pygments_lexer": "ipython3",
   "version": "3.10.10"
  }
 },
 "nbformat": 4,
 "nbformat_minor": 5
}
