{
 "cells": [
  {
   "cell_type": "markdown",
   "id": "4796e8f8-0d3e-49d7-bd24-ea1008740654",
   "metadata": {},
   "source": [
    "# Feed Forward Net\n",
    "\n",
    "Based on **Patric Loeber** video: https://www.youtube.com/watch?v=c36lUUr864M&t=10360s"
   ]
  },
  {
   "cell_type": "code",
   "execution_count": 1,
   "id": "6bfefd54-46f1-41d3-92a1-f90b98dd6ba4",
   "metadata": {},
   "outputs": [],
   "source": [
    "import torch\n",
    "import torch.nn as nn\n",
    "import torchvision\n",
    "import torchvision.transforms as transforms\n",
    "import matplotlib.pyplot as plt"
   ]
  },
  {
   "cell_type": "code",
   "execution_count": 17,
   "id": "d210cb7a-f5f9-49df-bba7-39b3be6b9f55",
   "metadata": {},
   "outputs": [],
   "source": [
    "# device config\n",
    "device = torch.device('cuda' if torch.cuda.is_available() else 'cpu') \n",
    "device = torch.device('cuda')"
   ]
  },
  {
   "cell_type": "code",
   "execution_count": 3,
   "id": "3555fb39-5076-4ed9-b966-5772f4d8259f",
   "metadata": {},
   "outputs": [],
   "source": [
    "# hyper parameters\n",
    "input_size = 784 # iumages size 28x28 -> 1d tensor\n",
    "hidden_size = 100\n",
    "num_classes = 10\n",
    "num_epochs = 2\n",
    "batch_size = 100\n",
    "learning_rate = 0.001"
   ]
  },
  {
   "cell_type": "code",
   "execution_count": 4,
   "id": "275ccd03-db8b-434a-b3ae-7e321936bd15",
   "metadata": {},
   "outputs": [],
   "source": [
    "# MNIST\n",
    "train_dataset = torchvision.datasets.MNIST(root='./data', train=True,\n",
    "    transform=transforms.ToTensor(), download=True)\n",
    "\n",
    "test_dataset = torchvision.datasets.MNIST(root='./data', train=False,\n",
    "    transform=transforms.ToTensor())"
   ]
  },
  {
   "cell_type": "code",
   "execution_count": 5,
   "id": "4504ba99-49d6-4edd-9614-c71ceeaec2e4",
   "metadata": {},
   "outputs": [],
   "source": [
    "train_loader = torch.utils.data.DataLoader(dataset=train_dataset, batch_size=batch_size,\n",
    "    shuffle=True)\n",
    "\n",
    "test_loader = torch.utils.data.DataLoader(dataset=test_dataset, batch_size=batch_size,\n",
    "    shuffle=False)"
   ]
  },
  {
   "cell_type": "code",
   "execution_count": 6,
   "id": "cb01eb43-e322-4497-92ab-06d21f2aab62",
   "metadata": {},
   "outputs": [
    {
     "name": "stdout",
     "output_type": "stream",
     "text": [
      "Size of the samples: torch.Size([100, 1, 28, 28]), size of the labels: torch.Size([100])\n"
     ]
    },
    {
     "data": {
      "image/png": "[encoded data removed]",
      "text/plain": [
       "<Figure size 640x480 with 6 Axes>"
      ]
     },
     "metadata": {},
     "output_type": "display_data"
    }
   ],
   "source": [
    "# on batch of data\n",
    "examples = iter(train_loader)\n",
    "samples, labels = next(examples)\n",
    "print(f\"Size of the samples: {samples.shape}, size of the labels: {labels.shape}\")\n",
    "\n",
    "for i in range(6):\n",
    "    plt.subplot(2, 3, i+1) # 2 rows, 3 columns and index i+1\n",
    "    plt.imshow(samples[i][0], cmap='gray')\n",
    "plt.show()"
   ]
  },
  {
   "cell_type": "code",
   "execution_count": 7,
   "id": "e7edab53-2e32-4a4d-a10d-3999ad039881",
   "metadata": {},
   "outputs": [],
   "source": [
    "class NeuralNet(nn.Module):\n",
    "    def __init__(self, input_size, hidden_size, num_classes):\n",
    "        super(NeuralNet, self).__init__()\n",
    "        # first layer\n",
    "        self.l1 = nn.Linear(input_size, hidden_size)\n",
    "        # activation function\n",
    "        self.relu = nn.ReLU()\n",
    "        # another linear layer\n",
    "        self.l2 = nn.Linear(hidden_size, num_classes)\n",
    "        \n",
    "    def forward(self, x):\n",
    "        out = self.l1(x)\n",
    "        out = self.relu(out)\n",
    "        out = self.l2(out)\n",
    "        # here at the end we don't want an activation function\n",
    "        # we don't apply softmax here like usuall in multi-class clasification problem\n",
    "        # because we will see that we will use the cros entropy loss and this will apply softmax for us\n",
    "        return out"
   ]
  },
  {
   "cell_type": "code",
   "execution_count": 8,
   "id": "a69c68e6-d1d0-45bd-9991-b76b19a538cf",
   "metadata": {},
   "outputs": [],
   "source": [
    "model = NeuralNet(input_size, hidden_size, num_classes)\n",
    "\n",
    "# loss and optimizer\n",
    "criterion = nn.CrossEntropyLoss() # cross entropy loss will apply softmax for use\n",
    "optimizer = torch.optim.Adam(model.parameters(), lr=learning_rate)"
   ]
  },
  {
   "cell_type": "code",
   "execution_count": 19,
   "id": "68941655-ff43-4198-ba96-a25425e06378",
   "metadata": {},
   "outputs": [
    {
     "name": "stdout",
     "output_type": "stream",
     "text": [
      "epoch 1 / 2, step 100 / 600, loss = 0.3794\n",
      "epoch 1 / 2, step 200 / 600, loss = 0.3146\n",
      "epoch 1 / 2, step 300 / 600, loss = 0.3424\n",
      "epoch 1 / 2, step 400 / 600, loss = 0.3615\n",
      "epoch 1 / 2, step 500 / 600, loss = 0.2488\n",
      "epoch 1 / 2, step 600 / 600, loss = 0.1752\n",
      "epoch 2 / 2, step 100 / 600, loss = 0.1948\n",
      "epoch 2 / 2, step 200 / 600, loss = 0.2246\n",
      "epoch 2 / 2, step 300 / 600, loss = 0.1520\n",
      "epoch 2 / 2, step 400 / 600, loss = 0.2285\n",
      "epoch 2 / 2, step 500 / 600, loss = 0.0732\n",
      "epoch 2 / 2, step 600 / 600, loss = 0.1606\n"
     ]
    }
   ],
   "source": [
    "# training loop\n",
    "n_total_steps = len(train_loader)\n",
    "for epoch in range(num_epochs):\n",
    "    for i, (images, labels) in enumerate(train_loader):\n",
    "        # we will reshape our images first\n",
    "        # because if we have a look at the shape we will see that it is 100, 1, 28, 28\n",
    "        # and our input size is 100, 784\n",
    "        images = images.reshape(-1, 28*28).to(device)\n",
    "        labels = labels.to(device)\n",
    "        \n",
    "        # move the model to the same device as the data\n",
    "        model = model.to(device)\n",
    "        # forward\n",
    "        outputs = model(images)\n",
    "        loss = criterion(outputs, labels)\n",
    "        \n",
    "        # backward\n",
    "        optimizer.zero_grad()\n",
    "        loss.backward()\n",
    "        # updating parameters for us\n",
    "        optimizer.step()\n",
    "        \n",
    "        # every 100 steps print \n",
    "        if (i+1) % 100 == 0:\n",
    "            print(f\"epoch {epoch+1} / {num_epochs}, step {i+1} / {n_total_steps}, loss = {loss.item():.4f}\")"
   ]
  },
  {
   "cell_type": "code",
   "execution_count": 21,
   "id": "8dff17e9-6d38-4b6d-81f2-8a07894a7538",
   "metadata": {},
   "outputs": [
    {
     "name": "stdout",
     "output_type": "stream",
     "text": [
      "accuracy = 95.36\n"
     ]
    }
   ],
   "source": [
    "# test\n",
    "with torch.no_grad():\n",
    "    n_correct = 0\n",
    "    n_samples = 0\n",
    "    for images, labels in test_loader:\n",
    "        images = images.reshape(-1, 28*28).to(device)\n",
    "        labels = labels.to(device)\n",
    "        outputs = model(images)\n",
    "        \n",
    "        # value, !index!\n",
    "        _, predictions = torch.max(outputs, 1)\n",
    "        n_samples += labels.shape[0]\n",
    "        # for each correct prediction we add 1\n",
    "        n_correct += (predictions == labels).sum().item()\n",
    "    acc = 100.0 * n_correct / n_samples\n",
    "    print(f\"accuracy = {acc}\")"
   ]
  }
 ],
 "metadata": {
  "kernelspec": {
   "display_name": "pytorch",
   "language": "python",
   "name": "pytorch"
  },
  "language_info": {
   "codemirror_mode": {
    "name": "ipython",
    "version": 3
   },
   "file_extension": ".py",
   "mimetype": "text/x-python",
   "name": "python",
   "nbconvert_exporter": "python",
   "pygments_lexer": "ipython3",
   "version": "3.10.10"
  }
 },
 "nbformat": 4,
 "nbformat_minor": 5
}
