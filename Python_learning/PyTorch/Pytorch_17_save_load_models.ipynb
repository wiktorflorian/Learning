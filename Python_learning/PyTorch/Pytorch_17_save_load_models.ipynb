{
 "cells": [
  {
   "cell_type": "markdown",
   "id": "99a13798-137c-4bc5-a73b-235834b9c7b5",
   "metadata": {},
   "source": [
    "# Save & Load Models\n",
    "\n",
    "Based on **Patric Loeber** video: https://www.youtube.com/watch?v=c36lUUr864M&t=15434s"
   ]
  },
  {
   "cell_type": "code",
   "execution_count": null,
   "id": "06b35eae-6100-407e-9e28-88a939a6bcf7",
   "metadata": {},
   "outputs": [],
   "source": []
  },
  {
   "cell_type": "code",
   "execution_count": null,
   "id": "11bbbc64-00dd-4fcf-b8e4-e46f9daa5c9b",
   "metadata": {},
   "outputs": [],
   "source": []
  },
  {
   "cell_type": "code",
   "execution_count": null,
   "id": "8b8faf2d-c19c-4a26-8403-579741c667c6",
   "metadata": {},
   "outputs": [],
   "source": []
  },
  {
   "cell_type": "code",
   "execution_count": null,
   "id": "314b1ad5-3577-47f7-b3b3-ddeea716104e",
   "metadata": {},
   "outputs": [],
   "source": []
  }
 ],
 "metadata": {
  "kernelspec": {
   "display_name": "pytorch",
   "language": "python",
   "name": "pytorch"
  },
  "language_info": {
   "codemirror_mode": {
    "name": "ipython",
    "version": 3
   },
   "file_extension": ".py",
   "mimetype": "text/x-python",
   "name": "python",
   "nbconvert_exporter": "python",
   "pygments_lexer": "ipython3",
   "version": "3.10.10"
  }
 },
 "nbformat": 4,
 "nbformat_minor": 5
}
