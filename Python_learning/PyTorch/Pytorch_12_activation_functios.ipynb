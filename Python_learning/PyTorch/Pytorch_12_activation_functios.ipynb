{
 "cells": [
  {
   "cell_type": "markdown",
   "id": "fced0267-cdf4-4c9c-8ae3-4634f2c03e9f",
   "metadata": {},
   "source": [
    "# Activation Functions\n",
    "\n",
    "Based on **Patric Loeber** video: https://www.youtube.com/watch?v=c36lUUr864M&t=9756s"
   ]
  }
 ],
 "metadata": {
  "kernelspec": {
   "display_name": "pytorch",
   "language": "python",
   "name": "pytorch"
  },
  "language_info": {
   "codemirror_mode": {
    "name": "ipython",
    "version": 3
   },
   "file_extension": ".py",
   "mimetype": "text/x-python",
   "name": "python",
   "nbconvert_exporter": "python",
   "pygments_lexer": "ipython3",
   "version": "3.10.10"
  }
 },
 "nbformat": 4,
 "nbformat_minor": 5
}
