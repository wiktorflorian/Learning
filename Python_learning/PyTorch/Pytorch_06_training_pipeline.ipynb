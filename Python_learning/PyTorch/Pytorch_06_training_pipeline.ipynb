{
 "cells": [
  {
   "cell_type": "markdown",
   "id": "355cc016-e2f8-4d37-8269-bd6ba5feb2f2",
   "metadata": {},
   "source": [
    "# Training Pipeline\n",
    "\n",
    "Based on **Patric Loeber** video: https://www.youtube.com/watch?v=c36lUUr864M&t=4373s"
   ]
  }
 ],
 "metadata": {
  "kernelspec": {
   "display_name": "pytorch",
   "language": "python",
   "name": "pytorch"
  },
  "language_info": {
   "codemirror_mode": {
    "name": "ipython",
    "version": 3
   },
   "file_extension": ".py",
   "mimetype": "text/x-python",
   "name": "python",
   "nbconvert_exporter": "python",
   "pygments_lexer": "ipython3",
   "version": "3.10.10"
  }
 },
 "nbformat": 4,
 "nbformat_minor": 5
}
