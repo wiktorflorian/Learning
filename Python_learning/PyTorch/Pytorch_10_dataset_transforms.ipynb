{
 "cells": [
  {
   "cell_type": "markdown",
   "id": "29e9995b-e5f9-4efc-9d32-7521d531384d",
   "metadata": {},
   "source": [
    "# Dataset Transforms\n",
    "\n",
    "Based on **Patric Loeber** video: https://www.youtube.com/watch?v=c36lUUr864M&t=8008s"
   ]
  },
  {
   "cell_type": "markdown",
   "id": "22fa5ca5-2d47-4e0e-b5c8-457c1c426949",
   "metadata": {},
   "source": [
    "import torch\n",
    "import torchvision\n",
    "\n",
    "# we are using built-in dataset\n",
    "# we can pass the transform argument to this dataset and then apply some transforms\n",
    "# in this example we use the MNIST dataset and then we apply to tensor transform\n",
    "# which will convert images or numpy arrays to tensors\n",
    "dataset = torchvision.datasets.MNIST(download=True,\n",
    "    root='./data', transform=torchvision.transforms.ToTensor())"
   ]
  },
  {
   "cell_type": "code",
   "execution_count": 4,
   "id": "27225d03-686a-43b7-9349-d74e2e9e2cac",
   "metadata": {},
   "outputs": [
    {
     "name": "stdout",
     "output_type": "stream",
     "text": [
      "Dataset MNIST\n",
      "    Number of datapoints: 60000\n",
      "    Root location: ./data\n",
      "    Split: Train\n",
      "    StandardTransform\n",
      "Transform: ToTensor()\n"
     ]
    }
   ],
   "source": [
    "print(dataset)"
   ]
  },
  {
   "cell_type": "markdown",
   "id": "21e4229f-fd4d-4071-9803-27b364049888",
   "metadata": {},
   "source": [
    "## Transforms"
   ]
  },
  {
   "cell_type": "markdown",
   "id": "faeeb9cc-d5ba-4e6f-9260-b33dd6358db6",
   "metadata": {},
   "source": [
    "Transforms can be applied to PIL images, tensors, ndarrays or custom data during creation of the DataSet\n",
    "\n",
    "complete list of built-in transforms:\n",
    "https://pytorch.org/vision/0.9/transforms.html"
   ]
  },
  {
   "cell_type": "markdown",
   "id": "58c7a635-eda8-4c58-8816-5166145897d6",
   "metadata": {},
   "source": [
    "### On Images"
   ]
  },
  {
   "cell_type": "markdown",
   "id": "f5851cfe-baa5-4cdb-ac2e-56c548c76a81",
   "metadata": {},
   "source": [
    "CenterCrop, Grayscale, Pad, RandomAffine, RandomCrop, RandomHorizontalFlip, RandomRotation, Resize, Scale"
   ]
  },
  {
   "cell_type": "markdown",
   "id": "0c503600-72d7-435d-b43c-d1ab5d49a0ab",
   "metadata": {},
   "source": [
    "### On Tensors"
   ]
  },
  {
   "cell_type": "markdown",
   "id": "99c23ce2-a689-4154-b451-ce1cfad3f940",
   "metadata": {},
   "source": [
    "LinearTransformation, Normalize, RandomErasing"
   ]
  },
  {
   "cell_type": "markdown",
   "id": "0c856ffe-53c3-4ac7-b69d-a8cfb41bbe18",
   "metadata": {},
   "source": [
    "### Conversion"
   ]
  },
  {
   "cell_type": "markdown",
   "id": "eaf93860-f43d-4d0f-8d21-87467021fd9b",
   "metadata": {},
   "source": [
    "**ToPILImage**: from tensor or ndarray <br>\n",
    "**ToTensor**: from numpy.ndarray or PILImage"
   ]
  },
  {
   "cell_type": "markdown",
   "id": "1acfa90c-7bf1-4b33-b7cd-39128eb8b56d",
   "metadata": {},
   "source": [
    "### Generic"
   ]
  },
  {
   "cell_type": "markdown",
   "id": "8c9f8edc-4c02-46be-860d-ae16780a0cb0",
   "metadata": {},
   "source": [
    "Use Lambda"
   ]
  },
  {
   "cell_type": "markdown",
   "id": "9b15b13b-a48a-4e14-86c5-337f76e0ea1c",
   "metadata": {},
   "source": [
    "### Custom"
   ]
  },
  {
   "cell_type": "markdown",
   "id": "8914b610-746d-47ee-9bf1-904c760755d0",
   "metadata": {},
   "source": [
    "Write own class"
   ]
  },
  {
   "cell_type": "markdown",
   "id": "bb7a45a8-ee7e-425b-9c4a-65939c115856",
   "metadata": {},
   "source": [
    "### Compose multiple Transforms"
   ]
  },
  {
   "cell_type": "markdown",
   "id": "de510b99-3c9a-458f-b3c6-cd4448ac9a08",
   "metadata": {},
   "source": [
    "```\n",
    "composed = transforms.Compose([Rescale(256),\n",
    "                                RandomCrop(224)])\n",
    "                                \n",
    "torchvision.transforms.Rescale(256)\n",
    "torchvision.transforms.ToTensor()\n",
    "```"
   ]
  },
  {
   "cell_type": "markdown",
   "id": "749401c0-4338-48d6-9c80-37a822c2b6ec",
   "metadata": {},
   "source": [
    "## Extending WineDataset to support transforms"
   ]
  },
  {
   "cell_type": "code",
   "execution_count": 9,
   "id": "a67f5b41-9ad1-4029-89b7-5f36d8bafffc",
   "metadata": {},
   "outputs": [],
   "source": [
    "import torch\n",
    "import torchvision\n",
    "from torch.utils.data import Dataset, DataLoader\n",
    "import numpy as np\n",
    "\n",
    "class WineDataset(Dataset):\n",
    "    \n",
    "    def __init__(self, transform=None):\n",
    "        # data loading\n",
    "        xy = np.loadtxt('./data/wine_data/wine.csv', delimiter=\",\", dtype=np.float32, skiprows=1)\n",
    "        self.n_samples = xy.shape[0]\n",
    "        \n",
    "        # we do not convert to tensor here\n",
    "        self.x = xy[:, 1:]\n",
    "        self.y = xy[:, [0]] # n_samples, 1\n",
    "        \n",
    "        self.transform = transform\n",
    "        \n",
    "    def __getitem__(self, index):\n",
    "        # dataset[0]\n",
    "        sample = self.x[index], self.y[index]\n",
    "        \n",
    "        # if transform != None then transform\n",
    "        if self.transform:\n",
    "            sample = self.transform(sample)\n",
    "        \n",
    "        return sample\n",
    "        \n",
    "    def __len__(self):\n",
    "        # len(dataset)\n",
    "        return self.n_samples"
   ]
  },
  {
   "cell_type": "markdown",
   "id": "63c53ace-dd09-42cc-b137-0524085d766b",
   "metadata": {},
   "source": [
    "## Custom transform classes"
   ]
  },
  {
   "cell_type": "code",
   "execution_count": 7,
   "id": "851cc326-2bb6-44d3-b315-dc897afb9219",
   "metadata": {},
   "outputs": [],
   "source": [
    "class ToTensor():\n",
    "    def __call__(self, sample):\n",
    "        inputs, targets = sample\n",
    "        return torch.from_numpy(inputs), torch.from_numpy(targets)"
   ]
  },
  {
   "cell_type": "code",
   "execution_count": 11,
   "id": "521adfe6-b30e-4a8f-8f06-b601fe2fa918",
   "metadata": {},
   "outputs": [
    {
     "name": "stdout",
     "output_type": "stream",
     "text": [
      "type of features: <class 'torch.Tensor'>, type of labels: <class 'torch.Tensor'>\n"
     ]
    }
   ],
   "source": [
    "dataset = WineDataset(transform=ToTensor())\n",
    "first_data = dataset[0]\n",
    "features, labels = first_data\n",
    "print(f\"type of features: {type(features)}, type of labels: {type(labels)}\")"
   ]
  },
  {
   "cell_type": "code",
   "execution_count": 17,
   "id": "ac323337-489c-4da4-be6f-85bad044c7dc",
   "metadata": {},
   "outputs": [
    {
     "name": "stdout",
     "output_type": "stream",
     "text": [
      "type of features: <class 'numpy.ndarray'>, type of labels: <class 'numpy.ndarray'>\n",
      "features: [1.423e+01 1.710e+00 2.430e+00 1.560e+01 1.270e+02 2.800e+00 3.060e+00\n",
      " 2.800e-01 2.290e+00 5.640e+00 1.040e+00 3.920e+00 1.065e+03]\n"
     ]
    }
   ],
   "source": [
    "dataset = WineDataset(transform=None)\n",
    "first_data = dataset[0]\n",
    "features, labels = first_data\n",
    "print(f\"type of features: {type(features)}, type of labels: {type(labels)}\")\n",
    "print(f\"features: {features}\")"
   ]
  },
  {
   "cell_type": "code",
   "execution_count": 15,
   "id": "526f8f02-a56e-441c-9842-f053093ec036",
   "metadata": {},
   "outputs": [],
   "source": [
    "class MulTransform:\n",
    "    def __init__(self, factor):\n",
    "        self.factor = factor\n",
    "        \n",
    "    def __call__(self, sample):\n",
    "        inputs, target = sample\n",
    "        inputs *= self.factor\n",
    "        return inputs, target"
   ]
  },
  {
   "cell_type": "markdown",
   "id": "4ceb9619-7414-40cd-9515-c092183d6a13",
   "metadata": {},
   "source": [
    "## Composed transformations"
   ]
  },
  {
   "cell_type": "code",
   "execution_count": 18,
   "id": "14a84178-053f-4f5e-917b-e0401aec7f6b",
   "metadata": {},
   "outputs": [
    {
     "name": "stdout",
     "output_type": "stream",
     "text": [
      "type of features: <class 'torch.Tensor'>, type of labels: <class 'torch.Tensor'>\n",
      "features: tensor([2.8460e+01, 3.4200e+00, 4.8600e+00, 3.1200e+01, 2.5400e+02, 5.6000e+00,\n",
      "        6.1200e+00, 5.6000e-01, 4.5800e+00, 1.1280e+01, 2.0800e+00, 7.8400e+00,\n",
      "        2.1300e+03])\n"
     ]
    }
   ],
   "source": [
    "composed = torchvision.transforms.Compose([ToTensor(), MulTransform(2)])\n",
    "dataset = WineDataset(transform=composed)\n",
    "first_data = dataset[0]\n",
    "features, labels = first_data\n",
    "print(f\"type of features: {type(features)}, type of labels: {type(labels)}\")\n",
    "print(f\"features: {features}\")"
   ]
  },
  {
   "cell_type": "code",
   "execution_count": 19,
   "id": "3a5bc4c1-ef06-47b2-815f-8ad1f72d042e",
   "metadata": {},
   "outputs": [
    {
     "name": "stdout",
     "output_type": "stream",
     "text": [
      "type of features: <class 'torch.Tensor'>, type of labels: <class 'torch.Tensor'>\n",
      "features: tensor([5.6920e+01, 6.8400e+00, 9.7200e+00, 6.2400e+01, 5.0800e+02, 1.1200e+01,\n",
      "        1.2240e+01, 1.1200e+00, 9.1600e+00, 2.2560e+01, 4.1600e+00, 1.5680e+01,\n",
      "        4.2600e+03])\n"
     ]
    }
   ],
   "source": [
    "composed = torchvision.transforms.Compose([ToTensor(), MulTransform(4)])\n",
    "dataset = WineDataset(transform=composed)\n",
    "first_data = dataset[0]\n",
    "features, labels = first_data\n",
    "print(f\"type of features: {type(features)}, type of labels: {type(labels)}\")\n",
    "print(f\"features: {features}\")"
   ]
  }
 ],
 "metadata": {
  "kernelspec": {
   "display_name": "pytorch",
   "language": "python",
   "name": "pytorch"
  },
  "language_info": {
   "codemirror_mode": {
    "name": "ipython",
    "version": 3
   },
   "file_extension": ".py",
   "mimetype": "text/x-python",
   "name": "python",
   "nbconvert_exporter": "python",
   "pygments_lexer": "ipython3",
   "version": "3.10.10"
  }
 },
 "nbformat": 4,
 "nbformat_minor": 5
}
