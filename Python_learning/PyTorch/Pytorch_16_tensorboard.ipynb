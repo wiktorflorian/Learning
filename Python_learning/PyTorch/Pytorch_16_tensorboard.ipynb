{
 "cells": [
  {
   "cell_type": "markdown",
   "id": "5669d9c6-4f10-4a45-8d31-0e8df239d0fc",
   "metadata": {},
   "source": [
    "# Tensorboard\n",
    "\n",
    "Based on **Patric Loeber** video: https://www.youtube.com/watch?v=c36lUUr864M&t=13890s"
   ]
  },
  {
   "cell_type": "markdown",
   "id": "72fd54d5-5510-4c89-b180-f8e6dbd0523e",
   "metadata": {},
   "source": [
    "### Code from 13_feed_forward_net"
   ]
  },
  {
   "cell_type": "code",
   "execution_count": 1,
   "id": "6660d3a0-f188-42d1-8bc8-1312081479ae",
   "metadata": {},
   "outputs": [],
   "source": [
    "import torch\n",
    "import torch.nn as nn\n",
    "import torchvision\n",
    "import torchvision.transforms as transforms\n",
    "import matplotlib.pyplot as plt"
   ]
  },
  {
   "cell_type": "code",
   "execution_count": 2,
   "id": "45a39369-6577-42cf-b548-aa97fc1d4c47",
   "metadata": {},
   "outputs": [],
   "source": [
    "############## TENSORBOARD ########################\n",
    "import sys\n",
    "import torch.nn.functional as F\n",
    "from torch.utils.tensorboard import SummaryWriter\n",
    "# default 'log_dir' is \"runs\" - we'll be more specific here\n",
    "writer = SummaryWriter(\"runs/mnist2\")\n",
    "###################################################"
   ]
  },
  {
   "cell_type": "code",
   "execution_count": 3,
   "id": "ac75cd7d-2513-408b-b5e5-cdb036918cbe",
   "metadata": {},
   "outputs": [],
   "source": [
    "# device config\n",
    "device = torch.device('cuda' if torch.cuda.is_available() else 'cpu') "
   ]
  },
  {
   "cell_type": "code",
   "execution_count": 4,
   "id": "fe937b1c-dabc-4b42-b5b3-05db3bad97b3",
   "metadata": {},
   "outputs": [],
   "source": [
    "# hyper parameters\n",
    "input_size = 784 # iumages size 28x28 -> 1d tensor\n",
    "hidden_size = 500\n",
    "num_classes = 10\n",
    "num_epochs = 1\n",
    "batch_size = 64\n",
    "learning_rate = 0.001"
   ]
  },
  {
   "cell_type": "code",
   "execution_count": 5,
   "id": "16cad04e-741d-4f1f-b444-f20278860c1c",
   "metadata": {},
   "outputs": [],
   "source": [
    "# MNIST dataset\n",
    "train_dataset = torchvision.datasets.MNIST(root='./data', train=True,\n",
    "    transform=transforms.ToTensor(), download=True)\n",
    "\n",
    "test_dataset = torchvision.datasets.MNIST(root='./data', train=False,\n",
    "    transform=transforms.ToTensor())"
   ]
  },
  {
   "cell_type": "code",
   "execution_count": 6,
   "id": "c3ce845c-ae6f-4445-8006-a465119a5d00",
   "metadata": {},
   "outputs": [],
   "source": [
    "# Data loader\n",
    "train_loader = torch.utils.data.DataLoader(dataset=train_dataset, batch_size=batch_size,\n",
    "    shuffle=True)\n",
    "\n",
    "test_loader = torch.utils.data.DataLoader(dataset=test_dataset, batch_size=batch_size,\n",
    "    shuffle=False)"
   ]
  },
  {
   "cell_type": "code",
   "execution_count": 7,
   "id": "eff9fc49-570d-4c38-9e3c-258f2f2c4c96",
   "metadata": {},
   "outputs": [
    {
     "name": "stdout",
     "output_type": "stream",
     "text": [
      "Size of the samples: torch.Size([64, 1, 28, 28]), size of the labels: torch.Size([64])\n"
     ]
    },
    {
     "data": {
      "image/png": "[encoded data removed]",
      "text/plain": [
       "<Figure size 640x480 with 6 Axes>"
      ]
     },
     "metadata": {},
     "output_type": "display_data"
    }
   ],
   "source": [
    "# on batch of data\n",
    "examples = iter(train_loader)\n",
    "example_data, example_targets = next(examples)\n",
    "print(f\"Size of the samples: {example_data.shape}, size of the labels: {example_targets.shape}\")\n",
    "\n",
    "for i in range(6):\n",
    "    plt.subplot(2, 3, i+1) # 2 rows, 3 columns and index i+1\n",
    "    plt.imshow(example_data[i][0], cmap='gray')\n",
    "#plt.show()"
   ]
  },
  {
   "cell_type": "code",
   "execution_count": 8,
   "id": "aed52770-4126-4d9f-be2c-d6231ba2795c",
   "metadata": {},
   "outputs": [],
   "source": [
    "############## TENSORBOARD ########################\n",
    "img_grid = torchvision.utils.make_grid(example_data)\n",
    "writer.add_image('mnist_images', img_grid)\n",
    "#writer.close()\n",
    "###################################################"
   ]
  },
  {
   "cell_type": "code",
   "execution_count": 9,
   "id": "2d386605-ea05-4601-a536-a6c743d0f444",
   "metadata": {},
   "outputs": [],
   "source": [
    "# Fully connected neural network with one hidden layer\n",
    "class NeuralNet(nn.Module):\n",
    "    def __init__(self, input_size, hidden_size, num_classes):\n",
    "        super(NeuralNet, self).__init__()\n",
    "        # first layer\n",
    "        self.l1 = nn.Linear(input_size, hidden_size)\n",
    "        # activation function\n",
    "        self.relu = nn.ReLU()\n",
    "        # another linear layer\n",
    "        self.l2 = nn.Linear(hidden_size, num_classes)\n",
    "        \n",
    "    def forward(self, x):\n",
    "        out = self.l1(x)\n",
    "        out = self.relu(out)\n",
    "        out = self.l2(out)\n",
    "        # here at the end we don't want an activation function\n",
    "        # we don't apply softmax here like usuall in multi-class clasification problem\n",
    "        # because we will see that we will use the cros entropy loss and this will apply softmax for us\n",
    "        return out"
   ]
  },
  {
   "cell_type": "code",
   "execution_count": 10,
   "id": "dd5343a0-28cf-4074-936a-f7eca5d77215",
   "metadata": {},
   "outputs": [],
   "source": [
    "model = NeuralNet(input_size, hidden_size, num_classes).to(device)\n",
    "\n",
    "# loss and optimizer\n",
    "criterion = nn.CrossEntropyLoss() # cross entropy loss will apply softmax for use\n",
    "optimizer = torch.optim.Adam(model.parameters(), lr=learning_rate)"
   ]
  },
  {
   "cell_type": "code",
   "execution_count": 11,
   "id": "48e55b60-8362-4d2d-a371-c398890e9b55",
   "metadata": {},
   "outputs": [],
   "source": [
    "############## TENSORBOARD ########################\n",
    "# model graph\n",
    "writer.add_graph(model, example_data.reshape(-1, 28*28).to(device))\n",
    "#writer.close()\n",
    "###################################################"
   ]
  },
  {
   "cell_type": "code",
   "execution_count": 12,
   "id": "8e30aea2-1706-47b3-b171-878ef907f997",
   "metadata": {},
   "outputs": [
    {
     "name": "stdout",
     "output_type": "stream",
     "text": [
      "epoch 1 / 1, step 100 / 938, loss = 0.3999\n",
      "epoch 1 / 1, step 200 / 938, loss = 0.3685\n",
      "epoch 1 / 1, step 300 / 938, loss = 0.2509\n",
      "epoch 1 / 1, step 400 / 938, loss = 0.1159\n",
      "epoch 1 / 1, step 500 / 938, loss = 0.1916\n",
      "epoch 1 / 1, step 600 / 938, loss = 0.1840\n",
      "epoch 1 / 1, step 700 / 938, loss = 0.0921\n",
      "epoch 1 / 1, step 800 / 938, loss = 0.1546\n",
      "epoch 1 / 1, step 900 / 938, loss = 0.2682\n"
     ]
    }
   ],
   "source": [
    "# training loop\n",
    "n_total_steps = len(train_loader)\n",
    "\n",
    "running_loss = 0.0\n",
    "running_correct = 0\n",
    "for epoch in range(num_epochs):\n",
    "    for i, (images, labels) in enumerate(train_loader):\n",
    "        # we will reshape our images first\n",
    "        # because if we have a look at the shape we will see that it is 100, 1, 28, 28\n",
    "        # and our input size is 100, 784\n",
    "        images = images.reshape(-1, 28*28).to(device)\n",
    "        labels = labels.to(device)\n",
    "        \n",
    "        # move the model to the same device as the data\n",
    "        model = model.to(device)\n",
    "        # forward\n",
    "        outputs = model(images)\n",
    "        loss = criterion(outputs, labels)\n",
    "        \n",
    "        # backward\n",
    "        optimizer.zero_grad()\n",
    "        loss.backward()\n",
    "        # updating parameters for us\n",
    "        optimizer.step()\n",
    "        \n",
    "        running_loss += loss.item()\n",
    "        \n",
    "        _, predicted = torch.max(outputs.data, 1)\n",
    "        running_correct += (predicted == labels).sum().item()\n",
    "        # every 100 steps print \n",
    "        if (i+1) % 100 == 0:\n",
    "            print(f\"epoch {epoch+1} / {num_epochs}, step {i+1} / {n_total_steps}, loss = {loss.item():.4f}\")\n",
    "            ############## TENSORBOARD ######################## idk why it is not adding scalar\n",
    "            writer.add_scalar('training loss', running_loss / 100, epoch * n_total_steps + i)\n",
    "            running_accuracy = running_correct / 100 / predicted.size(0)\n",
    "            writer.add_scalar('accuracy', running_accuracy, epoch * n_total_steps + i)\n",
    "            running_loss = 0.0\n",
    "            running_correct = 0\n",
    "            writer.close()\n",
    "            ###################################################"
   ]
  },
  {
   "cell_type": "code",
   "execution_count": 13,
   "id": "de0d6076-f573-4bdd-9b22-67cfc30a4616",
   "metadata": {},
   "outputs": [
    {
     "name": "stdout",
     "output_type": "stream",
     "text": [
      "Accuracy of the network on the 10000 test images: 96.51 %\n"
     ]
    }
   ],
   "source": [
    "# test the model\n",
    "# in test phase, w don't need to compute gradients (for memory efficiency)\n",
    "class_labels = []\n",
    "class_preds = []\n",
    "with torch.no_grad():\n",
    "    n_correct = 0\n",
    "    n_samples = 0\n",
    "    for images, labels in test_loader:\n",
    "        images = images.reshape(-1, 28*28).to(device)\n",
    "        labels = labels.to(device)\n",
    "        outputs = model(images)\n",
    "        \n",
    "        # value, !index!\n",
    "        values, predicted = torch.max(outputs.data, 1)\n",
    "        n_samples += labels.size(0)\n",
    "        # for each correct prediction we add 1\n",
    "        n_correct += (predicted == labels).sum().item()\n",
    "        \n",
    "        class_probs_batch = [F.softmax(output, dim=0) for output in outputs]\n",
    "        \n",
    "        class_preds.append(class_probs_batch)\n",
    "        class_labels.append(labels)\n",
    "        \n",
    "    # 10000, 10, and 10000, 1\n",
    "    # stack concatenates tensors along a new dimension\n",
    "    # cat concatenates tensors in the given dimension\n",
    "    class_preds = torch.cat([torch.stack(batch) for batch in class_preds])\n",
    "    class_labels = torch.cat(class_labels)\n",
    "    \n",
    "    \n",
    "    acc = 100.0 * n_correct / n_samples\n",
    "    print(f\"Accuracy of the network on the 10000 test images: {acc} %\")\n",
    "    \n",
    "    ############## TENSORBOARD ########################\n",
    "    classes = range(10)\n",
    "    for i in classes:\n",
    "        labels_i = class_labels == i\n",
    "        preds_i = class_preds[:, i]\n",
    "        writer.add_pr_curve(str(i), labels_i, preds_i, global_step=0)\n",
    "        writer.close()\n",
    "    ###################################################"
   ]
  }
 ],
 "metadata": {
  "kernelspec": {
   "display_name": "pytorch",
   "language": "python",
   "name": "pytorch"
  },
  "language_info": {
   "codemirror_mode": {
    "name": "ipython",
    "version": 3
   },
   "file_extension": ".py",
   "mimetype": "text/x-python",
   "name": "python",
   "nbconvert_exporter": "python",
   "pygments_lexer": "ipython3",
   "version": "3.10.10"
  }
 },
 "nbformat": 4,
 "nbformat_minor": 5
}
