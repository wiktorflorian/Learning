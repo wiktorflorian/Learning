{
 "cells": [
  {
   "cell_type": "markdown",
   "id": "5669d9c6-4f10-4a45-8d31-0e8df239d0fc",
   "metadata": {},
   "source": [
    "# Tensorboard\n",
    "\n",
    "Based on **Patric Loeber** video: https://www.youtube.com/watch?v=c36lUUr864M&t=13890s"
   ]
  },
  {
   "cell_type": "code",
   "execution_count": null,
   "id": "6660d3a0-f188-42d1-8bc8-1312081479ae",
   "metadata": {},
   "outputs": [],
   "source": []
  },
  {
   "cell_type": "code",
   "execution_count": null,
   "id": "ac75cd7d-2513-408b-b5e5-cdb036918cbe",
   "metadata": {},
   "outputs": [],
   "source": []
  }
 ],
 "metadata": {
  "kernelspec": {
   "display_name": "pytorch",
   "language": "python",
   "name": "pytorch"
  },
  "language_info": {
   "codemirror_mode": {
    "name": "ipython",
    "version": 3
   },
   "file_extension": ".py",
   "mimetype": "text/x-python",
   "name": "python",
   "nbconvert_exporter": "python",
   "pygments_lexer": "ipython3",
   "version": "3.10.10"
  }
 },
 "nbformat": 4,
 "nbformat_minor": 5
}
