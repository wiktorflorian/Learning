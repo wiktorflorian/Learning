{
 "cells": [
  {
   "attachments": {},
   "cell_type": "markdown",
   "metadata": {},
   "source": [
    "# Scikit-Learn Cours - Machine Learning\n",
    "\n",
    "By freeCodeCamp.org\n",
    "\n",
    "https://www.youtube.com/watch?v=pqNCD_5r0IU&list=PLY8_mf17J6TIGNwBjKW3t1Pwdb59t30Kt&index=7&t=2s\n"
   ]
  },
  {
   "attachments": {},
   "cell_type": "markdown",
   "metadata": {},
   "source": [
    "## Train Test Split"
   ]
  },
  {
   "cell_type": "code",
   "execution_count": 1,
   "metadata": {},
   "outputs": [],
   "source": [
    "from sklearn import datasets\n",
    "import numpy as np\n",
    "from sklearn.model_selection import train_test_split"
   ]
  },
  {
   "cell_type": "code",
   "execution_count": 2,
   "metadata": {},
   "outputs": [
    {
     "name": "stdout",
     "output_type": "stream",
     "text": [
      "Features:\n",
      "[[5.1 3.5 1.4 0.2]\n",
      " [4.9 3.  1.4 0.2]\n",
      " [4.7 3.2 1.3 0.2]\n",
      " [4.6 3.1 1.5 0.2]\n",
      " [5.  3.6 1.4 0.2]]\n",
      "...\n",
      "\n",
      "Labels:\n",
      "[0 0 0 0 0]\n",
      "...\n"
     ]
    }
   ],
   "source": [
    "iris = datasets.load_iris()\n",
    "\n",
    "# split it in features and labels\n",
    "X = iris.data\n",
    "y = iris.target\n",
    "\n",
    "print(f\"Features:\\n{X[:5]}\\n...\\n\\nLabels:\\n{y[:5]}\\n...\")"
   ]
  },
  {
   "cell_type": "code",
   "execution_count": 3,
   "metadata": {},
   "outputs": [
    {
     "name": "stdout",
     "output_type": "stream",
     "text": [
      "(150, 4)\n",
      "(150,)\n"
     ]
    }
   ],
   "source": [
    "print(X.shape)\n",
    "print(y.shape)\n"
   ]
  },
  {
   "cell_type": "code",
   "execution_count": 4,
   "metadata": {},
   "outputs": [
    {
     "name": "stdout",
     "output_type": "stream",
     "text": [
      "(120, 4)\n",
      "(30, 4)\n",
      "(120,)\n",
      "(30,)\n"
     ]
    }
   ],
   "source": [
    "X_train, X_test, y_train, y_test = train_test_split(X, y, test_size=0.2)\n",
    "\n",
    "print(X_train.shape)\n",
    "print(X_test.shape)\n",
    "print(y_train.shape)\n",
    "print(y_test.shape)"
   ]
  },
  {
   "attachments": {},
   "cell_type": "markdown",
   "metadata": {},
   "source": [
    "## KNN Example"
   ]
  },
  {
   "cell_type": "code",
   "execution_count": 5,
   "metadata": {},
   "outputs": [],
   "source": [
    "import numpy as np\n",
    "import pandas as pd\n",
    "from sklearn import neighbors, metrics\n",
    "from sklearn.model_selection import train_test_split\n",
    "from sklearn.preprocessing import LabelEncoder"
   ]
  },
  {
   "cell_type": "code",
   "execution_count": 6,
   "metadata": {},
   "outputs": [],
   "source": [
    "data = pd.read_csv(\"data/car.data\")"
   ]
  },
  {
   "cell_type": "code",
   "execution_count": 7,
   "metadata": {},
   "outputs": [
    {
     "name": "stdout",
     "output_type": "stream",
     "text": [
      "  buying  maint doors persons lug_boot safety  class\n",
      "0  vhigh  vhigh     2       2    small    low  unacc\n",
      "1  vhigh  vhigh     2       2    small    med  unacc\n",
      "2  vhigh  vhigh     2       2    small   high  unacc\n",
      "3  vhigh  vhigh     2       2      med    low  unacc\n",
      "4  vhigh  vhigh     2       2      med    med  unacc\n"
     ]
    }
   ],
   "source": [
    "print(data.head())"
   ]
  },
  {
   "cell_type": "code",
   "execution_count": 8,
   "metadata": {},
   "outputs": [],
   "source": [
    "last_column_label = data.columns[-1]\n",
    "y = data[last_column_label].copy().to_frame(name=last_column_label)\n",
    "X = data.drop(columns=[last_column_label])"
   ]
  },
  {
   "cell_type": "code",
   "execution_count": 9,
   "metadata": {},
   "outputs": [
    {
     "name": "stdout",
     "output_type": "stream",
     "text": [
      "X sample:\n",
      "  buying  maint doors persons lug_boot safety\n",
      "0  vhigh  vhigh     2       2    small    low\n",
      "1  vhigh  vhigh     2       2    small    med\n",
      "2  vhigh  vhigh     2       2    small   high\n",
      "3  vhigh  vhigh     2       2      med    low\n",
      "4  vhigh  vhigh     2       2      med    med\n",
      "\n",
      "y sample:\n",
      "   class\n",
      "0  unacc\n",
      "1  unacc\n",
      "2  unacc\n",
      "3  unacc\n",
      "4  unacc\n"
     ]
    }
   ],
   "source": [
    "print(f\"X sample:\\n{X.head()}\\n\\ny sample:\\n{y.head()}\")"
   ]
  },
  {
   "attachments": {},
   "cell_type": "markdown",
   "metadata": {},
   "source": [
    "### Converting the data"
   ]
  },
  {
   "cell_type": "code",
   "execution_count": 10,
   "metadata": {},
   "outputs": [],
   "source": [
    "X = X.values\n",
    "Le = LabelEncoder()\n",
    "for i in range(X.shape[1]):\n",
    "    X[:, i] = Le.fit_transform(X[:, i])"
   ]
  },
  {
   "cell_type": "code",
   "execution_count": 11,
   "metadata": {},
   "outputs": [
    {
     "name": "stdout",
     "output_type": "stream",
     "text": [
      "[[3 3 0 0 2 1]\n",
      " [3 3 0 0 2 2]\n",
      " [3 3 0 0 2 0]\n",
      " ...\n",
      " [1 1 3 2 0 1]\n",
      " [1 1 3 2 0 2]\n",
      " [1 1 3 2 0 0]]\n"
     ]
    }
   ],
   "source": [
    "print(X)"
   ]
  },
  {
   "cell_type": "code",
   "execution_count": 12,
   "metadata": {},
   "outputs": [],
   "source": [
    "#y\n",
    "label_mapping = {\n",
    "  'unacc':0,\n",
    "  'acc':1,\n",
    "  'good':2,\n",
    "  'vgood':3\n",
    " }\n",
    "y['class'] = y['class'].map(label_mapping)\n",
    "Y = np.array(y)"
   ]
  },
  {
   "cell_type": "code",
   "execution_count": 13,
   "metadata": {},
   "outputs": [
    {
     "name": "stdout",
     "output_type": "stream",
     "text": [
      "      class\n",
      "0         0\n",
      "1         0\n",
      "2         0\n",
      "3         0\n",
      "4         0\n",
      "...     ...\n",
      "1723      2\n",
      "1724      3\n",
      "1725      0\n",
      "1726      2\n",
      "1727      3\n",
      "\n",
      "[1728 rows x 1 columns]\n"
     ]
    }
   ],
   "source": [
    "print(y)"
   ]
  },
  {
   "attachments": {},
   "cell_type": "markdown",
   "metadata": {},
   "source": [
    "### Create model"
   ]
  },
  {
   "cell_type": "code",
   "execution_count": 23,
   "metadata": {},
   "outputs": [
    {
     "name": "stdout",
     "output_type": "stream",
     "text": [
      "Predictions: [0 1 0 0 0 0 0 0 0 0 0 0 0 0 1 0 0 0 0 0 0 1 0 1 0 0 1 0 1 0 0 0 0 0 0 0 0\n",
      " 0 0 0 0 3 0 0 0 0 0 0 0 0 0 0 1 0 1 0 0 0 0 0 0 0 0 0 0 0 0 0 0 0 0 0 0 0\n",
      " 0 0 0 0 0 0 0 0 0 0 1 0 0 0 0 0 0 0 0 0 0 0 1 0 1 0 0 0 0 0 1 1 0 0 0 0 0\n",
      " 0 0 0 0 0 0 0 0 0 0 0 0 0 0 0 0 0 0 0 0 0 0 0 0 0 0 0 0 0 0 0 0 0 0 0 0 0\n",
      " 0 0 0 0 0 3 0 0 0 0 3 0 0 0 0 0 0 1 1 1 1 1 0 0 0 0 0 1 0 0 0 0 0 0 0 0 3\n",
      " 1 0 1 0 0 0 0 0 2 0 0 0 0 1 0 0 0 0 0 0 0 0 0 1 0 0 1 0 0 0 0 1 0 3 0 0 0\n",
      " 0 0 0 0 0 0 0 0 0 0 0 0 0 0 0 0 0 0 0 0 0 0 0 0 0 0 0 0 1 0 0 0 0 0 0 0 0\n",
      " 0 0 0 0 0 0 1 0 0 0 0 0 0 1 0 0 0 0 0 0 0 0 0 0 0 1 0 1 0 0 0 0 0 0 0 0 0\n",
      " 0 0 0 0 0 0 0 0 0 0 0 0 0 0 0 0 0 1 0 0 0 0 0 0 1 0 0 1 0 0 0 0 0 1 3 0 0\n",
      " 0 0 1 0 1 0 0 0 0 0 0 0 0]\n",
      "Accuracy : 0.8121387283236994\n",
      "actual value: 0, predicted value: 0\n"
     ]
    },
    {
     "name": "stderr",
     "output_type": "stream",
     "text": [
      "/Users/florian/anaconda3/lib/python3.10/site-packages/sklearn/neighbors/_classification.py:215: DataConversionWarning: A column-vector y was passed when a 1d array was expected. Please change the shape of y to (n_samples,), for example using ravel().\n",
      "  return self._fit(X, y)\n"
     ]
    }
   ],
   "source": [
    "knn = neighbors.KNeighborsClassifier(\n",
    "    n_neighbors=25,\n",
    "    weights='uniform'\n",
    ")\n",
    "# somethign about 37 check comments\n",
    "\n",
    "X_train, X_test, y_train, y_test = train_test_split(X, y, test_size=0.2)\n",
    "\n",
    "knn.fit(X_train, y_train)\n",
    "\n",
    "predictions = knn.predict(X_test)\n",
    "\n",
    "accuracy = metrics.accuracy_score(y_test, predictions)\n",
    "\n",
    "print(f\"Predictions: {predictions}\")\n",
    "print(f\"Accuracy : {accuracy}\")\n",
    "\n",
    "a = 345\n",
    "# check why is not working\n",
    "# print(f\"actual value: {y[a]}, predicted value: {knn.predict(X[a])}\")\n",
    "print(f\"actual value: {y.loc[a, 'class']}, predicted value: {predictions[a]}\")"
   ]
  },
  {
   "attachments": {},
   "cell_type": "markdown",
   "metadata": {},
   "source": [
    "## Support Vector Machine"
   ]
  },
  {
   "attachments": {},
   "cell_type": "markdown",
   "metadata": {},
   "source": [
    "### Train tesrt split"
   ]
  },
  {
   "cell_type": "code",
   "execution_count": 6,
   "metadata": {},
   "outputs": [],
   "source": [
    "from sklearn import datasets\n",
    "import numpy as np\n",
    "from sklearn.model_selection import train_test_split\n",
    "from sklearn import svm\n",
    "from sklearn.metrics import accuracy_score\n",
    "\n",
    "iris = datasets.load_iris()\n",
    "\n",
    "# split it in features and labels\n",
    "X = iris.data\n",
    "y = iris.target\n",
    "\n",
    "classes = ['Iris Setosa', 'Iris Versicolour', 'Iris Virginica']\n",
    "\n",
    "X_train, X_test, y_train, y_test = train_test_split(X, y, test_size=0.2)"
   ]
  },
  {
   "attachments": {},
   "cell_type": "markdown",
   "metadata": {},
   "source": [
    "### Model"
   ]
  },
  {
   "cell_type": "code",
   "execution_count": 7,
   "metadata": {},
   "outputs": [
    {
     "name": "stdout",
     "output_type": "stream",
     "text": [
      "SVC()\n"
     ]
    }
   ],
   "source": [
    "model = svm.SVC()\n",
    "model.fit(X_train, y_train)\n",
    "\n",
    "print(model)"
   ]
  },
  {
   "attachments": {},
   "cell_type": "markdown",
   "metadata": {},
   "source": [
    "### Predictions"
   ]
  },
  {
   "cell_type": "code",
   "execution_count": 10,
   "metadata": {},
   "outputs": [
    {
     "name": "stdout",
     "output_type": "stream",
     "text": [
      "Predictions: [0 0 1 1 0 2 1 1 1 0 0 0 2 2 2 2 1 1 1 1 0 1 0 1 0 0 0 0 1 0] \n",
      "Actual: [0 0 1 1 0 2 1 1 1 0 0 0 1 2 2 2 1 1 1 1 0 1 0 1 0 0 0 0 1 0]\n",
      "Accuracy: 0.9666666666666667\n"
     ]
    }
   ],
   "source": [
    "predictions = model.predict(X_test)\n",
    "\n",
    "acc = accuracy_score(y_test, predictions)\n",
    "\n",
    "print(f\"Predictions: {predictions} \\nActual: {y_test}\\nAccuracy: {acc}\")"
   ]
  },
  {
   "attachments": {},
   "cell_type": "markdown",
   "metadata": {},
   "source": [
    "## Linear Regression"
   ]
  },
  {
   "cell_type": "code",
   "execution_count": 15,
   "metadata": {},
   "outputs": [],
   "source": [
    "# importing libraires\n",
    "\n",
    "from sklearn import datasets\n",
    "from sklearn import linear_model\n",
    "from sklearn.model_selection import train_test_split\n",
    "import matplotlib.pyplot as plt\n",
    "import pandas as pd"
   ]
  },
  {
   "cell_type": "code",
   "execution_count": 52,
   "metadata": {},
   "outputs": [],
   "source": [
    "# loading data to pandas\n",
    "\n",
    "#column_names = ['CRIM', 'ZN', 'INDUS', 'CHAS', 'NOX', 'RM', 'AGE', 'DIS', 'RAD', 'TAX', 'PTRATIO', 'B', 'LSTAT', 'MEDV']\n",
    "#boston = pd.read_csv('data/housing.csv.xls', header=None, delimiter=r\"\\s+\", names=column_names)\n",
    "\n",
    "# loading data to numpy\n",
    "boston = pd.read_csv('data/housing.csv.xls', header=None, delimiter=r\"\\s+\")\n",
    "boston = boston.to_numpy()\n"
   ]
  },
  {
   "cell_type": "code",
   "execution_count": 62,
   "metadata": {},
   "outputs": [],
   "source": [
    "# separating labels from features\n",
    "\n",
    "y = boston[:, -1:]\n",
    "X = boston[:, :-1]"
   ]
  },
  {
   "cell_type": "code",
   "execution_count": 69,
   "metadata": {},
   "outputs": [
    {
     "name": "stdout",
     "output_type": "stream",
     "text": [
      "Features shape: (506, 13)\n",
      "Label shape: (506, 1)\n"
     ]
    }
   ],
   "source": [
    "# shapes of you\n",
    "\n",
    "print(f\"Features shape: {X.shape}\\nLabel shape: {y.shape}\")"
   ]
  },
  {
   "cell_type": "code",
   "execution_count": 70,
   "metadata": {},
   "outputs": [],
   "source": [
    "# model\n",
    "\n",
    "l_reg = linear_model.LinearRegression()"
   ]
  },
  {
   "attachments": {},
   "cell_type": "markdown",
   "metadata": {},
   "source": [
    "### Simple data visualisation"
   ]
  },
  {
   "cell_type": "code",
   "execution_count": 72,
   "metadata": {},
   "outputs": [
    {
     "data": {
      "text/plain": [
       "<function matplotlib.pyplot.show(close=None, block=None)>"
      ]
     },
     "execution_count": 72,
     "metadata": {},
     "output_type": "execute_result"
    },
    {
     "data": {
      "image/png": "[encoded data removed]",
      "text/plain": [
       "<Figure size 640x480 with 1 Axes>"
      ]
     },
     "metadata": {},
     "output_type": "display_data"
    }
   ],
   "source": [
    "plt.scatter(X.T[5], y)\n",
    "plt.show"
   ]
  },
  {
   "attachments": {},
   "cell_type": "markdown",
   "metadata": {},
   "source": [
    "By observing this linear trend we know that data should be proper for Linear regression."
   ]
  },
  {
   "cell_type": "code",
   "execution_count": 73,
   "metadata": {},
   "outputs": [],
   "source": [
    "# train test split\n",
    "\n",
    "X_train, X_test, y_train, y_test = train_test_split(X, y, test_size=0.2)"
   ]
  },
  {
   "cell_type": "code",
   "execution_count": 84,
   "metadata": {},
   "outputs": [
    {
     "name": "stdout",
     "output_type": "stream",
     "text": [
      "Predictions: [[26.10740148]\n",
      " [31.0249004 ]\n",
      " [18.07933526]\n",
      " [18.40531987]\n",
      " [25.09275251]\n",
      " [20.28500896]\n",
      " [23.03506683]\n",
      " [32.34216936]\n",
      " [27.08760016]\n",
      " [27.67503037]\n",
      " [30.89342023]\n",
      " [10.51139123]\n",
      " [23.40495257]\n",
      " [14.20307995]\n",
      " [32.85150007]\n",
      " [25.16325652]\n",
      " [26.09997195]\n",
      " [13.62844509]\n",
      " [ 3.78716781]\n",
      " [12.07637047]\n",
      " [25.06212391]\n",
      " [36.83492882]\n",
      " [27.72822815]\n",
      " [20.51361648]\n",
      " [12.84309372]\n",
      " [18.94749856]\n",
      " [23.12068112]\n",
      " [42.89822871]\n",
      " [34.48034437]\n",
      " [17.0654658 ]\n",
      " [24.31940936]\n",
      " [20.48073197]\n",
      " [15.76258157]\n",
      " [31.46683005]\n",
      " [22.30169592]\n",
      " [23.4780132 ]\n",
      " [35.42438901]\n",
      " [27.93849652]\n",
      " [15.5344653 ]\n",
      " [20.18635578]\n",
      " [25.18380353]\n",
      " [30.17598497]\n",
      " [25.70540288]\n",
      " [14.48973237]\n",
      " [19.0899816 ]\n",
      " [18.02305381]\n",
      " [20.44143057]\n",
      " [18.39821288]\n",
      " [29.31384442]\n",
      " [26.37578991]\n",
      " [33.3768878 ]\n",
      " [27.74316073]\n",
      " [24.65820647]\n",
      " [23.74910065]\n",
      " [19.34864433]\n",
      " [27.91776216]\n",
      " [15.30318292]\n",
      " [23.54415047]\n",
      " [18.90896175]\n",
      " [31.1264091 ]\n",
      " [24.48811883]\n",
      " [18.33967411]\n",
      " [18.1729164 ]\n",
      " [21.1446329 ]\n",
      " [18.97866578]\n",
      " [17.05853967]\n",
      " [26.41407757]\n",
      " [23.34692439]\n",
      " [14.56985739]\n",
      " [24.07589753]\n",
      " [29.64582339]\n",
      " [32.61847283]\n",
      " [22.52322506]\n",
      " [20.60187007]\n",
      " [22.51724263]\n",
      " [31.26129114]\n",
      " [25.53239105]\n",
      " [35.95129264]\n",
      " [23.03145799]\n",
      " [13.22702769]\n",
      " [24.96816356]\n",
      " [17.93280532]\n",
      " [24.70706886]\n",
      " [28.44992366]\n",
      " [20.38261731]\n",
      " [19.6299608 ]\n",
      " [27.53124681]\n",
      " [24.23287705]\n",
      " [27.80078761]\n",
      " [20.92263763]\n",
      " [17.42479124]\n",
      " [ 9.98584573]\n",
      " [37.17044977]\n",
      " [16.91837309]\n",
      " [19.51794999]\n",
      " [ 8.89678301]\n",
      " [17.02149354]\n",
      " [21.46415595]\n",
      " [20.08721397]\n",
      " [25.09818078]\n",
      " [24.12455969]\n",
      " [23.45207194]]\n",
      "R^2 value: 0.7379202097271833\n",
      "Coefficients: [[-8.56576000e-02  4.95717873e-02  2.99891471e-02  3.85177880e+00\n",
      "  -1.99374958e+01  3.45554955e+00  7.14058346e-03 -1.42877659e+00\n",
      "   3.18115686e-01 -1.23930138e-02 -1.07817820e+00  8.04684024e-03\n",
      "  -5.34644137e-01]]\n",
      "Intercept: [41.91430368]\n"
     ]
    }
   ],
   "source": [
    "# model training\n",
    "\n",
    "model = l_reg.fit(X_train, y_train)\n",
    "\n",
    "# predictions\n",
    "\n",
    "predictions = model.predict(X_test)\n",
    "\n",
    "print(f\"Predictions: {predictions}\")\n",
    "\n",
    "# R-squared value\n",
    "r_squared = model.score(X, y)\n",
    "print(f\"R^2 value: {r_squared}\")\n",
    "\n",
    "# coefficients\n",
    "coefficients = model.coef_\n",
    "print(f\"Coefficients: {coefficients}\")\n",
    "\n",
    "# intercept\n",
    "intercept = model.intercept_\n",
    "print(f\"Intercept: {intercept}\")"
   ]
  }
 ],
 "metadata": {
  "kernelspec": {
   "display_name": "base",
   "language": "python",
   "name": "python3"
  },
  "language_info": {
   "codemirror_mode": {
    "name": "ipython",
    "version": 3
   },
   "file_extension": ".py",
   "mimetype": "text/x-python",
   "name": "python",
   "nbconvert_exporter": "python",
   "pygments_lexer": "ipython3",
   "version": "3.10.11"
  },
  "orig_nbformat": 4
 },
 "nbformat": 4,
 "nbformat_minor": 2
}
