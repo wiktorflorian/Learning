{
 "cells": [
  {
   "attachments": {},
   "cell_type": "markdown",
   "metadata": {},
   "source": [
    "# Notes about liblaries which I didn't have time to explore but i know some basix and do not want to be cofused"
   ]
  },
  {
   "attachments": {},
   "cell_type": "markdown",
   "metadata": {},
   "source": [
    "## Table of Contents\n",
    "\n",
    "* [alembic](##alembic)\n",
    "* [asgi_lifespan](##asgi_lifespan)\n",
    "* [async_lru](##async_lru)\n",
    "* [cachetools](##cachetools)\n",
    "* [cryptojwt.key_jar](##cryptojwt.key_jar)\n",
    "* [fastapi](##fastapi)\n",
    "* [httpx](##httpx)\n",
    "* [hypothesis](##hypothesis)\n",
    "* [itertools](##itertools)\n",
    "* [logging](##logging)\n",
    "* [psycopg2](##psycopg2)\n",
    "* [pydantic](##pydantic)\n",
    "* [pytest](##pytest)\n",
    "* [pytest_lazyfixture](##pytest_lazyfixture)\n",
    "* [schemathesis](##schemathesis)\n",
    "* [sqlalchemy](##sqlalchemy)\n",
    "* [starlette](##starlette)\n",
    "* [stomp](##stomp)\n",
    "* [tempfile](##tempfile)\n",
    "* [typer](##typer)\n",
    "* [typing](##typing)\n",
    "* [unittest](##unittest)\n",
    "* [urllib](##urllib)\n",
    "* [uuid](##uuid)\n",
    "* [uvicorn](##uvicorn)\n",
    "* [__future__](##__future__)\n"
   ]
  },
  {
   "attachments": {},
   "cell_type": "markdown",
   "metadata": {},
   "source": [
    "## alembic"
   ]
  },
  {
   "attachments": {},
   "cell_type": "markdown",
   "metadata": {},
   "source": [
    "## asgi_lifespan"
   ]
  },
  {
   "attachments": {},
   "cell_type": "markdown",
   "metadata": {},
   "source": [
    "## async_lru"
   ]
  },
  {
   "attachments": {},
   "cell_type": "markdown",
   "metadata": {},
   "source": [
    "## cachetools"
   ]
  },
  {
   "attachments": {},
   "cell_type": "markdown",
   "metadata": {},
   "source": [
    "## cryptojwt.key_jar"
   ]
  },
  {
   "attachments": {},
   "cell_type": "markdown",
   "metadata": {},
   "source": [
    "## fastapi"
   ]
  },
  {
   "attachments": {},
   "cell_type": "markdown",
   "metadata": {},
   "source": [
    "## httpx"
   ]
  },
  {
   "attachments": {},
   "cell_type": "markdown",
   "metadata": {},
   "source": [
    "## hypothesis"
   ]
  },
  {
   "attachments": {},
   "cell_type": "markdown",
   "metadata": {},
   "source": [
    "## itertools"
   ]
  },
  {
   "attachments": {},
   "cell_type": "markdown",
   "metadata": {},
   "source": [
    "## logging"
   ]
  },
  {
   "attachments": {},
   "cell_type": "markdown",
   "metadata": {},
   "source": [
    "**logging** module is part of the standard library and provides a flexible framework for emitting log messages from application. It allows you to control the logging behavior, including the message format, output destination, log levels and more. The **logging** module supports various handlers and formatters to customize the log output.\n",
    "\n",
    "The **config** sub-module provides two methods **dictConfig** and **fileConfig**, for configuting logging using configuration files or Python dictionaries.\n",
    "\n",
    "1. **dictConfig**: This method allows you to configure the logging system using a Python dictionary. We can define the logging configuration directly in code by providing a dictionary that specifies the handlers formatters, loggers, and their properties. The **dictConfig** method is useful when you want to programmatically configure logging withou relying on external configuration files.\n",
    "2. **fileConfig**: This method allows you to configure the logging system using an external configuration file. We can define the logging configuration in a separate file, typically using the INI or YAML format. The **fileConfig** method reads the configuration from the file and applies it to the loggin system. This approach is useful when you want to change the logging behavior without modifying the code, as you can easily modify the configuration file."
   ]
  },
  {
   "cell_type": "code",
   "execution_count": 4,
   "metadata": {},
   "outputs": [],
   "source": [
    "import logging.config\n",
    "\n",
    "logging.config.dictConfig({\n",
    "    'version': 1,\n",
    "    'handlers': {\n",
    "        'console': {\n",
    "            'class': 'logging.StreamHandler',\n",
    "            'level': 'INFO',\n",
    "            'formatter': 'simple',\n",
    "        },\n",
    "    },\n",
    "    'formatters': {\n",
    "        'simple': {\n",
    "            'format': '%(asctime)s - %(levelname)s - %(message)s',\n",
    "        },\n",
    "    },\n",
    "    'root': {\n",
    "        'level': 'DEBUG',\n",
    "        'handlers': ['console'],\n",
    "    },\n",
    "})"
   ]
  },
  {
   "cell_type": "code",
   "execution_count": 5,
   "metadata": {},
   "outputs": [
    {
     "name": "stderr",
     "output_type": "stream",
     "text": [
      "2023-07-05 20:56:52,378 - INFO - This is an informational message\n",
      "2023-07-05 20:56:52,378 - WARNING - This is a warning message\n"
     ]
    }
   ],
   "source": [
    "logging.info('This is an informational message')\n",
    "logging.warning('This is a warning message')"
   ]
  },
  {
   "attachments": {},
   "cell_type": "markdown",
   "metadata": {},
   "source": [
    "This example configures a simple logging setup with a console handlerand simple formatter. The root logger is set to the **DEBUG** level, and log messages will be formatted as per the specified format.\n",
    "\n",
    "With the logging system configured, you we can use the various logging methods (**debug()**, **info()**, **warning()**, etc.) to emit log messages throughout our codebase.\n",
    "\n",
    "There are more options to explore in the documentation https://docs.python.org/3/library/logging.config.html"
   ]
  },
  {
   "attachments": {},
   "cell_type": "markdown",
   "metadata": {},
   "source": [
    "## psycopg2"
   ]
  },
  {
   "attachments": {},
   "cell_type": "markdown",
   "metadata": {},
   "source": [
    "## pydantic"
   ]
  },
  {
   "attachments": {},
   "cell_type": "markdown",
   "metadata": {},
   "source": [
    "## pytest"
   ]
  },
  {
   "attachments": {},
   "cell_type": "markdown",
   "metadata": {},
   "source": [
    "##  pytest_lazyfixture"
   ]
  },
  {
   "attachments": {},
   "cell_type": "markdown",
   "metadata": {},
   "source": [
    "## schemathesis"
   ]
  },
  {
   "attachments": {},
   "cell_type": "markdown",
   "metadata": {},
   "source": [
    "## sqlalchemy"
   ]
  },
  {
   "attachments": {},
   "cell_type": "markdown",
   "metadata": {},
   "source": [
    "## starlette"
   ]
  },
  {
   "attachments": {},
   "cell_type": "markdown",
   "metadata": {},
   "source": [
    "## stomp"
   ]
  },
  {
   "attachments": {},
   "cell_type": "markdown",
   "metadata": {},
   "source": [
    "## tempfile"
   ]
  },
  {
   "attachments": {},
   "cell_type": "markdown",
   "metadata": {},
   "source": [
    "## typer"
   ]
  },
  {
   "attachments": {},
   "cell_type": "markdown",
   "metadata": {},
   "source": [
    "## typing"
   ]
  },
  {
   "attachments": {},
   "cell_type": "markdown",
   "metadata": {},
   "source": [
    "## unittest"
   ]
  },
  {
   "attachments": {},
   "cell_type": "markdown",
   "metadata": {},
   "source": [
    "## urllib"
   ]
  },
  {
   "attachments": {},
   "cell_type": "markdown",
   "metadata": {},
   "source": [
    "The **urllib** module in Python provides a set of functions and classes for working with URLs. It is divided into several sub-modules, including **parse**, **requests** and **error**.\n",
    "\n",
    "1. **urllib.parse** (also known ad **urlparse**):\n",
    "* This sub-module provides functions for parsing and manipulating URLs.\n",
    "* **urlparse**: Parses a URL string and returns a named tuple with its components (scheme, netloc, path, etc.).\n",
    "* **urlunparse**: Takes a named tuple of URL components and returns a complete URL string.\n",
    "* **urljoin**: Resolves a relative URL against a base URL\n",
    "* **urlencode**: Encodes a dictionary of query parameters into a URL-encoded string.\n",
    "2. **urlib.requests**:\n",
    "* This sub-module provides classes and functions for making HTTP requests and working with URLs.\n",
    "* **urlopen**: Opens a URL and returns a file-like object that can be used to read its contents.\n",
    "* **urlretrieve**: Downloads a URL and saves its contents to a local file.\n",
    "* **Request**: Represents and HTTP request and allows you to customize headers, method, and other parameters.\n",
    "* **OpenerDirector**: A class that manages the opening of URLs, allowing you to customize the request process\n",
    "3. **urllib.error** (also known as **HTTPError**):\n",
    "* This sub-module provides exceptions related to URL operations and HTTP errors.\n",
    "* **HTTPError**: Raised when an HTTP request returns an error status code (e.g., 404, 500).\n",
    "* **URLError**: Raised for general URL-related errors."
   ]
  },
  {
   "attachments": {},
   "cell_type": "markdown",
   "metadata": {},
   "source": [
    "Simple example that demonstrates the usage of **urllib.request** to make a HTTP request and retrieve the response:"
   ]
  },
  {
   "cell_type": "code",
   "execution_count": 6,
   "metadata": {},
   "outputs": [
    {
     "name": "stdout",
     "output_type": "stream",
     "text": [
      "<!doctype html>\n",
      "<html>\n",
      "<head>\n",
      "    <title>Example Domain</title>\n",
      "\n",
      "    <meta charset=\"utf-8\" />\n",
      "    <meta http-equiv=\"Content-type\" content=\"text/html; charset=utf-8\" />\n",
      "    <meta name=\"viewport\" content=\"width=device-width, initial-scale=1\" />\n",
      "    <style type=\"text/css\">\n",
      "    body {\n",
      "        background-color: #f0f0f2;\n",
      "        margin: 0;\n",
      "        padding: 0;\n",
      "        font-family: -apple-system, system-ui, BlinkMacSystemFont, \"Segoe UI\", \"Open Sans\", \"Helvetica Neue\", Helvetica, Arial, sans-serif;\n",
      "        \n",
      "    }\n",
      "    div {\n",
      "        width: 600px;\n",
      "        margin: 5em auto;\n",
      "        padding: 2em;\n",
      "        background-color: #fdfdff;\n",
      "        border-radius: 0.5em;\n",
      "        box-shadow: 2px 3px 7px 2px rgba(0,0,0,0.02);\n",
      "    }\n",
      "    a:link, a:visited {\n",
      "        color: #38488f;\n",
      "        text-decoration: none;\n",
      "    }\n",
      "    @media (max-width: 700px) {\n",
      "        div {\n",
      "            margin: 0 auto;\n",
      "            width: auto;\n",
      "        }\n",
      "    }\n",
      "    </style>    \n",
      "</head>\n",
      "\n",
      "<body>\n",
      "<div>\n",
      "    <h1>Example Domain</h1>\n",
      "    <p>This domain is for use in illustrative examples in documents. You may use this\n",
      "    domain in literature without prior coordination or asking for permission.</p>\n",
      "    <p><a href=\"https://www.iana.org/domains/example\">More information...</a></p>\n",
      "</div>\n",
      "</body>\n",
      "</html>\n",
      "\n"
     ]
    }
   ],
   "source": [
    "import urllib.request\n",
    "\n",
    "url = 'https://www.example.com'\n",
    "response = urllib.request.urlopen(url)\n",
    "html = response.read().decode('utf-8')\n",
    "print(html)"
   ]
  },
  {
   "attachments": {},
   "cell_type": "markdown",
   "metadata": {},
   "source": [
    "In the example above, the **urlopen** function is used to open URL and obtain a file-like object representing the response. The **read** method is then called retrieve the content of the response, which is decoded using the specified encoding (in this case, UTF-8). Finally, the HTML content is printed out.\n",
    "\n",
    "**urllib** is a modul for making basic HTTP requests and working with URLs. For more advanced HTTP functionality, we should consider using third-party libraries such as **requests**, which provides a higher-level interface and additional features."
   ]
  },
  {
   "attachments": {},
   "cell_type": "markdown",
   "metadata": {},
   "source": [
    "## uuid"
   ]
  },
  {
   "attachments": {},
   "cell_type": "markdown",
   "metadata": {},
   "source": [
    "## uvicorn"
   ]
  },
  {
   "attachments": {},
   "cell_type": "markdown",
   "metadata": {},
   "source": [
    "## __future__"
   ]
  },
  {
   "attachments": {},
   "cell_type": "markdown",
   "metadata": {},
   "source": [
    "s"
   ]
  }
 ],
 "metadata": {
  "kernelspec": {
   "display_name": "base",
   "language": "python",
   "name": "python3"
  },
  "language_info": {
   "codemirror_mode": {
    "name": "ipython",
    "version": 3
   },
   "file_extension": ".py",
   "mimetype": "text/x-python",
   "name": "python",
   "nbconvert_exporter": "python",
   "pygments_lexer": "ipython3",
   "version": "3.10.11"
  },
  "orig_nbformat": 4
 },
 "nbformat": 4,
 "nbformat_minor": 2
}
