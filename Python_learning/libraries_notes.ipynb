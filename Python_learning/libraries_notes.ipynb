{
 "cells": [
  {
   "attachments": {},
   "cell_type": "markdown",
   "metadata": {},
   "source": [
    "# Notes about liblaries which I didn't have time to explore but i know some basix and do not want to be cofused"
   ]
  },
  {
   "attachments": {},
   "cell_type": "markdown",
   "metadata": {},
   "source": [
    "## Table of Contents\n",
    "\n",
    "* [alembic](##alembic)\n",
    "* [asgi_lifespan](##asgi_lifespan)\n",
    "* [async_lru](##async_lru)\n",
    "* [cachetools](##cachetools)\n",
    "* [cryptojwt.key_jar](##cryptojwt.key_jar)\n",
    "* [fastapi](##fastapi)\n",
    "* [httpx](##httpx)\n",
    "* [hypothesis](##hypothesis)\n",
    "* [itertools](##itertools)\n",
    "* [logging](##logging)\n",
    "* [psycopg2](##psycopg2)\n",
    "* [pydantic](##pydantic)\n",
    "* [pytest](##pytest)\n",
    "* [pytest_lazyfixture](##pytest_lazyfixture)\n",
    "* [schemathesis](##schemathesis)\n",
    "* [sqlalchemy](##sqlalchemy)\n",
    "* [starlette](##starlette)\n",
    "* [stomp](##stomp)\n",
    "* [tempfile](##tempfile)\n",
    "* [typer](##typer)\n",
    "* [typing](##typing)\n",
    "* [unittest](##unittest)\n",
    "* [urllib](##urllib)\n",
    "* [uuid](##uuid)\n",
    "* [uvicorn](##uvicorn)\n",
    "* [__future__](##__future__)\n"
   ]
  },
  {
   "attachments": {},
   "cell_type": "markdown",
   "metadata": {},
   "source": [
    "## alembic"
   ]
  },
  {
   "attachments": {},
   "cell_type": "markdown",
   "metadata": {},
   "source": [
    "## asgi_lifespan"
   ]
  },
  {
   "attachments": {},
   "cell_type": "markdown",
   "metadata": {},
   "source": [
    "## async_lru"
   ]
  },
  {
   "attachments": {},
   "cell_type": "markdown",
   "metadata": {},
   "source": [
    "## cachetools"
   ]
  },
  {
   "attachments": {},
   "cell_type": "markdown",
   "metadata": {},
   "source": [
    "## cryptojwt.key_jar"
   ]
  },
  {
   "attachments": {},
   "cell_type": "markdown",
   "metadata": {},
   "source": [
    "## fastapi"
   ]
  },
  {
   "attachments": {},
   "cell_type": "markdown",
   "metadata": {},
   "source": [
    "## httpx"
   ]
  },
  {
   "attachments": {},
   "cell_type": "markdown",
   "metadata": {},
   "source": [
    "## hypothesis"
   ]
  },
  {
   "attachments": {},
   "cell_type": "markdown",
   "metadata": {},
   "source": [
    "## itertools"
   ]
  },
  {
   "attachments": {},
   "cell_type": "markdown",
   "metadata": {},
   "source": [
    "## logging"
   ]
  },
  {
   "attachments": {},
   "cell_type": "markdown",
   "metadata": {},
   "source": [
    "**logging** module is part of the standard library and provides a flexible framework for emitting log messages from application. It allows you to control the logging behavior, including the message format, output destination, log levels and more. The **logging** module supports various handlers and formatters to customize the log output.\n",
    "\n",
    "The **config** sub-module provides two methods **dictConfig** and **fileConfig**, for configuting logging using configuration files or Python dictionaries.\n",
    "\n",
    "1. **dictConfig**: This method allows you to configure the logging system using a Python dictionary. We can define the logging configuration directly in code by providing a dictionary that specifies the handlers formatters, loggers, and their properties. The **dictConfig** method is useful when you want to programmatically configure logging withou relying on external configuration files.\n",
    "2. **fileConfig**: This method allows you to configure the logging system using an external configuration file. We can define the logging configuration in a separate file, typically using the INI or YAML format. The **fileConfig** method reads the configuration from the file and applies it to the loggin system. This approach is useful when you want to change the logging behavior without modifying the code, as you can easily modify the configuration file."
   ]
  },
  {
   "cell_type": "code",
   "execution_count": 4,
   "metadata": {},
   "outputs": [],
   "source": [
    "import logging.config\n",
    "\n",
    "logging.config.dictConfig({\n",
    "    'version': 1,\n",
    "    'handlers': {\n",
    "        'console': {\n",
    "            'class': 'logging.StreamHandler',\n",
    "            'level': 'INFO',\n",
    "            'formatter': 'simple',\n",
    "        },\n",
    "    },\n",
    "    'formatters': {\n",
    "        'simple': {\n",
    "            'format': '%(asctime)s - %(levelname)s - %(message)s',\n",
    "        },\n",
    "    },\n",
    "    'root': {\n",
    "        'level': 'DEBUG',\n",
    "        'handlers': ['console'],\n",
    "    },\n",
    "})"
   ]
  },
  {
   "cell_type": "code",
   "execution_count": 5,
   "metadata": {},
   "outputs": [
    {
     "name": "stderr",
     "output_type": "stream",
     "text": [
      "2023-07-05 20:56:52,378 - INFO - This is an informational message\n",
      "2023-07-05 20:56:52,378 - WARNING - This is a warning message\n"
     ]
    }
   ],
   "source": [
    "logging.info('This is an informational message')\n",
    "logging.warning('This is a warning message')"
   ]
  },
  {
   "attachments": {},
   "cell_type": "markdown",
   "metadata": {},
   "source": [
    "This example configures a simple logging setup with a console handlerand simple formatter. The root logger is set to the **DEBUG** level, and log messages will be formatted as per the specified format.\n",
    "\n",
    "With the logging system configured, you we can use the various logging methods (**debug()**, **info()**, **warning()**, etc.) to emit log messages throughout our codebase.\n",
    "\n",
    "There are more options to explore in the documentation https://docs.python.org/3/library/logging.config.html"
   ]
  },
  {
   "attachments": {},
   "cell_type": "markdown",
   "metadata": {},
   "source": [
    "## psycopg2"
   ]
  },
  {
   "attachments": {},
   "cell_type": "markdown",
   "metadata": {},
   "source": [
    "## pydantic"
   ]
  },
  {
   "attachments": {},
   "cell_type": "markdown",
   "metadata": {},
   "source": [
    "The **pydantic** library is a powerful data validation and parsing library. It provides a concise way to define data schemas, validate input data, and convert data between differen representations.\n",
    "1. **pydantic.BaseModel**:\n",
    "    * The **BaseModel** class is the core component of **pydantic**. It allows us to define data models by subclassing it.\n",
    "    * **BaseModel** provides automatic data validation, parsing and serialization/deserialization based on the defined field types and constraints.\n",
    "2. **pydantic.AnyUrl**:\n",
    "    * **AnyUrl** is a type hint provided by **pydantic** for representing URLs in the data models.\n",
    "    * It allows you to validate and parse URLs, ensuring they are in the correct format.\n",
    "3. **pydantic.EmailStr**:\n",
    "    * **EmailStr** is a type hint provided by **pydantic** for representing email addresses in the data models.\n",
    "    * It allows you to validate and parse email addresses, ensuring they follow the correct styntax.\n",
    "4. **pydantic.validator**:\n",
    "    * The **validator** decorator is used to define custom validation functions for fields in a **BaseModel**.\n",
    "It allows you to perform additional validation logic on the fields values, beyond the built-in type validation.\n",
    "5. **pydantic.typing.Literal**:\n",
    "    * **Literal** is a type hint provided by **pydantic** that allows you to specify a finite set of possible values for a field.\n",
    "It ensures that the field value matches one of the specified literal values.\n",
    "6. **pydantic.AnyHttpUrl**:\n",
    "    * **AntyHttpUrl** is a type hint provided by **pydantic** that represents any HTTP or HTTPS URL.\n",
    "It combines the functionality of **AnyUrl** and adds specific validation for HTTP/HTTPS URLs.\n",
    "7. **pydantic.Field**:\n",
    "    * **Field** is a class provided by **pydantic** that allows you to specify additional metadata for fields in a **BaseModel**.\n",
    "    * It allows you to customize various aspects of the field, such as its default value, validation rules, and more.\n",
    "\n",
    "These are some of the important components of the **pydantic** library. They help you define robust data models, validate input data, and ensure the data adheres to the specified constraints and types. **pydantic** is widely used in various domains, including web development, data validation, and API development."
   ]
  },
  {
   "attachments": {},
   "cell_type": "markdown",
   "metadata": {},
   "source": [
    "## pytest"
   ]
  },
  {
   "attachments": {},
   "cell_type": "markdown",
   "metadata": {},
   "source": [
    "##  pytest_lazyfixture"
   ]
  },
  {
   "attachments": {},
   "cell_type": "markdown",
   "metadata": {},
   "source": [
    "## schemathesis"
   ]
  },
  {
   "attachments": {},
   "cell_type": "markdown",
   "metadata": {},
   "source": [
    "## sqlalchemy"
   ]
  },
  {
   "attachments": {},
   "cell_type": "markdown",
   "metadata": {},
   "source": [
    "## starlette"
   ]
  },
  {
   "attachments": {},
   "cell_type": "markdown",
   "metadata": {},
   "source": [
    "The **starlette** library is a lightweight, high-performance framework for building asynchronous web applications in Python. It is designed to be simple and expressive providing the necessary tools and components to develop efficient web APIs and services.\n",
    "1. **starlette.config.Config**:\n",
    "    * This module provides a configuration system fo managing application settings.\n",
    "    * **Config**: Represents a configuration object that can be used to retrieve values from environment variables or configuration files.\n",
    "2. **starlette.concurrency.iterate_in_threadpool**:\n",
    "    * This module provides a utility function for executing a coroutine in a thread pool.\n",
    "    * **iterate_in_threadpool**: Executes an asynchronous generator or iterable in a separate thread pool, allowing concurrent execution.\n",
    "3. **starletter.middleware.base.BaseHTTPMiddleware**:\n",
    "    * This module defines the base class for implementing HTTP middleware in Starlette.\n",
    "    * **BaseHTTPMiddleware**: Represents a base middleware class that can be subclassed to create custom middleware.\n",
    "4. **starlette.requests.Requests**:\n",
    "    * This module defines the **Request** class, which represents an incoming HTTP request in Starlette.\n",
    "    * **Request**: Contains information about the incoming request, such as headers, cookies, query parameters, and more.\n",
    "5. **starletter.responses.Response**, **starlette.responses.StreamingResponse**, **starlette.responses.RedirectResponse**:\n",
    "    * These modules provide various classes for constructing and returning HTTP responses.\n",
    "    * **Response**: Represents a simple HTTP response with a given body, status code, and headers.\n",
    "    * **StreamingResponse**: Represents a streaming response that allowd sending data in chunks.\n",
    "    * **RedirectResponse**: Represents a redirect response that redirects the client to a different URL.\n",
    "6. **starlette.status.HTTP_200_OK**, **starlette.status.HTTP_404_NOT_FOUND**, **starlette.status.HTTP_422_UNPROCESSABLE_ENTITY**, **starletter.status.HTTP_303_SEE_OTHER**:\n",
    "    * These modules define constants for commonly used HTTP status codes in Starlette.\n",
    "\n",
    "Starlette library offer many other features such as routing, templates, authentication, and more, to help you build powerful web applications."
   ]
  },
  {
   "attachments": {},
   "cell_type": "markdown",
   "metadata": {},
   "source": [
    "## stomp"
   ]
  },
  {
   "attachments": {},
   "cell_type": "markdown",
   "metadata": {},
   "source": [
    "## tempfile"
   ]
  },
  {
   "attachments": {},
   "cell_type": "markdown",
   "metadata": {},
   "source": [
    "## typer"
   ]
  },
  {
   "attachments": {},
   "cell_type": "markdown",
   "metadata": {},
   "source": [
    "**Typer** is a library for building command-line interfaces (CLIs) with Python. It provides a simple and intuitive way to create command-line applications b y leveraging Python type hints.\n",
    "Key features of **Typer**:\n",
    "1. Comand-line interface (CLI) Creation:\n",
    "    * **Typer** allows you to create CLI applications with minimal code and effort.\n",
    "    * It provides decorators and functions to define commands, arguments, and options for our CLI.\n",
    "    * We can define functions that serve as the entry points for each command in our application.\n",
    "2. Automatic Type Infewrence\n",
    "    * **Typer** leverages Python's type hints to automatically infer the types of command-line arguments and options.\n",
    "    * It uses type annotations to validate and parse user input, making it easier to handle different data types and improve the robustness of our CLI.\n",
    "3. Interactive Auto-Completion:\n",
    "    * **Typer** offers interactive auto-completion, allowing users to tab through available commands, arguments, and options\n",
    "    * It integrates with popular shell auto-completion tools like Bash and Zsh, making it easier for users to discover and use our CLI.\n",
    "4. Rich Help Text Generation:\n",
    "    * **Typer** generates help texts automatically based on your CLI's structure and type hints.\n",
    "    * It provides built-in support for displaying comad and argument descriptions, default values, type information, and more.\n",
    "    * Help texts are generated in a standarized and user-friendly format, making it easier for users to understand and use our CLI.\n",
    "5. Callback Fun ctions and Event Handling:\n",
    "    * **Typer** allows you to define callback functions that are executed when a specific command or option is invoked.\n",
    "    * We can use decorators and event handlers to perform additional actions before or after command execution, such as logging, validation, or cleanup tasks.\n",
    "6. Integration with Other Libraries:\n",
    "    * **Typer** integrates well with other Python libraries and frameworks.\n",
    "    * I supports type hints from libraries like Click and Pydantic, making it easier to reuse existing code and leverage their functionalities.\n",
    "    * **Typer can also be used in conjunction with other frameworks like FastAPi to build complete end-to-end applications.\n",
    "\n",
    "    Overall, **Typer** simplifies the process of creating command-line interfaces in Python. It leverages type hints, provides interactive auto-completion, generates rich help texts, and supprots event handling. With its intuitive API and seamless integration with other libraries, **Typer** enables developers to quickly build robust and user-friendly command-line applications.\n"
   ]
  },
  {
   "attachments": {},
   "cell_type": "markdown",
   "metadata": {},
   "source": [
    "## typing"
   ]
  },
  {
   "attachments": {},
   "cell_type": "markdown",
   "metadata": {},
   "source": [
    "## unittest"
   ]
  },
  {
   "attachments": {},
   "cell_type": "markdown",
   "metadata": {},
   "source": [
    "## urllib"
   ]
  },
  {
   "attachments": {},
   "cell_type": "markdown",
   "metadata": {},
   "source": [
    "The **urllib** module in Python provides a set of functions and classes for working with URLs. It is divided into several sub-modules, including **parse**, **requests** and **error**.\n",
    "\n",
    "1. **urllib.parse** (also known ad **urlparse**):\n",
    "    * This sub-module provides functions for parsing and manipulating URLs.\n",
    "    * **urlparse**: Parses a URL string and returns a named tuple with its components (scheme, netloc, path, etc.).\n",
    "    * **urlunparse**: Takes a named tuple of URL components and returns a complete URL string.\n",
    "    * **urljoin**: Resolves a relative URL against a base URL\n",
    "    * **urlencode**: Encodes a dictionary of query parameters into a URL-encoded string.\n",
    "2. **urlib.requests**:\n",
    "    * This sub-module provides classes and functions for making HTTP requests and working with URLs.\n",
    "    * **urlopen**: Opens a URL and returns a file-like object that can be used to read its contents.\n",
    "    * **urlretrieve**: Downloads a URL and saves its contents to a local file.\n",
    "    * **Request**: Represents and HTTP request and allows you to customize headers, method, and other parameters.\n",
    "    * **OpenerDirector**: A class that manages the opening of URLs, allowing you to customize the request process\n",
    "3. **urllib.error** (also known as **HTTPError**):\n",
    "    * This sub-module provides exceptions related to URL operations and HTTP errors.\n",
    "    * **HTTPError**: Raised when an HTTP request returns an error status code (e.g., 404, 500).\n",
    "    * **URLError**: Raised for general URL-related errors."
   ]
  },
  {
   "attachments": {},
   "cell_type": "markdown",
   "metadata": {},
   "source": [
    "Simple example that demonstrates the usage of **urllib.request** to make a HTTP request and retrieve the response:"
   ]
  },
  {
   "cell_type": "code",
   "execution_count": 6,
   "metadata": {},
   "outputs": [
    {
     "name": "stdout",
     "output_type": "stream",
     "text": [
      "<!doctype html>\n",
      "<html>\n",
      "<head>\n",
      "    <title>Example Domain</title>\n",
      "\n",
      "    <meta charset=\"utf-8\" />\n",
      "    <meta http-equiv=\"Content-type\" content=\"text/html; charset=utf-8\" />\n",
      "    <meta name=\"viewport\" content=\"width=device-width, initial-scale=1\" />\n",
      "    <style type=\"text/css\">\n",
      "    body {\n",
      "        background-color: #f0f0f2;\n",
      "        margin: 0;\n",
      "        padding: 0;\n",
      "        font-family: -apple-system, system-ui, BlinkMacSystemFont, \"Segoe UI\", \"Open Sans\", \"Helvetica Neue\", Helvetica, Arial, sans-serif;\n",
      "        \n",
      "    }\n",
      "    div {\n",
      "        width: 600px;\n",
      "        margin: 5em auto;\n",
      "        padding: 2em;\n",
      "        background-color: #fdfdff;\n",
      "        border-radius: 0.5em;\n",
      "        box-shadow: 2px 3px 7px 2px rgba(0,0,0,0.02);\n",
      "    }\n",
      "    a:link, a:visited {\n",
      "        color: #38488f;\n",
      "        text-decoration: none;\n",
      "    }\n",
      "    @media (max-width: 700px) {\n",
      "        div {\n",
      "            margin: 0 auto;\n",
      "            width: auto;\n",
      "        }\n",
      "    }\n",
      "    </style>    \n",
      "</head>\n",
      "\n",
      "<body>\n",
      "<div>\n",
      "    <h1>Example Domain</h1>\n",
      "    <p>This domain is for use in illustrative examples in documents. You may use this\n",
      "    domain in literature without prior coordination or asking for permission.</p>\n",
      "    <p><a href=\"https://www.iana.org/domains/example\">More information...</a></p>\n",
      "</div>\n",
      "</body>\n",
      "</html>\n",
      "\n"
     ]
    }
   ],
   "source": [
    "import urllib.request\n",
    "\n",
    "url = 'https://www.example.com'\n",
    "response = urllib.request.urlopen(url)\n",
    "html = response.read().decode('utf-8')\n",
    "print(html)"
   ]
  },
  {
   "attachments": {},
   "cell_type": "markdown",
   "metadata": {},
   "source": [
    "In the example above, the **urlopen** function is used to open URL and obtain a file-like object representing the response. The **read** method is then called retrieve the content of the response, which is decoded using the specified encoding (in this case, UTF-8). Finally, the HTML content is printed out.\n",
    "\n",
    "**urllib** is a modul for making basic HTTP requests and working with URLs. For more advanced HTTP functionality, we should consider using third-party libraries such as **requests**, which provides a higher-level interface and additional features."
   ]
  },
  {
   "attachments": {},
   "cell_type": "markdown",
   "metadata": {},
   "source": [
    "## uuid"
   ]
  },
  {
   "attachments": {},
   "cell_type": "markdown",
   "metadata": {},
   "source": [
    "## uvicorn"
   ]
  },
  {
   "attachments": {},
   "cell_type": "markdown",
   "metadata": {},
   "source": [
    "The **uvicorn** library is a fast ASGI (Asynchronous Server Gateway Interface) server implementation for Python. It is designed to run Python web applications that are compatible with the ASGI specification. Key points about **uvicorn**:\n",
    "1. ASGI Server:\n",
    "    * **uvicorn** acts as a server that can handle web applications built using the ASGI protocol.\n",
    "    * ASGI is a standard interface between web servers and Python web applications or frameworks.\n",
    "    * ASGI allows for building asynchronous we applications that can handle high-concurrency and long-lived connections efficiently.\n",
    "2. High Performance:\n",
    "    * **uvicorn** is build on top of the **uvloop** and **httptools* libraries, which provide high performance asynchronous I/O operations and HTTP parsing respectively.\n",
    "    * This combination allows **uvicorn** to handle a large number of concurrent requests efficiently.\n",
    "3. Configuration:\n",
    "    * **uvicorn** provides various configuration options to customize the server behavior.\n",
    "    * You can configure settings such as host, port, number of workers, logging, and more.\n",
    "    * Configuration can be specified through comand-line arguments or by creating a configuration file.\n",
    "4. Automatic Code Reloading:\n",
    "    * **uvicorn** supports automatic code reloading, which means it can monitor your application's source files and automatically restart the server when changes are detected.\n",
    "    * This feature is useful during development, as it eliminates the need to manually restart the server after making code changes.\n",
    "5. Integration with ASGI Frameworks:\n",
    "    * **uvicorn** can be used with various ASGI-compatible frameworks, such as FastAPI, Starlette and Django.\n",
    "    * It provides a simple and consisten way to run these frameworks using the ASGI server.\n",
    "6. CLI Interface:\n",
    "    * **Uvicorn** provides a command-line interface (CLI) that allows you to start the server and specify the application to run.\n",
    "    * It supports various options for configuration, logging and reloading.\n",
    "\n",
    "**uvicorn** is widely used in the Python web development community due to its performance, ease of use, and compatibility with ASGI-based frameworks. It provides a solid foundation for running asynchronous web applications and handling high-concurrency scenarios."
   ]
  },
  {
   "attachments": {},
   "cell_type": "markdown",
   "metadata": {},
   "source": [
    "## __future__"
   ]
  },
  {
   "attachments": {},
   "cell_type": "markdown",
   "metadata": {},
   "source": [
    "s"
   ]
  }
 ],
 "metadata": {
  "kernelspec": {
   "display_name": "base",
   "language": "python",
   "name": "python3"
  },
  "language_info": {
   "codemirror_mode": {
    "name": "ipython",
    "version": 3
   },
   "file_extension": ".py",
   "mimetype": "text/x-python",
   "name": "python",
   "nbconvert_exporter": "python",
   "pygments_lexer": "ipython3",
   "version": "3.10.11"
  },
  "orig_nbformat": 4
 },
 "nbformat": 4,
 "nbformat_minor": 2
}
