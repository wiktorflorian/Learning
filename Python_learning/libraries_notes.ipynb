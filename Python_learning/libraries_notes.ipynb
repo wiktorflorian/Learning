{
 "cells": [
  {
   "attachments": {},
   "cell_type": "markdown",
   "metadata": {},
   "source": [
    "# Notes about liblaries which I didn't have time to explore but i know some basix and do not want to be cofused"
   ]
  },
  {
   "attachments": {},
   "cell_type": "markdown",
   "metadata": {},
   "source": [
    "## Table of Contents\n",
    "\n",
    "* [alembic](##alembic)\n",
    "* [asgi_lifespan](##asgi_lifespan)\n",
    "* [async_lru](##async_lru)\n",
    "* [cachetools](##cachetools)\n",
    "* [cryptojwt.key_jar](##cryptojwt.key_jar)\n",
    "* [fastapi](##fastapi)\n",
    "* [httpx](##httpx)\n",
    "* [hypothesis](##hypothesis)\n",
    "* [itertools](##itertools)\n",
    "* [logging](##logging)\n",
    "* [oidcrp.pr_handler](##oidcrp.pr_handler)\n",
    "* [psycopg2](##psycopg2)\n",
    "* [pydantic](##pydantic)\n",
    "* [pytest](##pytest)\n",
    "* [pytest_lazyfixture](##pytest_lazyfixture)\n",
    "* [schemathesis](##schemathesis)\n",
    "* [sqlalchemy](##sqlalchemy)\n",
    "* [starlette](##starlette)\n",
    "* [stomp](##stomp)\n",
    "* [tempfile](##tempfile)\n",
    "* [typer](##typer)\n",
    "* [typing](##typing)\n",
    "* [unittest](##unittest)\n",
    "* [urllib](##urllib)\n",
    "* [uuid](##uuid)\n",
    "* [uvicorn](##uvicorn)\n",
    "* [__future__](##__future__)\n"
   ]
  },
  {
   "attachments": {},
   "cell_type": "markdown",
   "metadata": {},
   "source": [
    "## alembic"
   ]
  },
  {
   "attachments": {},
   "cell_type": "markdown",
   "metadata": {},
   "source": [
    "This library is a database migration tool for SQLAlchemy. It provides a way to manage database schema changes over time. The **context** module provides a context for Alembic operations, and the **op** module provides operations to modify the database schema.\n",
    "\n",
    "For example:"
   ]
  },
  {
   "cell_type": "code",
   "execution_count": null,
   "metadata": {},
   "outputs": [],
   "source": [
    "from alembic import context\n",
    "from alembic import op\n",
    "\n",
    "# Define a migration function\n",
    "def upgrade():\n",
    "    op.create_table(\"users\",\n",
    "                    op.Column(\"id\", op.Integer, primary_key=True),\n",
    "                    op.Column(\"name\", op.String(50))\n",
    "                    )\n",
    "    \n",
    "# Configure the Alembic context and run migrations\n",
    "with context.begin_transaction():\n",
    "    context.configure(...)\n",
    "    upgrade()"
   ]
  },
  {
   "attachments": {},
   "cell_type": "markdown",
   "metadata": {},
   "source": [
    "## asgi_lifespan"
   ]
  },
  {
   "attachments": {},
   "cell_type": "markdown",
   "metadata": {},
   "source": [
    "This library provides the **LifespanManager** class, which manages the lifespan of an ASGI (Asynchronous Server Gateway Interface) application. It allows you to perform setup and teardown operations when the application starts and stops.\n",
    "\n",
    "For example:"
   ]
  },
  {
   "cell_type": "code",
   "execution_count": null,
   "metadata": {},
   "outputs": [],
   "source": [
    "from asgi_lifespan import LifespanManager\n",
    "\n",
    "async def startup():\n",
    "    # Perform startup operations\n",
    "\n",
    "async def shutdown():\n",
    "    # Perform shutdown operations\n",
    "\n",
    "app = ...\n",
    "lifespan = LifespanManager(app, startup=startup, shutdown=shutdown)"
   ]
  },
  {
   "attachments": {},
   "cell_type": "markdown",
   "metadata": {},
   "source": [
    "## async_lru"
   ]
  },
  {
   "attachments": {},
   "cell_type": "markdown",
   "metadata": {},
   "source": [
    "This library provides an asynchronous version of the LRU (Least Recently Used) cache. The **alru_cache** decorator is used to cache the results of async functions based on their arguments.\n",
    "\n",
    "For example:"
   ]
  },
  {
   "cell_type": "code",
   "execution_count": 2,
   "metadata": {},
   "outputs": [
    {
     "name": "stdout",
     "output_type": "stream",
     "text": [
      "Data from https://example.com\n"
     ]
    }
   ],
   "source": [
    "from async_lru import alru_cache\n",
    "import asyncio\n",
    "\n",
    "@alru_cache\n",
    "async def fetch_data(url: str) -> str:\n",
    "    # simulate async data fetching\n",
    "    await asyncio.sleep(1)\n",
    "    return f\"Data from {url}\"\n",
    "\n",
    "data = await fetch_data(\"https://example.com\")\n",
    "print(data)"
   ]
  },
  {
   "attachments": {},
   "cell_type": "markdown",
   "metadata": {},
   "source": [
    "## cachetools"
   ]
  },
  {
   "attachments": {},
   "cell_type": "markdown",
   "metadata": {},
   "source": [
    "This library provides various caching utilities. The **TLLCache** class allows you to create time-based caches with expiration policies. The **cached** decorator is used to cache the results of a function.\n",
    "\n",
    "For example:"
   ]
  },
  {
   "cell_type": "code",
   "execution_count": 6,
   "metadata": {},
   "outputs": [
    {
     "name": "stdout",
     "output_type": "stream",
     "text": [
      "10\n"
     ]
    }
   ],
   "source": [
    "from cachetools import TTLCache, cached\n",
    "\n",
    "@cached(cache=TTLCache(maxsize=100, ttl=60))\n",
    "def compute_result(x: int) -> int:\n",
    "    # Expensive computation\n",
    "    return x * 2\n",
    "\n",
    "result = compute_result(5)\n",
    "print(result)"
   ]
  },
  {
   "attachments": {},
   "cell_type": "markdown",
   "metadata": {},
   "source": [
    "## cryptojwt.key_jar"
   ]
  },
  {
   "attachments": {},
   "cell_type": "markdown",
   "metadata": {},
   "source": [
    "This module provides the **KeyJar** class for managing sets of cryptographic keys. The **init_key_jar** function is used to initialize a **KeyJar** instance.\n",
    "\n",
    "For example:"
   ]
  },
  {
   "cell_type": "code",
   "execution_count": null,
   "metadata": {},
   "outputs": [],
   "source": [
    "from cryptojwt.key_jar import KeyJar, init_key_jar\n",
    "\n",
    "keys = {\n",
    "    \"my_key\": {\"kty\": \"oct\", \"k\": \"my_secret_key\"}\n",
    "}\n",
    "\n",
    "keyjar = init_key_jar(keys)"
   ]
  },
  {
   "attachments": {},
   "cell_type": "markdown",
   "metadata": {},
   "source": [
    "## fastapi"
   ]
  },
  {
   "attachments": {},
   "cell_type": "markdown",
   "metadata": {},
   "source": [
    "The **fastapi** library is a modern, fast (high-performance), web framework for building APIs with Python. It  provides a straightforward and intuituve way to create web applications and RESTful APIs.\n",
    "\n",
    "1. **FastAPI**: The **FastAPI** class is the core component of the **fastapi** library. It allows you to define routes, handle HTTP requests, and create endpoints for our API. It supports automatic requests and response validation, data serialization, and documentation generation.\n",
    "2. **Depends**: The **Depends** class is a dependency injection system provided by **fastapi**. It allows you to define dependencies for our API endpoints, such as database connections, authentication mechanisms, or external services.\n",
    "3. **Security**: The **Security** module provides tools and utilities fo handling security-related aspects in our API, such as authentication, authorization, and security schemes.\n",
    "4. **APIRouter**: The **APIRouter** class is used to define a group of related API routes. It allows you to organize your endpoints into logical units and mount them under a common prefix.\n",
    "5. **Body**: The **Body** class is used to define request bodies for our API endpoints. It allows us to specify the expected schema and data type of the request body.\n",
    "6. **Cookie**: The **Cookie** class is used to define cookies in HTTP requests and responses. It provides utilities for handling and manipulating cookies.\n",
    "7. **Form**: The **Form** class is used to define from data in HTTP requests. It allows you to parse and validate from data submitted by clients.\n",
    "8. **Header**: The **Header** class is used to define HTTP headers in requests and responses. It provides utilities for handling and manipulating headers.\n",
    "9. **Path**: The **Path** class is used to define path parameters in API routes. It allows you to extract values from the URL path and use them in our endpoint functions.\n",
    "10. **Query**: The **Query** class is used to define query parameters in API routes. It allows you to specify query parameters and their data types.\n",
    "11. **Response**: The **Response** class is used to define HTTP response in our API endpoints. It allows you to set response headers, status code, and response content.\n",
    "12. **status**: The **status** module provides constants for common HTTP status codes, such as **HTTP_200_OK**, **HTTP_404_NOT_FOUND**, **HTTP_422_UNPROCESSABLE** an more.\n",
    "13. **HTTPException**: The **HTTPException** class is used to raise HTTP exceptions in our API endpoints. It allows us to return custom HTTP error response with specific status codes and error messages.\n",
    "14. **openapi.models -> OauthFlowImplicit, OauthFlows**: These classes are part of the OpenAPI specification for documenting and defining OAuth 2.0 flows.\n",
    "15. **security -> HTTPAuthorizationCredentials, HTTPBasic, HTTPBasiscCredentials, HTTPBearer, OAuth2, OAuth2AuthorizationCodeBearer, OAuth2PasswordBearer, SecurityScopers**: These classes provide security-related functionalities, such as handling HTTP authentication, bearer tokens, and OAuth 2.0 authentication flows.\n",
    "16. **security.api_key -> APIKeyCookie, APIKeyHeader, APIKeyQuery**: These classes are used to define and handle API keys in different parts of an HTTP request, such as cookies, headers, or query parameters.\n",
    "17. **fastapi_sessions** module: This module provides implementations for managing sessions in FastAPI applications. It includes backend implementations like **InMemorryBackend** for storing session data in memory, frontend implementations like **CookieParameters** and **SessionCookie** for handling session cookies, and **session_verifier** for verifying session authenticity.\n",
    "\n",
    "FastAPI's sesign emphasizes performance, type safety, automatic documentation generation, and an intuotive API syntax. It has gained popularity due to its ease of use and efficient handling of high-concurrency scenarios."
   ]
  },
  {
   "attachments": {},
   "cell_type": "markdown",
   "metadata": {},
   "source": [
    "## httpx"
   ]
  },
  {
   "attachments": {},
   "cell_type": "markdown",
   "metadata": {},
   "source": [
    "The **httpx** library is a modern, async HTTP client for Python. It provides an easy-to-use interface for making HTTP requests and handling responses.\n",
    "\n",
    "1. **AsyncClient**: The **AsyncClient** class is the core component of the **httpx** library. It is an asynchronous HTTP client that allows us to send HTTP requests and receive responses asynchronously. It supports various HTTP methods like GET, POST, PUT, DELETE, and more.\n",
    "2. **Response**: The **Response** class represents an HTTP response received from a server. It provides access to the response status code, headers, and response content. It also offers convenient methods for accessing the response data, such as **json()**, **text()**, and **content()**.\n",
    "3. **ConnectError**: The **ConnectError** class is an exceptio that is raised when a connection to the server cannot be established. It  typically indicates network issues or server unavailability.\n",
    "4. **ConnectTimeout**: The **ConnectTimeout** class is an exception that is raised when a connection to the server times out. it occurs when the server does not respond within the specified timeout duration.\n",
    "5. **TransportError**: The **TransportError** class is a base exception class for transport-related errors. It encompasses various low-level transport errors that may occur during the HTTP request ptocess.\n",
    "6. **ReadTimeout**: The **ReadTieout** class is an exception that is raised when the server takes too long to send the reponse. It occurs when the response data is not received within the specified timeout duration.\n",
    "\n",
    "The **httpx** library offers a modern and intuitive API for making HTTP requests. It supports features like async/await syntax, connection pooling, timeouts, SSL verification, streaming responses, and more It is designed to be efficient, reliable, and flexible for working with various HTTP-based APIs and services.\n",
    "\n",
    "With **httpx**'s **AsyncClient**, we can perform high-performance, asynchronous HTTP requests in Python, making it suitable for applications that requie efficient handling of I/O operations and high-concurrency scenarios."
   ]
  },
  {
   "attachments": {},
   "cell_type": "markdown",
   "metadata": {},
   "source": [
    "**High-Concurrency Scenarios** refer to situtations where a system or application needs to handle a large number of concurrent operations or requests. This typically involves managin resources, handling synchronization, and ensuring scalability to handle the hight load efficiently."
   ]
  },
  {
   "attachments": {},
   "cell_type": "markdown",
   "metadata": {},
   "source": [
    "## hypothesis"
   ]
  },
  {
   "attachments": {},
   "cell_type": "markdown",
   "metadata": {},
   "source": [
    "This library is used for property-based testing. The **HealthCheck** class provides built-in health checks for hypothesis strategies. The **Settings** class allows us to configure various aspects of hypothesis behavior, such as the maximum number of examples generated.\n",
    "\n",
    "For example:"
   ]
  },
  {
   "cell_type": "code",
   "execution_count": null,
   "metadata": {},
   "outputs": [],
   "source": [
    "from hypothesis import HealthCheck, given, settings\n",
    "import hypothesis.strategies as staticmethod\n",
    "\n",
    "@settings(max_examples=100, suppress_health_check=[HealthCheck.too_slow])\n",
    "@given(st.integers())\n",
    "def test_my_property(x):\n",
    "    assert x % 2 ==0"
   ]
  },
  {
   "attachments": {},
   "cell_type": "markdown",
   "metadata": {},
   "source": [
    "## itertools"
   ]
  },
  {
   "attachments": {},
   "cell_type": "markdown",
   "metadata": {},
   "source": [
    "This module provides functions for efficient iteration and combination of iterable objects. It includes functions like **count**, **cycle**, **chain**, **combinations**, and more.\n",
    "\n",
    "For example:"
   ]
  },
  {
   "cell_type": "code",
   "execution_count": 3,
   "metadata": {},
   "outputs": [
    {
     "name": "stdout",
     "output_type": "stream",
     "text": [
      "1\n",
      "3\n",
      "5\n",
      "7\n",
      "9\n"
     ]
    }
   ],
   "source": [
    "import itertools\n",
    "\n",
    "# Generate an infinite sequence of numbers\n",
    "numbers = itertools.count(start=1, step=2)\n",
    "\n",
    "# Iterate over the numbers and print first 5\n",
    "for _ in range(5):\n",
    "    print(next(numbers))"
   ]
  },
  {
   "attachments": {},
   "cell_type": "markdown",
   "metadata": {},
   "source": [
    "## logging"
   ]
  },
  {
   "attachments": {},
   "cell_type": "markdown",
   "metadata": {},
   "source": [
    "**logging** module is part of the standard library and provides a flexible framework for emitting log messages from application. It allows you to control the logging behavior, including the message format, output destination, log levels and more. The **logging** module supports various handlers and formatters to customize the log output.\n",
    "\n",
    "The **config** sub-module provides two methods **dictConfig** and **fileConfig**, for configuting logging using configuration files or Python dictionaries.\n",
    "\n",
    "1. **dictConfig**: This method allows you to configure the logging system using a Python dictionary. We can define the logging configuration directly in code by providing a dictionary that specifies the handlers formatters, loggers, and their properties. The **dictConfig** method is useful when you want to programmatically configure logging withou relying on external configuration files.\n",
    "2. **fileConfig**: This method allows you to configure the logging system using an external configuration file. We can define the logging configuration in a separate file, typically using the INI or YAML format. The **fileConfig** method reads the configuration from the file and applies it to the loggin system. This approach is useful when you want to change the logging behavior without modifying the code, as you can easily modify the configuration file."
   ]
  },
  {
   "cell_type": "code",
   "execution_count": 4,
   "metadata": {},
   "outputs": [],
   "source": [
    "import logging.config\n",
    "\n",
    "logging.config.dictConfig({\n",
    "    'version': 1,\n",
    "    'handlers': {\n",
    "        'console': {\n",
    "            'class': 'logging.StreamHandler',\n",
    "            'level': 'INFO',\n",
    "            'formatter': 'simple',\n",
    "        },\n",
    "    },\n",
    "    'formatters': {\n",
    "        'simple': {\n",
    "            'format': '%(asctime)s - %(levelname)s - %(message)s',\n",
    "        },\n",
    "    },\n",
    "    'root': {\n",
    "        'level': 'DEBUG',\n",
    "        'handlers': ['console'],\n",
    "    },\n",
    "})"
   ]
  },
  {
   "cell_type": "code",
   "execution_count": 5,
   "metadata": {},
   "outputs": [
    {
     "name": "stderr",
     "output_type": "stream",
     "text": [
      "2023-07-05 20:56:52,378 - INFO - This is an informational message\n",
      "2023-07-05 20:56:52,378 - WARNING - This is a warning message\n"
     ]
    }
   ],
   "source": [
    "logging.info('This is an informational message')\n",
    "logging.warning('This is a warning message')"
   ]
  },
  {
   "attachments": {},
   "cell_type": "markdown",
   "metadata": {},
   "source": [
    "This example configures a simple logging setup with a console handlerand simple formatter. The root logger is set to the **DEBUG** level, and log messages will be formatted as per the specified format.\n",
    "\n",
    "With the logging system configured, you we can use the various logging methods (**debug()**, **info()**, **warning()**, etc.) to emit log messages throughout our codebase.\n",
    "\n",
    "There are more options to explore in the documentation https://docs.python.org/3/library/logging.config.html"
   ]
  },
  {
   "attachments": {},
   "cell_type": "markdown",
   "metadata": {},
   "source": [
    "## oidcrp.pr_handler"
   ]
  },
  {
   "attachments": {},
   "cell_type": "markdown",
   "metadata": {},
   "source": [
    "This module provides the **RPHandler** class, which is a reference implementation of an OpenID Connect Relying Party (RP) handler. It allows us to interact with OpenID Connect providers and handle authentication flows. We can use it to authenticate users and obtain user information from the provider.\n",
    "\n",
    "For example:"
   ]
  },
  {
   "cell_type": "code",
   "execution_count": null,
   "metadata": {},
   "outputs": [],
   "source": [
    "from oidcrp.rp_handler import RPHandler\n",
    "\n",
    "handler = RPHandler()\n",
    "# Configure the hanler with client details and other necessary parameters\n",
    "handler.register_client(...)\n",
    "\n",
    "# Authenticate the user and obtain user information\n",
    "auth_url = handler.begin(...)\n",
    "# Redirect the user to the authentication URL\n",
    "# After successful authentication, retrieve the user information\n",
    "user_info = handler.do(...)"
   ]
  },
  {
   "attachments": {},
   "cell_type": "markdown",
   "metadata": {},
   "source": [
    "## psycopg2"
   ]
  },
  {
   "attachments": {},
   "cell_type": "markdown",
   "metadata": {},
   "source": [
    "This library is a PostgreSQL database adapter for Python. It provides functions and classrs for interacting with PostgreSQL databases. The **DatabaseError** exception is a base class for PostgreSQL-related errors.\n",
    "\n",
    "For example:"
   ]
  },
  {
   "cell_type": "code",
   "execution_count": null,
   "metadata": {},
   "outputs": [],
   "source": [
    "import psycopg2\n",
    "\n",
    "# Connect to a PostgreSQL database\n",
    "conn = psycopg2.connect(host=\"localhost\", database=\"mydb\", user=\"myuser\", password=\"mypassword\")\n",
    "\n",
    "# Create a cursor and execute SQL queries\n",
    "cur = conn.cursor()\n",
    "cur.execute(\"SELECT * FROM users\")\n",
    "\n",
    "# Fetch the results\n",
    "results = cur.fetchall()\n",
    "\n",
    "# Close the cursor and the connection\n",
    "cur.close()\n",
    "conn.close()"
   ]
  },
  {
   "attachments": {},
   "cell_type": "markdown",
   "metadata": {},
   "source": [
    "## pydantic"
   ]
  },
  {
   "attachments": {},
   "cell_type": "markdown",
   "metadata": {},
   "source": [
    "The **pydantic** library is a powerful data validation and parsing library. It provides a concise way to define data schemas, validate input data, and convert data between differen representations.\n",
    "1. **pydantic.BaseModel**:\n",
    "    * The **BaseModel** class is the core component of **pydantic**. It allows us to define data models by subclassing it.\n",
    "    * **BaseModel** provides automatic data validation, parsing and serialization/deserialization based on the defined field types and constraints.\n",
    "2. **pydantic.AnyUrl**:\n",
    "    * **AnyUrl** is a type hint provided by **pydantic** for representing URLs in the data models.\n",
    "    * It allows you to validate and parse URLs, ensuring they are in the correct format.\n",
    "3. **pydantic.EmailStr**:\n",
    "    * **EmailStr** is a type hint provided by **pydantic** for representing email addresses in the data models.\n",
    "    * It allows you to validate and parse email addresses, ensuring they follow the correct styntax.\n",
    "4. **pydantic.validator**:\n",
    "    * The **validator** decorator is used to define custom validation functions for fields in a **BaseModel**.\n",
    "It allows you to perform additional validation logic on the fields values, beyond the built-in type validation.\n",
    "5. **pydantic.typing.Literal**:\n",
    "    * **Literal** is a type hint provided by **pydantic** that allows you to specify a finite set of possible values for a field.\n",
    "It ensures that the field value matches one of the specified literal values.\n",
    "6. **pydantic.AnyHttpUrl**:\n",
    "    * **AntyHttpUrl** is a type hint provided by **pydantic** that represents any HTTP or HTTPS URL.\n",
    "It combines the functionality of **AnyUrl** and adds specific validation for HTTP/HTTPS URLs.\n",
    "7. **pydantic.Field**:\n",
    "    * **Field** is a class provided by **pydantic** that allows you to specify additional metadata for fields in a **BaseModel**.\n",
    "    * It allows you to customize various aspects of the field, such as its default value, validation rules, and more.\n",
    "\n",
    "These are some of the important components of the **pydantic** library. They help you define robust data models, validate input data, and ensure the data adheres to the specified constraints and types. **pydantic** is widely used in various domains, including web development, data validation, and API development."
   ]
  },
  {
   "attachments": {},
   "cell_type": "markdown",
   "metadata": {},
   "source": [
    "## pytest"
   ]
  },
  {
   "attachments": {},
   "cell_type": "markdown",
   "metadata": {},
   "source": [
    "This library is a testing framework for Python. The **Mark.asyncio** class is used to mark test function or classes as asynchronous, allowing the use of **async** and **await** in tests.\n",
    "\n",
    "For example:"
   ]
  },
  {
   "cell_type": "code",
   "execution_count": null,
   "metadata": {},
   "outputs": [],
   "source": [
    "import pytest\n",
    "\n",
    "@pytest.mark.asyncio\n",
    "async def test_my_async_function():\n",
    "    result = await my_async_function()\n",
    "    assert result == expected_result"
   ]
  },
  {
   "attachments": {},
   "cell_type": "markdown",
   "metadata": {},
   "source": [
    "##  pytest_lazyfixture"
   ]
  },
  {
   "attachments": {},
   "cell_type": "markdown",
   "metadata": {},
   "source": [
    "This library provides the **lazy_fixture** decorator, which allows us to define lazy fixtures in pytest. Lazy fixtures are instantiated only when used in a test function.\n",
    "\n",
    "For example:"
   ]
  },
  {
   "cell_type": "code",
   "execution_count": null,
   "metadata": {},
   "outputs": [],
   "source": [
    "import pytest\n",
    "\n",
    "@pytest.fixture\n",
    "def my_fixture():\n",
    "    # Expensive setup code\n",
    "    return \"my_fixture_value\"\n",
    "\n",
    "@pytest.mark.parametrizel(\"data\", [pytest.lazy_fixture(\"my_fixture\")])\n",
    "def test_my_test(data):\n",
    "    assert data == \"my_fixture_value\""
   ]
  },
  {
   "attachments": {},
   "cell_type": "markdown",
   "metadata": {},
   "source": [
    "## schemathesis"
   ]
  },
  {
   "attachments": {},
   "cell_type": "markdown",
   "metadata": {},
   "source": [
    "This library is used for testing APIs based on OpenAPI or Swagger apecifications. It allows us to generate and run test cases based on the API  schema. We can define hypothesis strategies for input data generation and use them in tests.\n",
    "\n",
    "For example:"
   ]
  },
  {
   "cell_type": "code",
   "execution_count": null,
   "metadata": {},
   "outputs": [],
   "source": [
    "import schemathesis\n",
    "\n",
    "schema = schemathesis.from_uri(\"https://api.example.com/openapi.json\")\n",
    "\n",
    "@schemathesis.parametrize(schema=schema)\n",
    "def test_api(endpoint, case):\n",
    "    response = endpoint.call(case)\n",
    "    assert response.status_code < 500"
   ]
  },
  {
   "attachments": {},
   "cell_type": "markdown",
   "metadata": {},
   "source": [
    "## sqlalchemy"
   ]
  },
  {
   "attachments": {},
   "cell_type": "markdown",
   "metadata": {},
   "source": [
    "The **sqlalchemy** library is a popular SQL toolkit and Object-Relational Mapping (ORM) library for Python. It provides a set of high-level APIs for interacting with relational databases, allowing us to write SQL queries and perform database operations in a more Pythonic and object-oriented manner.\n",
    "\n",
    "Key modules and components:\n",
    "1. **Column**: The **Column** class is used to define columns in database tables. It represents a column in a table and provides various attributes and options to specify the coumn's data type, constraints, and other properties.\n",
    "2. **DateTime**: The **DateTime** class is a data type class that represents date and time values. It is commonly used as the data type for culumns that store timestamps or datetime information.\n",
    "3. **ForeignKey**: The **ForeignKey** class is used to define foreign key constraints between database tables. It represents a relationship between two tables where the values in one table's column refer to the primary keu values in another table.\n",
    "4. **Integer**: The **Integer** class is a data type class that repressents integer values. It is commonly used as the data type for columns that store integer valuses.\n",
    "5. **String**: The **String** class is a data type class that represents string values. It is commonly used as the data type for columns that store text or string values.\n",
    "6. **create_enigine**: The **create_engine** function is used to create a database enginge. It accepts a database URL or connection string as an argument and returns an instance of the **Engine** class, which is responsible for managing database connections and executing SQL statements.\n",
    "7. **select**: The **select** function is used to construct a SQL SELECT statement. It allows you to specify the columns to select, the tables to query, and the conditions to filter the results.\n",
    "8. **ext.declarative -> declarative_base**: The **declarative_base** function is used to create a base class for declarativ models i SQLAlchemy. Declarative models provide a high-level interface for defining database tables as Python classes.\n",
    "9. **orm -> relationship**: The **relationship** function is used to define relationships between database tables in SQLAlchemy's ORM. It allows us to specify the relationship between two entities and provides convenient ways to access related objects.\n",
    "10. **orm -> sessionmaker**: The **sessionmaker** function is used to create a session factory. It accepts an angine as an argument and returns a callable that can be used to create individual sessions for database operations.\n",
    "11. **orm -> Session**: The **Session** class represents a database session in SQLAlchemy's ORM. It provides a high-level interface for managing transactions, querying the database, and performing CRUD operations on objects.\n",
    "12. **orm -> selectionload**: The **selectionload** function is used to specify the columns to load when querying related objects in SQLAlchemy's ORM. It allows us to optimize database queries by loading only the necessary columns.\n",
    "13. **orm.exc -> DetachedInstanceError**: The **DetachedInstanceError** is an exception class that is raised when an attempt is made to access or modify a detached instance in SQLAlchemy's ORM. A detached instance is an object that was previously associated with a session but has been detached from it.\n",
    "\n",
    "SQLAlchemy offers a comprehensive set of tools and features for working with databases in Python, including support for various database engines, SQL expressions, schema definition, query building, and more. It is widely used in both small and large-scale applications for database interaction and data persistence."
   ]
  },
  {
   "attachments": {},
   "cell_type": "markdown",
   "metadata": {},
   "source": [
    "**CRUD Operations**: **CRUD** stands for Create, Read, Update, and Delete. These operationsare the fundamental operations used in database management systems to manipulate data. They correspond to the basic actions we can perform on data: creating new records, retrieving existing records, updating existing records, and deleting records."
   ]
  },
  {
   "attachments": {},
   "cell_type": "markdown",
   "metadata": {},
   "source": [
    "## starlette"
   ]
  },
  {
   "attachments": {},
   "cell_type": "markdown",
   "metadata": {},
   "source": [
    "The **starlette** library is a lightweight, high-performance framework for building asynchronous web applications in Python. It is designed to be simple and expressive providing the necessary tools and components to develop efficient web APIs and services.\n",
    "1. **starlette.config.Config**:\n",
    "    * This module provides a configuration system fo managing application settings.\n",
    "    * **Config**: Represents a configuration object that can be used to retrieve values from environment variables or configuration files.\n",
    "2. **starlette.concurrency.iterate_in_threadpool**:\n",
    "    * This module provides a utility function for executing a coroutine in a thread pool.\n",
    "    * **iterate_in_threadpool**: Executes an asynchronous generator or iterable in a separate thread pool, allowing concurrent execution.\n",
    "3. **starletter.middleware.base.BaseHTTPMiddleware**:\n",
    "    * This module defines the base class for implementing HTTP middleware in Starlette.\n",
    "    * **BaseHTTPMiddleware**: Represents a base middleware class that can be subclassed to create custom middleware.\n",
    "4. **starlette.requests.Requests**:\n",
    "    * This module defines the **Request** class, which represents an incoming HTTP request in Starlette.\n",
    "    * **Request**: Contains information about the incoming request, such as headers, cookies, query parameters, and more.\n",
    "5. **starletter.responses.Response**, **starlette.responses.StreamingResponse**, **starlette.responses.RedirectResponse**:\n",
    "    * These modules provide various classes for constructing and returning HTTP responses.\n",
    "    * **Response**: Represents a simple HTTP response with a given body, status code, and headers.\n",
    "    * **StreamingResponse**: Represents a streaming response that allowd sending data in chunks.\n",
    "    * **RedirectResponse**: Represents a redirect response that redirects the client to a different URL.\n",
    "6. **starlette.status.HTTP_200_OK**, **starlette.status.HTTP_404_NOT_FOUND**, **starlette.status.HTTP_422_UNPROCESSABLE_ENTITY**, **starletter.status.HTTP_303_SEE_OTHER**:\n",
    "    * These modules define constants for commonly used HTTP status codes in Starlette.\n",
    "\n",
    "Starlette library offer many other features such as routing, templates, authentication, and more, to help you build powerful web applications."
   ]
  },
  {
   "attachments": {},
   "cell_type": "markdown",
   "metadata": {},
   "source": [
    "## stomp"
   ]
  },
  {
   "attachments": {},
   "cell_type": "markdown",
   "metadata": {},
   "source": [
    "The **stomp** library is a Python client for the STOMP (Simple/Streaming Text Oriented Messaging Protocol) messaging protocol. It allows you to connect to message brokers or message-oriented middleware that support the STOMP protocol, such as Apache ActiveMQ, RabbitMQ, and others.\n",
    "1. **ConnectFailed** (exception): The **ConnectFailed** exception is raised when a connection attempt to the message broker fails. It typically indicates a connection error or inability to establish a connction.\n",
    "2. **Frame** from (**stomp.utils**): The **Frame** class repsents a STOMP frame, which is a unit of data exchanged between the client and the message broker It encapsulates the command, headers, and body of the frame.\n",
    "\n",
    "The **stomp** library provides a comprehensive set of features for working with the STOMP protocol. It allows you to establish connections to message brokers, send and receive messages, subscribe to message queues or topics, and handle acknowledgments and transactions.\n",
    "\n",
    "Using the **stomp** library, you can build roboust and scalable messaging applications that leverage the capabilities of STOMP-based message brokers. It offers an intuitive and flexible API for interacting with messaging systems, maing it easier to integrate messaging functionality into our Python applications."
   ]
  },
  {
   "attachments": {},
   "cell_type": "markdown",
   "metadata": {},
   "source": [
    "**STOMP (Simple Text Oriented Messaging Protocol)**: STOMP is a simple, text-based messaging protocol used for communicating with message-oriented middleware systems. It provides a way to send and receive messages between clients and message brokers."
   ]
  },
  {
   "attachments": {},
   "cell_type": "markdown",
   "metadata": {},
   "source": [
    "## tempfile"
   ]
  },
  {
   "attachments": {},
   "cell_type": "markdown",
   "metadata": {},
   "source": [
    "This module provides functions for working with temporary files and directories. It allows you to create temporary files, get temporary file names, and manage temporary resources.\n",
    "\n",
    "For exmaple:"
   ]
  },
  {
   "cell_type": "code",
   "execution_count": 4,
   "metadata": {},
   "outputs": [
    {
     "name": "stdout",
     "output_type": "stream",
     "text": [
      "Hello, World!\n"
     ]
    }
   ],
   "source": [
    "import tempfile\n",
    "\n",
    "# Create a temporary file\n",
    "with tempfile.NamedTemporaryFile() as temp:\n",
    "    temp.write(b\"Hello, World!\")\n",
    "    temp.seek(0)\n",
    "    print(temp.read().decode())"
   ]
  },
  {
   "attachments": {},
   "cell_type": "markdown",
   "metadata": {},
   "source": [
    "## typer"
   ]
  },
  {
   "attachments": {},
   "cell_type": "markdown",
   "metadata": {},
   "source": [
    "**Typer** is a library for building command-line interfaces (CLIs) with Python. It provides a simple and intuitive way to create command-line applications b y leveraging Python type hints.\n",
    "Key features of **Typer**:\n",
    "1. Comand-line interface (CLI) Creation:\n",
    "    * **Typer** allows you to create CLI applications with minimal code and effort.\n",
    "    * It provides decorators and functions to define commands, arguments, and options for our CLI.\n",
    "    * We can define functions that serve as the entry points for each command in our application.\n",
    "2. Automatic Type Infewrence\n",
    "    * **Typer** leverages Python's type hints to automatically infer the types of command-line arguments and options.\n",
    "    * It uses type annotations to validate and parse user input, making it easier to handle different data types and improve the robustness of our CLI.\n",
    "3. Interactive Auto-Completion:\n",
    "    * **Typer** offers interactive auto-completion, allowing users to tab through available commands, arguments, and options\n",
    "    * It integrates with popular shell auto-completion tools like Bash and Zsh, making it easier for users to discover and use our CLI.\n",
    "4. Rich Help Text Generation:\n",
    "    * **Typer** generates help texts automatically based on your CLI's structure and type hints.\n",
    "    * It provides built-in support for displaying comad and argument descriptions, default values, type information, and more.\n",
    "    * Help texts are generated in a standarized and user-friendly format, making it easier for users to understand and use our CLI.\n",
    "5. Callback Fun ctions and Event Handling:\n",
    "    * **Typer** allows you to define callback functions that are executed when a specific command or option is invoked.\n",
    "    * We can use decorators and event handlers to perform additional actions before or after command execution, such as logging, validation, or cleanup tasks.\n",
    "6. Integration with Other Libraries:\n",
    "    * **Typer** integrates well with other Python libraries and frameworks.\n",
    "    * I supports type hints from libraries like Click and Pydantic, making it easier to reuse existing code and leverage their functionalities.\n",
    "    * **Typer can also be used in conjunction with other frameworks like FastAPi to build complete end-to-end applications.\n",
    "\n",
    "    Overall, **Typer** simplifies the process of creating command-line interfaces in Python. It leverages type hints, provides interactive auto-completion, generates rich help texts, and supprots event handling. With its intuitive API and seamless integration with other libraries, **Typer** enables developers to quickly build robust and user-friendly command-line applications.\n"
   ]
  },
  {
   "attachments": {},
   "cell_type": "markdown",
   "metadata": {},
   "source": [
    "## typing"
   ]
  },
  {
   "attachments": {},
   "cell_type": "markdown",
   "metadata": {},
   "source": [
    "The **typing** module is a build-in module in Python that provides support for the type hints and type-related oeprations. It allows you to annotate your code with hints about the expected types of variables, function arguments, and return values. This helps improve code readability, catch potential type-related errors, and provides hints to IDEs and static type checkers.\n",
    "\n",
    "1. **Any**: Represents a type that can be any Python object. It is used when the type of a value is not known or does not matter.\n",
    "2. **Awaitable**: Represents a type that can be awaited using the **await** keyword. It is typically used to annotate asynchronous functions or coroutines.\n",
    "3. **Callable**: Represents a generic type for callable objects. It can bye used to anotate functions, methods, and callabel classes.\n",
    "4. **Type**: Represents a type itself. It can be used to annotate that a value should be a subclass of a specific type.\n",
    "5. **Optional**: Represents an optional type. It is used to indicate that a vlaue can be either of a specidied type or **None**.\n",
    "6. **Union**: Represents a union of multiple types. It is used to indicate that a value can be any of the specified types.\n",
    "7. **List**: Represents a generic list type. It can be used to annotate that a value should be a list containing elements of a specific type.\n",
    "8. **Dict**: Represents a generic dictionary type. It can be used to annotate that a value should be a dictionary with keys and values of specific types.\n",
    "9. **Literal**: Represents a type that can only take on specific literal values. It is used to restrict the possible values of a variable or function argument\n",
    "\n",
    "The **typing** modelu provides more types and utilities for expressing complex type relationships and generics. By using these types, we can make our code more expressive, self-documenting and better prepared for static type checking and IDE support."
   ]
  },
  {
   "attachments": {},
   "cell_type": "markdown",
   "metadata": {},
   "source": [
    "## unittest"
   ]
  },
  {
   "attachments": {},
   "cell_type": "markdown",
   "metadata": {},
   "source": [
    "**unittest.mock** module provides classes for creating mock objects and patching objects in tests. The **ANY** object represents an argument matcher that matches any value. The **AsyncMock** class is a subclass of **unittest.mock.Mock** specifically designed for asynchronous functions. The **create_autospec** function creates a mock object that behaves like a specified class.\n",
    "\n",
    "For example:"
   ]
  },
  {
   "cell_type": "code",
   "execution_count": null,
   "metadata": {},
   "outputs": [],
   "source": [
    "import unittest.mock as mock\n",
    "\n",
    "# Example usage of ANY\n",
    "mock_function.assert_called_with(ANY)\n",
    "\n",
    "# Example usage of AsyncMock\n",
    "async def my_async_function():\n",
    "    return await something_async()\n",
    "\n",
    "mock_async_function = mock.AsyncMock(return_value=\"my_value\")\n",
    "result = await mock_async_function()\n",
    "\n",
    "# Example usage of create_autocpec\n",
    "class MyClass:\n",
    "    def method(self, x: int) -> int:\n",
    "        return x * 2\n",
    "    \n",
    "mock_instance = mock.create_autospec(MyClass)\n",
    "result = mock_instance.method(5)"
   ]
  },
  {
   "attachments": {},
   "cell_type": "markdown",
   "metadata": {},
   "source": [
    "## urllib"
   ]
  },
  {
   "attachments": {},
   "cell_type": "markdown",
   "metadata": {},
   "source": [
    "The **urllib** module in Python provides a set of functions and classes for working with URLs. It is divided into several sub-modules, including **parse**, **requests** and **error**.\n",
    "\n",
    "1. **urllib.parse** (also known ad **urlparse**):\n",
    "    * This sub-module provides functions for parsing and manipulating URLs.\n",
    "    * **urlparse**: Parses a URL string and returns a named tuple with its components (scheme, netloc, path, etc.).\n",
    "    * **urlunparse**: Takes a named tuple of URL components and returns a complete URL string.\n",
    "    * **urljoin**: Resolves a relative URL against a base URL\n",
    "    * **urlencode**: Encodes a dictionary of query parameters into a URL-encoded string.\n",
    "2. **urlib.requests**:\n",
    "    * This sub-module provides classes and functions for making HTTP requests and working with URLs.\n",
    "    * **urlopen**: Opens a URL and returns a file-like object that can be used to read its contents.\n",
    "    * **urlretrieve**: Downloads a URL and saves its contents to a local file.\n",
    "    * **Request**: Represents and HTTP request and allows you to customize headers, method, and other parameters.\n",
    "    * **OpenerDirector**: A class that manages the opening of URLs, allowing you to customize the request process\n",
    "3. **urllib.error** (also known as **HTTPError**):\n",
    "    * This sub-module provides exceptions related to URL operations and HTTP errors.\n",
    "    * **HTTPError**: Raised when an HTTP request returns an error status code (e.g., 404, 500).\n",
    "    * **URLError**: Raised for general URL-related errors."
   ]
  },
  {
   "attachments": {},
   "cell_type": "markdown",
   "metadata": {},
   "source": [
    "Simple example that demonstrates the usage of **urllib.request** to make a HTTP request and retrieve the response:"
   ]
  },
  {
   "cell_type": "code",
   "execution_count": 6,
   "metadata": {},
   "outputs": [
    {
     "name": "stdout",
     "output_type": "stream",
     "text": [
      "<!doctype html>\n",
      "<html>\n",
      "<head>\n",
      "    <title>Example Domain</title>\n",
      "\n",
      "    <meta charset=\"utf-8\" />\n",
      "    <meta http-equiv=\"Content-type\" content=\"text/html; charset=utf-8\" />\n",
      "    <meta name=\"viewport\" content=\"width=device-width, initial-scale=1\" />\n",
      "    <style type=\"text/css\">\n",
      "    body {\n",
      "        background-color: #f0f0f2;\n",
      "        margin: 0;\n",
      "        padding: 0;\n",
      "        font-family: -apple-system, system-ui, BlinkMacSystemFont, \"Segoe UI\", \"Open Sans\", \"Helvetica Neue\", Helvetica, Arial, sans-serif;\n",
      "        \n",
      "    }\n",
      "    div {\n",
      "        width: 600px;\n",
      "        margin: 5em auto;\n",
      "        padding: 2em;\n",
      "        background-color: #fdfdff;\n",
      "        border-radius: 0.5em;\n",
      "        box-shadow: 2px 3px 7px 2px rgba(0,0,0,0.02);\n",
      "    }\n",
      "    a:link, a:visited {\n",
      "        color: #38488f;\n",
      "        text-decoration: none;\n",
      "    }\n",
      "    @media (max-width: 700px) {\n",
      "        div {\n",
      "            margin: 0 auto;\n",
      "            width: auto;\n",
      "        }\n",
      "    }\n",
      "    </style>    \n",
      "</head>\n",
      "\n",
      "<body>\n",
      "<div>\n",
      "    <h1>Example Domain</h1>\n",
      "    <p>This domain is for use in illustrative examples in documents. You may use this\n",
      "    domain in literature without prior coordination or asking for permission.</p>\n",
      "    <p><a href=\"https://www.iana.org/domains/example\">More information...</a></p>\n",
      "</div>\n",
      "</body>\n",
      "</html>\n",
      "\n"
     ]
    }
   ],
   "source": [
    "import urllib.request\n",
    "\n",
    "url = 'https://www.example.com'\n",
    "response = urllib.request.urlopen(url)\n",
    "html = response.read().decode('utf-8')\n",
    "print(html)"
   ]
  },
  {
   "attachments": {},
   "cell_type": "markdown",
   "metadata": {},
   "source": [
    "In the example above, the **urlopen** function is used to open URL and obtain a file-like object representing the response. The **read** method is then called retrieve the content of the response, which is decoded using the specified encoding (in this case, UTF-8). Finally, the HTML content is printed out.\n",
    "\n",
    "**urllib** is a modul for making basic HTTP requests and working with URLs. For more advanced HTTP functionality, we should consider using third-party libraries such as **requests**, which provides a higher-level interface and additional features."
   ]
  },
  {
   "attachments": {},
   "cell_type": "markdown",
   "metadata": {},
   "source": [
    "## uuid"
   ]
  },
  {
   "attachments": {},
   "cell_type": "markdown",
   "metadata": {},
   "source": [
    "The **uuid** module in Python provides functionality for generating and working with Universally Unique Identifiers (UUIDs). **UUIDs** are 128-bit unique identifiers that are typically used to identify resources in a distributed system or to generate unique alues for various purposes.\n",
    "\n",
    "1. **uuid4**: The **uuid4** function is used to generate a random UUID. It generates a new UUID each time it is called using a combination of random or pseudo-random numbers."
   ]
  },
  {
   "attachments": {},
   "cell_type": "markdown",
   "metadata": {},
   "source": [
    "### Example usage:"
   ]
  },
  {
   "cell_type": "code",
   "execution_count": 1,
   "metadata": {},
   "outputs": [
    {
     "name": "stdout",
     "output_type": "stream",
     "text": [
      "4d9591d8-1d69-466f-a18e-80e4a8863f1d\n"
     ]
    }
   ],
   "source": [
    "import uuid\n",
    "\n",
    "# Generate a random UUID\n",
    "random_uuid = uuid.uuid4()\n",
    "print(random_uuid)"
   ]
  },
  {
   "attachments": {},
   "cell_type": "markdown",
   "metadata": {},
   "source": [
    "2. **UUID**: The **UUID** class represents a UUID object. It provides various methods and attributs to manipulate and retrieve information about UUID."
   ]
  },
  {
   "attachments": {},
   "cell_type": "markdown",
   "metadata": {},
   "source": [
    "### Example usage:"
   ]
  },
  {
   "cell_type": "code",
   "execution_count": 2,
   "metadata": {},
   "outputs": [
    {
     "name": "stdout",
     "output_type": "stream",
     "text": [
      "123e4567e89b12d3a456426655440000\n",
      "b'\\x12>Eg\\xe8\\x9b\\x12\\xd3\\xa4VBfUD\\x00\\x00'\n"
     ]
    }
   ],
   "source": [
    "import uuid\n",
    "# Create a UUID from a string\n",
    "my_uuid = uuid.UUID('123e4567-e89b-12d3-a456-426655440000')\n",
    "\n",
    "# Get the hexadecimal representation of the UUID\n",
    "hex_value = my_uuid.hex\n",
    "print(hex_value)\n",
    "\n",
    "# Get the bytes representation of the UUID\n",
    "bytes_value = my_uuid.bytes\n",
    "print(bytes_value)"
   ]
  },
  {
   "attachments": {},
   "cell_type": "markdown",
   "metadata": {},
   "source": [
    "The **uuid** module provides additional functions and classes for wokring with UUIDs, such as **uuid1** for generating UUIDs based on the hist and current time, **uuid3** for generating UUIDs based on the MD5 hash of a namespace and name, and **uuid5** for generating UUIDs based on the SHA-1 hash of a namesace and name. These functions and classes offer flexibility in generating and manipulating UUIDs based on different criteria.\n",
    "\n",
    "UUIDs are commonly used in various applications and systems to ensure uniqueness and to dentify resources reliably. They are particularly useful in distributed system, databases, and data processing pipelines where generating unique identifiers is essential."
   ]
  },
  {
   "attachments": {},
   "cell_type": "markdown",
   "metadata": {},
   "source": [
    "## uvicorn"
   ]
  },
  {
   "attachments": {},
   "cell_type": "markdown",
   "metadata": {},
   "source": [
    "The **uvicorn** library is a fast ASGI (Asynchronous Server Gateway Interface) server implementation for Python. It is designed to run Python web applications that are compatible with the ASGI specification. Key points about **uvicorn**:\n",
    "1. ASGI Server:\n",
    "    * **uvicorn** acts as a server that can handle web applications built using the ASGI protocol.\n",
    "    * ASGI is a standard interface between web servers and Python web applications or frameworks.\n",
    "    * ASGI allows for building asynchronous we applications that can handle high-concurrency and long-lived connections efficiently.\n",
    "2. High Performance:\n",
    "    * **uvicorn** is build on top of the **uvloop** and **httptools* libraries, which provide high performance asynchronous I/O operations and HTTP parsing respectively.\n",
    "    * This combination allows **uvicorn** to handle a large number of concurrent requests efficiently.\n",
    "3. Configuration:\n",
    "    * **uvicorn** provides various configuration options to customize the server behavior.\n",
    "    * You can configure settings such as host, port, number of workers, logging, and more.\n",
    "    * Configuration can be specified through comand-line arguments or by creating a configuration file.\n",
    "4. Automatic Code Reloading:\n",
    "    * **uvicorn** supports automatic code reloading, which means it can monitor your application's source files and automatically restart the server when changes are detected.\n",
    "    * This feature is useful during development, as it eliminates the need to manually restart the server after making code changes.\n",
    "5. Integration with ASGI Frameworks:\n",
    "    * **uvicorn** can be used with various ASGI-compatible frameworks, such as FastAPI, Starlette and Django.\n",
    "    * It provides a simple and consisten way to run these frameworks using the ASGI server.\n",
    "6. CLI Interface:\n",
    "    * **Uvicorn** provides a command-line interface (CLI) that allows you to start the server and specify the application to run.\n",
    "    * It supports various options for configuration, logging and reloading.\n",
    "\n",
    "**uvicorn** is widely used in the Python web development community due to its performance, ease of use, and compatibility with ASGI-based frameworks. It provides a solid foundation for running asynchronous web applications and handling high-concurrency scenarios."
   ]
  },
  {
   "attachments": {},
   "cell_type": "markdown",
   "metadata": {},
   "source": [
    "**I/O Operations**: **I/O (Input/Output)** operations refer to the reading from and writing to external sources such as files, network sockets, databases, etc. In the context of programming, **I/O operations** involve transferring data between a program and external resources."
   ]
  },
  {
   "attachments": {},
   "cell_type": "markdown",
   "metadata": {},
   "source": [
    "## _ _ future _ _"
   ]
  },
  {
   "attachments": {},
   "cell_type": "markdown",
   "metadata": {},
   "source": [
    "This module allows us to use features from future versions of Python in the current version. The **annotations** component enables function annotations, which provide metadata about the types of function arguments and return values.\n",
    "\n",
    "For example:"
   ]
  },
  {
   "cell_type": "code",
   "execution_count": 3,
   "metadata": {},
   "outputs": [
    {
     "data": {
      "text/plain": [
       "'Hello, Alex!'"
      ]
     },
     "execution_count": 3,
     "metadata": {},
     "output_type": "execute_result"
    }
   ],
   "source": [
    "from __future__ import annotations\n",
    "\n",
    "def greet(name: str) -> str:\n",
    "    return f\"Hello, {name}!\"\n",
    "\n",
    "greet('Alex')"
   ]
  }
 ],
 "metadata": {
  "kernelspec": {
   "display_name": "base",
   "language": "python",
   "name": "python3"
  },
  "language_info": {
   "codemirror_mode": {
    "name": "ipython",
    "version": 3
   },
   "file_extension": ".py",
   "mimetype": "text/x-python",
   "name": "python",
   "nbconvert_exporter": "python",
   "pygments_lexer": "ipython3",
   "version": "3.10.11"
  },
  "orig_nbformat": 4
 },
 "nbformat": 4,
 "nbformat_minor": 2
}
