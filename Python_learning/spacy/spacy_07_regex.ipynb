{
 "cells": [
  {
   "attachments": {},
   "cell_type": "markdown",
   "metadata": {},
   "source": [
    "# spaCy's RegEx\n",
    "\n",
    "Based on **Dr. William Mattingly** video: https://www.youtube.com/watch?v=dIUTsFT2MeQ&t\n",
    "\n",
    "and his Jupyter Book: http://spacy.pythonhumanities.com/02_05_simple_regex.html"
   ]
  },
  {
   "attachments": {},
   "cell_type": "markdown",
   "metadata": {},
   "source": [
    "## Regular Expressions (RegEx)"
   ]
  },
  {
   "attachments": {},
   "cell_type": "markdown",
   "metadata": {},
   "source": [
    "is a powerful tool for performing complex string matching based on simple or intricate patterns. It allows fo finding and retrieving patterns or replacing matching patterns in a string with another pattern. RegEx was invented by Steohen Cole Kleene in the 1950s and remains widely used today, especially for tasks involving string matching in text. It is fully integrated with most search engines and enables more robust searching capabilities. Data scientists, particulary those working with text, often rely on RegEx at various stages of their workflow, including data searching, data cleaning, and implementing machine learning models. It is an essential tool for ant researcher working with text-based data.\n",
    "\n",
    "In spaCy, RegEx can be utilized in different pipes, depending on the specific task at hand. It can be leveraged to identify entities or perform pattern matching, among other applications."
   ]
  },
  {
   "attachments": {},
   "cell_type": "markdown",
   "metadata": {},
   "source": [
    "## Pros of RegEx"
   ]
  },
  {
   "attachments": {},
   "cell_type": "markdown",
   "metadata": {},
   "source": [
    "+ Due to its complex syntax, it can allow for programmers to write robust rules in short spaces.\n",
    "+ It can allow the researcher to find all types of variance in strings.\n",
    "+ It can perform remarkably quickly when compared to other methods.\n",
    "+ It is universally supported."
   ]
  },
  {
   "attachments": {},
   "cell_type": "markdown",
   "metadata": {},
   "source": [
    "## Cons of RegEx"
   ]
  },
  {
   "attachments": {},
   "cell_type": "markdown",
   "metadata": {},
   "source": [
    "+ Its syntax is quite difficult.\n",
    "+ In order to achieve optimal performance, it is essential to have a domain expert collaborate with the programmer to consider all possible variations of patterns in texts."
   ]
  },
  {
   "attachments": {},
   "cell_type": "markdown",
   "metadata": {},
   "source": [
    "## RegEx in Python"
   ]
  },
  {
   "attachments": {},
   "cell_type": "markdown",
   "metadata": {},
   "source": [
    "Python has prepackeged with a RegEx libraty called **re**."
   ]
  },
  {
   "cell_type": "code",
   "execution_count": 1,
   "metadata": {},
   "outputs": [],
   "source": [
    "import re"
   ]
  },
  {
   "cell_type": "code",
   "execution_count": 3,
   "metadata": {},
   "outputs": [
    {
     "name": "stdout",
     "output_type": "stream",
     "text": [
      "[('2 February', '2', 'February'), ('14 August', '4', 'August')]\n"
     ]
    }
   ],
   "source": [
    "pattern = r\"((\\d){1,2} (January|February|March|April|May|June|July|August|September|October|November|December))\"\n",
    "\n",
    "text = \"This is a date 2 February. Another date would be 14 August.\"\n",
    "matches = re.findall(pattern, text)\n",
    "print(matches)"
   ]
  },
  {
   "attachments": {},
   "cell_type": "markdown",
   "metadata": {},
   "source": [
    "In the provided code snippet, we can observe a real-life example of a **RegEx** formula in action. Although it may appear complex, the syntax of RegEx is relatively straightforward. Breaking down the code step by step:\n",
    "1. The opening parenthesis signifies that we are looking for a pattern that encompasses everything within.\n",
    "2. **(\\d){1,2}** specifies that we are searching for any digit (0-9) occurring once or twice.\n",
    "3. After that, we encounter a space character, indicating the expected space in the string.\n",
    "4. Following the space, we have **January|February|...|December**. This part represents another component of the pattern enclosed in parentheses. The **|** character serves as an **or** operator, allowing any of the listed months to be matched.\n",
    "\n",
    "When combined, this pattern will match any sequence consisting of one or two numbers followed by a month."
   ]
  },
  {
   "cell_type": "code",
   "execution_count": 4,
   "metadata": {},
   "outputs": [
    {
     "name": "stdout",
     "output_type": "stream",
     "text": [
      "[('14 August', '4', 'August')]\n"
     ]
    }
   ],
   "source": [
    "text = \"This is a date February 2. Another date would be 14 August.\"\n",
    "matches = re.findall(pattern, text)\n",
    "print(matches)"
   ]
  },
  {
   "attachments": {},
   "cell_type": "markdown",
   "metadata": {},
   "source": [
    "it fails, but this is not fault of RegEx. Our pattern cannot accommodate that particular variation. However, we can address it by including it as a possible varition. In RegEx, possible variations are accounted for using an asterisk (*)."
   ]
  },
  {
   "cell_type": "code",
   "execution_count": 5,
   "metadata": {},
   "outputs": [
    {
     "name": "stdout",
     "output_type": "stream",
     "text": [
      "[('February 2', '', '', '', '', 'February 2', 'February ', 'February', '2'), ('14 August', '14 August', '4', ' August', 'August', '', '', '', '')]\n"
     ]
    }
   ],
   "source": [
    "pattern = r\"(((\\d){1,2}( (January|February|March|April|May|June|July|August|September|October|November|December)))|(((January|February|March|April|May|June|July|August|September|October|November|December) )(\\d){1,2}))\"\n",
    "text = \"This is a date February 2. Another date would be 14 August.\"\n",
    "matches = re.findall(pattern, text)\n",
    "print(matches)"
   ]
  },
  {
   "attachments": {},
   "cell_type": "markdown",
   "metadata": {},
   "source": [
    "There are alternative ways to write the same **RegEx** formula in a more concise manner. In this case, we have chosen a slightly more verbose approach to enhance readability. However, there are options to simplify it further.\n",
    "\n",
    "It's important to note that the current implementation includes additional information for each match, representing the individual components of the match. To remove these unnecessary components, one approach is to use the **finditer** command instead of **findall** in RegEx.\n",
    "\n",
    "By utilizing **finditer**, we can iterate over the matches and access only the relevant information we are interested in, rather than retrieving the entire mathc. This allows for more streamlined representation of the desired output."
   ]
  },
  {
   "cell_type": "code",
   "execution_count": 6,
   "metadata": {},
   "outputs": [
    {
     "name": "stdout",
     "output_type": "stream",
     "text": [
      "<callable_iterator object at 0x108677d90>\n"
     ]
    }
   ],
   "source": [
    "text = \"This is a date February 2. Another date would be 14 August.\"\n",
    "iter_matches = re.finditer(pattern, text)\n",
    "print(iter_matches)"
   ]
  },
  {
   "cell_type": "code",
   "execution_count": 8,
   "metadata": {},
   "outputs": [
    {
     "name": "stdout",
     "output_type": "stream",
     "text": [
      "<callable_iterator object at 0x1086772e0>\n",
      "<re.Match object; span=(15, 25), match='February 2'>\n",
      "<re.Match object; span=(49, 58), match='14 August'>\n"
     ]
    }
   ],
   "source": [
    "# looping over iterator object\n",
    "text = \"This is a date February 2. Another date would be 14 August.\"\n",
    "iter_matches = re.finditer(pattern, text)\n",
    "print(iter_matches)\n",
    "for hit in iter_matches:\n",
    "    print(hit)\n"
   ]
  },
  {
   "attachments": {},
   "cell_type": "markdown",
   "metadata": {},
   "source": [
    "Within each match returned by the RegEx pattern, there is valuable information available, including the start and end locations of the match within the input string. Additionally, the **match** attribute contains the text that corresponds to the match.\n",
    "\n",
    "By using the start and end locations, we can extract the specific text that corresponds to each match from the input string. This allows us to retrieve the relevant portions of the string based on the identified matches using RegEx."
   ]
  },
  {
   "cell_type": "code",
   "execution_count": 9,
   "metadata": {},
   "outputs": [
    {
     "name": "stdout",
     "output_type": "stream",
     "text": [
      "February 2\n",
      "14 August\n"
     ]
    }
   ],
   "source": [
    "text = \"This is a date February 2. Another date would be 14 August.\"\n",
    "iter_matches = re.finditer(pattern, text)\n",
    "for hit in iter_matches:\n",
    "    start = hit.start()\n",
    "    end = hit.end()\n",
    "    print(text[start:end])\n"
   ]
  },
  {
   "attachments": {},
   "cell_type": "markdown",
   "metadata": {},
   "source": [
    "## RegEx in spaCy"
   ]
  },
  {
   "attachments": {},
   "cell_type": "markdown",
   "metadata": {},
   "source": [
    "Patterns that exhibit consistent or relatively consistnt structures such as dates, times, and IP addresses, are ideal candidates for RegEx. THe structured nature of these patterns allows for precise matching using RegEx patterns.\n",
    "\n",
    "Thankfully, spaCy provides convenient ways to incorporate RegEx in three specifis pipes: Matcher, PharseMatcher, and Entity Ruler. These pipes enable the use of RegEx patterns for matching specific entities or phrases within text.\n",
    "\\However, it's important to note that one major drawback of using atcher and PhraseMatcher is that they do no alignthe identified matches with the **doc.ents** attribute of the Doc object. This means that the matches found using these pipes are not directly recognized as rntities by spaCy's NER system."
   ]
  },
  {
   "cell_type": "code",
   "execution_count": 12,
   "metadata": {},
   "outputs": [
    {
     "name": "stdout",
     "output_type": "stream",
     "text": [
      "555-5555 PHONE_NUMBER\n"
     ]
    }
   ],
   "source": [
    "import spacy\n",
    "\n",
    "# Sample text\n",
    "text = \"This is a sample number 555-5555.\"\n",
    "\n",
    "# Build upon the spaCy sm\n",
    "nlp = spacy.blank(\"en\")\n",
    "\n",
    "# Create the ruler and add it\n",
    "ruler = nlp.add_pipe(\"entity_ruler\")\n",
    "\n",
    "# List of entities and patterns\n",
    "patterns = [\n",
    "    {\"label\": \"PHONE_NUMBER\", \"pattern\": [{\"SHAPE\": \"ddd\"},\n",
    "    {\"ORTH\": \"-\", \"OP\": \"?\"}, {\"SHAPE\": \"dddd\"}]}\n",
    "]\n",
    "\n",
    "# Add patterns to the ruler\n",
    "ruler.add_patterns(patterns)\n",
    "\n",
    "# Create the doc object\n",
    "doc = nlp(text)\n",
    "\n",
    "# Extract entities\n",
    "for ent in doc.ents:\n",
    "    print(ent.text, ent.label_)"
   ]
  },
  {
   "attachments": {},
   "cell_type": "markdown",
   "metadata": {},
   "source": [
    "If we want to use RegEx instead of linguistic features like shape to capture a specific pattern, such as \"555-5555\", we can define a RegEx pattern to match that specific format."
   ]
  },
  {
   "cell_type": "code",
   "execution_count": 13,
   "metadata": {},
   "outputs": [
    {
     "name": "stdout",
     "output_type": "stream",
     "text": [
      "[('555-5555', '5', '5')]\n"
     ]
    }
   ],
   "source": [
    "pattern = r\"((\\d){3}-(\\d){4})\"\n",
    "text = \"This is a sample number 555-5555.\"\n",
    "matches = re.findall(pattern, text)\n",
    "print(matches)"
   ]
  },
  {
   "attachments": {},
   "cell_type": "markdown",
   "metadata": {},
   "source": [
    "### Trying to implement RegEx pattern into spaCy"
   ]
  },
  {
   "cell_type": "code",
   "execution_count": 14,
   "metadata": {},
   "outputs": [],
   "source": [
    "import spacy\n",
    "\n",
    "# Sample text\n",
    "text = \"This is a sample number (555) 555-5555.\"\n",
    "\n",
    "# Build upon the spaCy sm\n",
    "nlp = spacy.blank(\"en\")\n",
    "\n",
    "# Create the ruler and add it\n",
    "ruler = nlp.add_pipe(\"entity_ruler\")\n",
    "\n",
    "# List of entities and patterns\n",
    "patterns = [\n",
    "    {\"label\": \"PHONE_NUMBER\", \"pattern\": [{\"TEXT\": {\"REGEX\": \"((\\d){3}-(\\d){4})\"}}]} \n",
    "]\n",
    "\n",
    "# Add patterns to the ruler\n",
    "ruler.add_patterns(patterns)\n",
    "\n",
    "# Create the doc object\n",
    "doc = nlp(text)\n",
    "\n",
    "# Extract entities\n",
    "for ent in doc.ents:\n",
    "    print(ent.text, ent.label_)"
   ]
  },
  {
   "attachments": {},
   "cell_type": "markdown",
   "metadata": {},
   "source": [
    "spaCy's EntityRuler cannot directly use RegEx to pattern match across token. This limitation becomes apparent when dealing with patterns like phone numbers that contains special characters like hyphens."
   ]
  },
  {
   "cell_type": "code",
   "execution_count": 15,
   "metadata": {},
   "outputs": [
    {
     "name": "stdout",
     "output_type": "stream",
     "text": [
      "5555555 PHONE_NUMBER\n"
     ]
    }
   ],
   "source": [
    "import spacy\n",
    "\n",
    "# Sample text\n",
    "text = \"This is a sample number 5555555.\"\n",
    "\n",
    "# Build upon the spaCy sm\n",
    "nlp = spacy.blank(\"en\")\n",
    "\n",
    "# Create the ruler and add it\n",
    "ruler = nlp.add_pipe(\"entity_ruler\")\n",
    "\n",
    "# List of entities and patterns\n",
    "patterns = [\n",
    "    {\"label\": \"PHONE_NUMBER\", \"pattern\": [{\"TEXT\": {\"REGEX\": \"((\\d){5})\"}}]} \n",
    "]\n",
    "\n",
    "# Add patterns to the ruler\n",
    "ruler.add_patterns(patterns)\n",
    "\n",
    "# Create the doc object\n",
    "doc = nlp(text)\n",
    "\n",
    "# Extract entities\n",
    "for ent in doc.ents:\n",
    "    print(ent.text, ent.label_)"
   ]
  },
  {
   "attachments": {},
   "cell_type": "markdown",
   "metadata": {},
   "source": [
    "Without the dash and a few modifications to the RegEx, we were able to capture the phone number **55555555** as a single token in the spaCy Doc object. This is because the modified pattern matches a sequence of seven consecutive digits withouth any intervening characters. As a result, it aligns well with the capabilities of the EntityRuler, allowing us to successfull capture the desired phone number format using spaCy's EntityRuler."
   ]
  }
 ],
 "metadata": {
  "kernelspec": {
   "display_name": "base",
   "language": "python",
   "name": "python3"
  },
  "language_info": {
   "codemirror_mode": {
    "name": "ipython",
    "version": 3
   },
   "file_extension": ".py",
   "mimetype": "text/x-python",
   "name": "python",
   "nbconvert_exporter": "python",
   "pygments_lexer": "ipython3",
   "version": "3.10.11"
  },
  "orig_nbformat": 4
 },
 "nbformat": 4,
 "nbformat_minor": 2
}
