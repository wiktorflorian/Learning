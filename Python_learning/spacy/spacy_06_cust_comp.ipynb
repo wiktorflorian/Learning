{
 "cells": [
  {
   "attachments": {},
   "cell_type": "markdown",
   "metadata": {},
   "source": [
    "# spaCy's Custom Components\n",
    "\n",
    "Based on **Dr. William Mattingly** video: https://www.youtube.com/watch?v=dIUTsFT2MeQ&t\n",
    "\n",
    "and his Jupyter Book: http://spacy.pythonhumanities.com/02_04_custom_component.html"
   ]
  },
  {
   "attachments": {},
   "cell_type": "markdown",
   "metadata": {},
   "source": [
    "## Concept"
   ]
  },
  {
   "attachments": {},
   "cell_type": "markdown",
   "metadata": {},
   "source": [
    "Custom components are user-defined pipeline components that can be added to the processing pipeline. These components allow you to extend the functionality of spaCy and perform additional processing or manipulation on the documents, tokens, or other linguistic elements.\n",
    "\n",
    "Custom components are typically used to add new functionality that is not available out-of-the-bos in spaCy, such as custom entity recognition, custom rule-based matching, or any other specific processing or analysis task.\n",
    "\n",
    "To create a custom component in spaCy, you need to define a function or a class that takes a **Doc** object and modifies it in some way. This function or class should conform to the required signature and be registered as a pipeline component using the **nlp.add_pipe()** method."
   ]
  },
  {
   "attachments": {},
   "cell_type": "markdown",
   "metadata": {},
   "source": [
    "### Example"
   ]
  },
  {
   "attachments": {},
   "cell_type": "markdown",
   "metadata": {},
   "source": [
    "Example of the custom component that adds a custom attributr to each token in doc.\n",
    "\n",
    "```python\n",
    "def custom_component(doc):\n",
    "    for token in doc:\n",
    "        token._.custom_attribute = token.text.upper()\n",
    "    return doc\n",
    "\n",
    "nlp.add_pipe(custom_component, name=\"custom_component\", last=True) # Add the \n",
    "custom component to the pipeline\n",
    "```\n",
    "\n",
    "The **custom_component** function takes a doc object, iterates over each token, and adds a custom attribute **_custom_attribute** to each token within the uppercase version of its text. The custom component is added to the pipeline using **nlp.add_pipe()**.\n",
    "\n",
    "Custom components can be added at different position in the pipeline, depending on the desired order of execution. They can also be combined with other built-in or third-party components to create more complex processing pipelines tailored to your specific NLP tasks."
   ]
  },
  {
   "cell_type": "code",
   "execution_count": null,
   "metadata": {},
   "outputs": [],
   "source": []
  }
 ],
 "metadata": {
  "language_info": {
   "name": "python"
  },
  "orig_nbformat": 4
 },
 "nbformat": 4,
 "nbformat_minor": 2
}
