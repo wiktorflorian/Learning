{
 "cells": [
  {
   "attachments": {},
   "cell_type": "markdown",
   "metadata": {},
   "source": [
    "# Financial Analysis\n",
    "\n",
    "Based on **Dr. William Mattingly** video: https://www.youtube.com/watch?v=dIUTsFT2MeQ&t\n",
    "\n",
    "and his Jupyter Book: http://spacy.pythonhumanities.com/03_01_stock_analysis.html"
   ]
  },
  {
   "attachments": {},
   "cell_type": "markdown",
   "metadata": {},
   "source": [
    "## Scenario"
   ]
  },
  {
   "attachments": {},
   "cell_type": "markdown",
   "metadata": {},
   "source": [
    "Our client is interested in ivestment and seeks a solution to efficiently identify relevant news articles based on their specific criteria for the day. They aim to locate articles that discuss their personal stocks, holdings, specific indexes, and potentially even stock exchanges.\n",
    "\n",
    "To address their requirements, we can utilize spaCy to automatically extract the following entities from a given text:\n",
    "+ Companies mentioned in the text.\n",
    "+ Stocks referenced in the text.\n",
    "+ Indexes rederred to in the text.\n",
    "+ Potentially, stock exchanges mentioned as well.\n",
    "\n",
    "By leveraging spaCy's entity recognition capabilities, we can assist the client in filtering and identyfying the most pertinent news articles aligned with their investment interests."
   ]
  },
  {
   "cell_type": "code",
   "execution_count": null,
   "metadata": {},
   "outputs": [],
   "source": []
  }
 ],
 "metadata": {
  "language_info": {
   "name": "python"
  },
  "orig_nbformat": 4
 },
 "nbformat": 4,
 "nbformat_minor": 2
}
