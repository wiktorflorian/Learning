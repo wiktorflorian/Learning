{
 "cells": [
  {
   "attachments": {},
   "cell_type": "markdown",
   "metadata": {},
   "source": [
    "# spaCy's EntityRuler\n",
    "\n",
    "Based on **Dr. William Mattingly** video: https://www.youtube.com/watch?v=dIUTsFT2MeQ&t\n",
    "\n",
    "and his Jupyter Book: http://spacy.pythonhumanities.com/02_01_entityruler.html"
   ]
  },
  {
   "attachments": {},
   "cell_type": "markdown",
   "metadata": {},
   "source": [
    "## Named Entity Recognition (NER)"
   ]
  },
  {
   "attachments": {},
   "cell_type": "markdown",
   "metadata": {},
   "source": [
    "NER is a NLP technique that aims to identify and classify named entities in text into predefined categories. Named entities are specific types of word or phrases that represent names of people, organizations, locations, dates, quantities, monetary values, and other similar entites.\n",
    "\n",
    "The goal of NER is to extract and label these named entities from unstructured text and assign them to their respective categories. By identifyinf named entities, NER helps in understanding the structure amd semantics of text, enabling various downstream applications such as information retrieval, questions answering, information extraction, sentiment analysis and more.\n",
    "\n",
    "NER typically nvolves the following steps:\n",
    "1. **Tokenization**: The input text is divided into individual words or tokens.\n",
    "2. **Part-of-Speech Tagging (POS)**: Each token is assigned a part-of-speech tag that denotes its grammatical category (e.g., noun, verb, adjective).\n",
    "3. **Named Entity Recognition**: This is core step of NER. Here, the tokens are analyzed to determine if they represent named entities and if so, which category they belong to (e.g., person, organization, location). This can be done using rule-based approaches, machine learning algorithms such as Conditional Random Fields or Recurrent Neural Networks or a combination of both.\n",
    "4. **Entity Classification**: After identifying the named entities, they are further classified into predefined categories based on the ocntext and domain. For example, an organization entity can be classified as a compay, government agency, or educational institution.\n",
    "\n",
    "NER systems are trained on annotated datasets where human annotators label the named entities in the text. These annotated datasets serve as training data for machine learning algorithms to learn patterns and features that can help identify and classify named entities accurately.\n",
    "\n",
    "NER has broad applications in various domains. For example:\n",
    "+ **Information Extraciton**: NER can extract specific information such as names, dates, and locations from text.\n",
    "+ **Question Answering**: NER helps in uderstanding and extracting relevant information to answer questions\n",
    "+ **Document Summarization**: NER can identify important entites to generate concise sumaries.\n",
    "+ **Recommendation Systems**: NER can identify entities to provide personalized recommendations.\n",
    "\n",
    "Overall, NER plays a crucial role in text understanding and information extraction by identifying and categorizing named entities, enabling more advanced analysis and processing of text data."
   ]
  },
  {
   "attachments": {},
   "cell_type": "markdown",
   "metadata": {},
   "source": [
    "## EntityRuler"
   ]
  },
  {
   "attachments": {},
   "cell_type": "markdown",
   "metadata": {},
   "source": [
    "spaCy provides several methods for rules-based NER. One method is through its **EntityRuler**.\n",
    "\n",
    "The EntityRuler is spaCy **factory** that allows creating patterns with corresponding labels. A factory in spaCy is a set of classes and functions preloaded in spaCy for specific tasks. For the EntityRuler, the factory enables creating an EntityRuler, defining patterns and labels, and using them to find and label entities.\n",
    "\n",
    "Once the EntityRuler is created and instructed, it can be added to the spaCy pipeline as a new **pipe**.\n",
    "\n",
    "A pipe is a component of a pipeline, which takes input data, performs operations, and outputs new data or extract metadata. In spaCy, different pipes handle different tasks. The **tokenizer** tokenizes the text into individual tokens, the **parser** parses the text, and the NER identifies entities and assigns labels. The processed data is stored in the Doc object.\n",
    "\n",
    "Pipelines are sequential, meaning earlier components affect the input received by late components. This sequence can be crucial, as later pipes may depend on earlier ones. However, some pipes can function independently of earlier ones. Remember this when creating custom spaCy models or any pipeline.\n",
    "\n",
    "[<ins>Full spaCy's Entity Ruler documentation</ins>](https://spacy.io/api/entityruler)"
   ]
  },
  {
   "attachments": {},
   "cell_type": "markdown",
   "metadata": {},
   "source": [
    "## Examples"
   ]
  },
  {
   "attachments": {},
   "cell_type": "markdown",
   "metadata": {},
   "source": [
    "We will try to identify Warszawa (Warsaw)."
   ]
  },
  {
   "cell_type": "code",
   "execution_count": 7,
   "metadata": {},
   "outputs": [
    {
     "name": "stdout",
     "output_type": "stream",
     "text": [
      "Entity text: Poland    , entity label: GPE\n",
      "Entity text: Warszawa  , entity label: PERSON\n",
      "Entity text: Warszawa  , entity label: PERSON\n",
      "Entity text: World War 2, entity label: EVENT\n"
     ]
    }
   ],
   "source": [
    "import spacy\n",
    "\n",
    "# Build upon the spaCy sm\n",
    "nlp = spacy.load(\"en_core_web_sm\")\n",
    "\n",
    "# Sample text\n",
    "text = \"The capital of Poland is Warszawa. Warszawa was demolished during World War 2.\"\n",
    "\n",
    "# Doc object\n",
    "doc = nlp(text)\n",
    "\n",
    "# extract entities\n",
    "for ent in doc.ents:\n",
    "    print(f\"Entity text: {ent.text:<10}, entity label: {ent.label_}\")"
   ]
  },
  {
   "attachments": {},
   "cell_type": "markdown",
   "metadata": {},
   "source": [
    "The code above illustrates the performance of spaCy's small model in identifying \"Warszawa\". Model identified \"Warszawa\" as a Perosn.\n",
    " These results highlight the model's failure to generalize on unfamiliar data, potentially due to a lack of exposure to the word \"Warszawa\".\n",
    "\n",
    "This issue is common in NLP when dealing with specific domains. Off-the-shelf models often struggle in domains where they haven;t been trained on domain-specific texts. However, we can address this by using spaCy's EntityRuler or training a new model.\n",
    "\n",
    "Now we will try to correctly identify \"Treblinka\""
   ]
  },
  {
   "cell_type": "code",
   "execution_count": 9,
   "metadata": {},
   "outputs": [
    {
     "name": "stdout",
     "output_type": "stream",
     "text": [
      "Entity text: Poland    , entity label: GPE\n",
      "Entity text: Warszawa  , entity label: PERSON\n",
      "Entity text: Warszawa  , entity label: PERSON\n",
      "Entity text: World War 2, entity label: EVENT\n"
     ]
    }
   ],
   "source": [
    "import spacy\n",
    "\n",
    "# Build upon the spaCy sm\n",
    "nlp = spacy.load(\"en_core_web_sm\")\n",
    "\n",
    "# Sample text\n",
    "text = \"The capital of Poland is Warszawa. Warszawa was demolished during World War 2.\"\n",
    "# Create the EntityRuler\n",
    "ruler = nlp.add_pipe(\"entity_ruler\")\n",
    "\n",
    "# List of Entities and Patterns\n",
    "patterns = [\n",
    "    {\"label\": \"GPE\", \"pattern\": \"Warszawa\"}\n",
    "]\n",
    "\n",
    "ruler.add_patterns(patterns)\n",
    "\n",
    "# Doc object\n",
    "doc = nlp(text)\n",
    "\n",
    "# extract entities\n",
    "for ent in doc.ents:\n",
    "    print(f\"Entity text: {ent.text:<10}, entity label: {ent.label_}\")"
   ]
  },
  {
   "attachments": {},
   "cell_type": "markdown",
   "metadata": {},
   "source": [
    "Our metod gave us same output. That's because when we create and add EntityRuler to the spaCy model's pipeline, by default spaCy add's new pipe to the end of the pipeline."
   ]
  },
  {
   "cell_type": "code",
   "execution_count": 10,
   "metadata": {},
   "outputs": [
    {
     "data": {
      "text/plain": [
       "{'summary': {'tok2vec': {'assigns': ['doc.tensor'],\n",
       "   'requires': [],\n",
       "   'scores': [],\n",
       "   'retokenizes': False},\n",
       "  'tagger': {'assigns': ['token.tag'],\n",
       "   'requires': [],\n",
       "   'scores': ['tag_acc'],\n",
       "   'retokenizes': False},\n",
       "  'parser': {'assigns': ['token.dep',\n",
       "    'token.head',\n",
       "    'token.is_sent_start',\n",
       "    'doc.sents'],\n",
       "   'requires': [],\n",
       "   'scores': ['dep_uas',\n",
       "    'dep_las',\n",
       "    'dep_las_per_type',\n",
       "    'sents_p',\n",
       "    'sents_r',\n",
       "    'sents_f'],\n",
       "   'retokenizes': False},\n",
       "  'attribute_ruler': {'assigns': [],\n",
       "   'requires': [],\n",
       "   'scores': [],\n",
       "   'retokenizes': False},\n",
       "  'lemmatizer': {'assigns': ['token.lemma'],\n",
       "   'requires': [],\n",
       "   'scores': ['lemma_acc'],\n",
       "   'retokenizes': False},\n",
       "  'ner': {'assigns': ['doc.ents', 'token.ent_iob', 'token.ent_type'],\n",
       "   'requires': [],\n",
       "   'scores': ['ents_f', 'ents_p', 'ents_r', 'ents_per_type'],\n",
       "   'retokenizes': False},\n",
       "  'entity_ruler': {'assigns': ['doc.ents', 'token.ent_type', 'token.ent_iob'],\n",
       "   'requires': [],\n",
       "   'scores': ['ents_f', 'ents_p', 'ents_r', 'ents_per_type'],\n",
       "   'retokenizes': False}},\n",
       " 'problems': {'tok2vec': [],\n",
       "  'tagger': [],\n",
       "  'parser': [],\n",
       "  'attribute_ruler': [],\n",
       "  'lemmatizer': [],\n",
       "  'ner': [],\n",
       "  'entity_ruler': []},\n",
       " 'attrs': {'doc.tensor': {'assigns': ['tok2vec'], 'requires': []},\n",
       "  'doc.sents': {'assigns': ['parser'], 'requires': []},\n",
       "  'token.head': {'assigns': ['parser'], 'requires': []},\n",
       "  'token.tag': {'assigns': ['tagger'], 'requires': []},\n",
       "  'token.lemma': {'assigns': ['lemmatizer'], 'requires': []},\n",
       "  'token.ent_iob': {'assigns': ['ner', 'entity_ruler'], 'requires': []},\n",
       "  'token.dep': {'assigns': ['parser'], 'requires': []},\n",
       "  'token.ent_type': {'assigns': ['ner', 'entity_ruler'], 'requires': []},\n",
       "  'token.is_sent_start': {'assigns': ['parser'], 'requires': []},\n",
       "  'doc.ents': {'assigns': ['ner', 'entity_ruler'], 'requires': []}}}"
      ]
     },
     "execution_count": 10,
     "metadata": {},
     "output_type": "execute_result"
    }
   ],
   "source": [
    "nlp.analyze_pipes()"
   ]
  },
  {
   "attachments": {},
   "cell_type": "markdown",
   "metadata": {},
   "source": [
    "In order for our EntityRuler to have primacy, we habe to assign it to after the **ner pipe**."
   ]
  },
  {
   "cell_type": "code",
   "execution_count": 13,
   "metadata": {},
   "outputs": [
    {
     "name": "stdout",
     "output_type": "stream",
     "text": [
      "Entity text: Poland    , entity label: GPE\n",
      "Entity text: Warszawa  , entity label: GPE\n",
      "Entity text: Warszawa  , entity label: GPE\n",
      "Entity text: World War 2, entity label: EVENT\n"
     ]
    }
   ],
   "source": [
    "import spacy\n",
    "\n",
    "# Build upon the spaCy sm\n",
    "nlp = spacy.load(\"en_core_web_sm\")\n",
    "\n",
    "# Sample text\n",
    "text = \"The capital of Poland is Warszawa. Warszawa was demolished during World War 2.\"\n",
    "# Create the EntityRuler\n",
    "ruler = nlp.add_pipe(\"entity_ruler\", before=\"ner\")\n",
    "\n",
    "# List of Entities and Patterns\n",
    "patterns = [\n",
    "    {\"label\": \"GPE\", \"pattern\": \"Warszawa\"}\n",
    "]\n",
    "\n",
    "ruler.add_patterns(patterns)\n",
    "\n",
    "# Doc object\n",
    "doc = nlp(text)\n",
    "\n",
    "# extract entities\n",
    "for ent in doc.ents:\n",
    "    print(f\"Entity text: {ent.text:<10}, entity label: {ent.label_}\")"
   ]
  },
  {
   "attachments": {},
   "cell_type": "markdown",
   "metadata": {},
   "source": [
    "## Complex Rules and Variance to the EntityRuler"
   ]
  },
  {
   "attachments": {},
   "cell_type": "markdown",
   "metadata": {},
   "source": [
    "Labels in NER can have specific variations that follow distinct patterns. One such example is phone number, which can have different formats. In the United States, the standard format is (xxx)-xxx-xxxx, but variations like xxx-xxx-xxxx or xxxxxxxxxx are also common. If a US phone number is provided to someone outside the US, it may be represented as +1(xxx)-xxx-xxxx.\n",
    "\n",
    "When working within a United Stated domain, we can utilize **regular expressions** (RegEx) with the pattern matcher in spaCy to capture these different instances.\n",
    "\n",
    "The spaCy EntityRuler allows the user to incorporate complex rules and variations, including RegEx patterns, by specifying them in the patterns argument. There are multiple arguments that can be passed to the patterns."
   ]
  },
  {
   "cell_type": "code",
   "execution_count": 14,
   "metadata": {},
   "outputs": [
    {
     "name": "stdout",
     "output_type": "stream",
     "text": [
      "Entity text: (555) 555-5555, entity label: PHONE_NUMBER\n"
     ]
    }
   ],
   "source": [
    "import spacy\n",
    "\n",
    "text = \"This is a sample number (555) 555-5555.\"\n",
    "\n",
    "# Build upon the spacy sm\n",
    "nlp = spacy.blank(\"en\")\n",
    "\n",
    "# Create the Ruler and Add it\n",
    "ruler = nlp.add_pipe(\"entity_ruler\")\n",
    "\n",
    "# List of Entities and Pattenrs (source: https://spacy.io/usage/rule-based-matching)\n",
    "patterns = [\n",
    "    {\"label\": \"PHONE_NUMBER\", \"pattern\": [{\"ORTH\": \"(\"}, {\"SHAPE\": \"ddd\"}, {\"ORTH\": \")\"}, {\"SHAPE\": \"ddd\"},\n",
    "     {\"ORTH\": \"-\"}, {\"SHAPE\": \"dddd\"}]}\n",
    "]\n",
    "# Add patterns to ruler\n",
    "ruler.add_patterns(patterns)\n",
    "\n",
    "# Doc object\n",
    "doc = nlp(text)\n",
    "\n",
    "# extract entities\n",
    "for ent in doc.ents:\n",
    "    print(f\"Entity text: {ent.text:<10}, entity label: {ent.label_}\")"
   ]
  }
 ],
 "metadata": {
  "kernelspec": {
   "display_name": "base",
   "language": "python",
   "name": "python3"
  },
  "language_info": {
   "codemirror_mode": {
    "name": "ipython",
    "version": 3
   },
   "file_extension": ".py",
   "mimetype": "text/x-python",
   "name": "python",
   "nbconvert_exporter": "python",
   "pygments_lexer": "ipython3",
   "version": "3.10.11"
  },
  "orig_nbformat": 4
 },
 "nbformat": 4,
 "nbformat_minor": 2
}
