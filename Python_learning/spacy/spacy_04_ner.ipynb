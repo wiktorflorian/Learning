{
 "cells": [
  {
   "attachments": {},
   "cell_type": "markdown",
   "metadata": {},
   "source": [
    "# spaCy's EntityRuler\n",
    "\n",
    "Based on **Dr. William Mattingly** video: https://www.youtube.com/watch?v=dIUTsFT2MeQ&t\n",
    "\n",
    "and his Jupyter Book: http://spacy.pythonhumanities.com/02_01_entityruler.html"
   ]
  },
  {
   "attachments": {},
   "cell_type": "markdown",
   "metadata": {},
   "source": [
    "## Named Entity Recognition (NER)"
   ]
  },
  {
   "attachments": {},
   "cell_type": "markdown",
   "metadata": {},
   "source": [
    "NER is a NLP technique that aims to identify and classify named entities in text into predefined categories. Named entities are specific types of word or phrases that represent names of people, organizations, locations, dates, quantities, monetary values, and other similar entites.\n",
    "\n",
    "The goal of NER is to extract and label these named entities from unstructured text and assign them to their respective categories. By identifyinf named entities, NER helps in understanding the structure amd semantics of text, enabling various downstream applications such as information retrieval, questions answering, information extraction, sentiment analysis and more.\n",
    "\n",
    "NER typically nvolves the following steps:\n",
    "1. **Tokenization**: The input text is divided into individual words or tokens.\n",
    "2. **Part-of-Speech Tagging (POS)**: Each token is assigned a part-of-speech tag that denotes its grammatical category (e.g., noun, verb, adjective).\n",
    "3. **Named Entity Recognition**: This is core step of NER. Here, the tokens are analyzed to determine if they represent named entities and if so, which category they belong to (e.g., person, organization, location). This can be done using rule-based approaches, machine learning algorithms such as Conditional Random Fields or Recurrent Neural Networks or a combination of both.\n",
    "4. **Entity Classification**: After identifying the named entities, they are further classified into predefined categories based on the ocntext and domain. For example, an organization entity can be classified as a compay, government agency, or educational institution.\n",
    "\n",
    "NER systems are trained on annotated datasets where human annotators label the named entities in the text. These annotated datasets serve as training data for machine learning algorithms to learn patterns and features that can help identify and classify named entities accurately.\n",
    "\n",
    "NER has broad applications in various domains. For example:\n",
    "+ **Information Extraciton**: NER can extract specific information such as names, dates, and locations from text.\n",
    "+ **Question Answering**: NER helps in uderstanding and extracting relevant information to answer questions\n",
    "+ **Document Summarization**: NER can identify important entites to generate concise sumaries.\n",
    "+ **Recommendation Systems**: NER can identify entities to provide personalized recommendations.\n",
    "\n",
    "Overall, NER plays a crucial role in text understanding and information extraction by identifying and categorizing named entities, enabling more advanced analysis and processing of text data."
   ]
  },
  {
   "attachments": {},
   "cell_type": "markdown",
   "metadata": {},
   "source": [
    "## EntityRuler"
   ]
  },
  {
   "attachments": {},
   "cell_type": "markdown",
   "metadata": {},
   "source": [
    "spaCy provides several methods for rules-based NER. One method is through its **EntityRuler**.\n",
    "\n",
    "The EntityRuler is spaCy **factory** that allows creating patterns with corresponding labels. A factory in spaCy is a set of classes and functions preloaded in spaCy for specific tasks. For the EntityRuler, the factory enables creating an EntityRuler, defining patterns and labels, and using them to find and label entities.\n",
    "\n",
    "Once the EntityRuler is created and instructed, it can be added to the spaCy pipeline as a new **pipe**.\n",
    "\n",
    "A pipe is a component of a pipeline, which takes input data, performs operations, and outputs new data or extract metadata. In spaCy, different pipes handle different tasks. The **tokenizer** tokenizes the text into individual tokens, the **parser** parses the text, and the NER identifies entities and assigns labels. The processed data is stored in the Doc object.\n",
    "\n",
    "Pipelines are sequential, meaning earlier components affect the input received by late components. This sequence can be crucial, as later pipes may depend on earlier ones. However, some pipes can function independently of earlier ones. Remember this when creating custom spaCy models or any pipeline.\n",
    "\n",
    "[<ins>Full spaCy's Entity Ruler documentation</ins>](https://spacy.io/api/entityruler)"
   ]
  },
  {
   "attachments": {},
   "cell_type": "markdown",
   "metadata": {},
   "source": [
    "## Examples"
   ]
  },
  {
   "cell_type": "code",
   "execution_count": null,
   "metadata": {},
   "outputs": [],
   "source": []
  }
 ],
 "metadata": {
  "kernelspec": {
   "display_name": "base",
   "language": "python",
   "name": "python3"
  },
  "language_info": {
   "codemirror_mode": {
    "name": "ipython",
    "version": 3
   },
   "file_extension": ".py",
   "mimetype": "text/x-python",
   "name": "python",
   "nbconvert_exporter": "python",
   "pygments_lexer": "ipython3",
   "version": "3.10.11"
  },
  "orig_nbformat": 4
 },
 "nbformat": 4,
 "nbformat_minor": 2
}
