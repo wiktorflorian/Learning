{
 "cells": [
  {
   "attachments": {},
   "cell_type": "markdown",
   "metadata": {},
   "source": [
    "# Concepts"
   ]
  },
  {
   "attachments": {},
   "cell_type": "markdown",
   "metadata": {},
   "source": [
    "## Natural Language Procesing (NLP)\n",
    "\n",
    "NLP is the process by which we try to get a computer system to understand and parse and extract human language ofentimes with raw text.\n",
    "\n",
    "Areas of natural langugage processing:\n",
    "+ Named Entity Recognition (NER)\n",
    "+ Part-of-Speech Taging (POS)\n",
    "+ Syntatic Parsing\n",
    "+ Text Categorization\n",
    "+ Coreference Resolution\n",
    "+ Machine Translation"
   ]
  },
  {
   "attachments": {},
   "cell_type": "markdown",
   "metadata": {},
   "source": [
    "### Named Entity Recognition (NER)\n",
    "\n",
    "NER is a NLP technique that aims to identify and classify named entities in text into predefined categories. Named entities are specific types of word or phrases that represent names of people, organizations, locations, dates, quantities, monetary values, and other similar entites.\n",
    "\n",
    "The goal of NER is to extract and label these named entities from unstructured text and assign them to their respective categories. By identifyinf named entities, NER helps in understanding the structure amd semantics of text, enabling various downstream applications such as information retrieval, questions answering, information extraction, sentiment analysis and more.\n",
    "\n",
    "NER typically nvolves the following steps:\n",
    "1. **Tokenization**: The input text is divided into individual words or tokens.\n",
    "2. **Part-of-Speech Tagging (POS)**: Each token is assigned a part-of-speech tag that denotes its grammatical category (e.g., noun, verb, adjective).\n",
    "3. **Named Entity Recognition**: This is core step of NER. Here, the tokens are analyzed to determine if they represent named entities and if so, which category they belong to (e.g., person, organization, location). This can be done using rule-based approaches, machine learning algorithms such as Conditional Random Fields or Recurrent Neural Networks or a combination of both.\n",
    "4. **Entity Classification**: After identifying the named entities, they are further classified into predefined categories based on the ocntext and domain. For example, an organization entity can be classified as a compay, government agency, or educational institution.\n",
    "\n",
    "NER systems are trained on annotated datasets where human annotators label the named entities in the text. These annotated datasets serve as training data for machine learning algorithms to learn patterns and features that can help identify and classify named entities accurately.\n",
    "\n",
    "NER has broad applications in various domains. For example:\n",
    "+ **Information Extraciton**: NER can extract specific information such as names, dates, and locations from text.\n",
    "+ **Question Answering**: NER helps in uderstanding and extracting relevant information to answer questions\n",
    "+ **Document Summarization**: NER can identify important entites to generate concise sumaries.\n",
    "+ **Recommendation Systems**: NER can identify entities to provide personalized recommendations.\n",
    "\n",
    "Overall, NER plays a crucial role in text understanding and information extraction by identifying and categorizing named entities, enabling more advanced analysis and processing of text data."
   ]
  },
  {
   "attachments": {},
   "cell_type": "markdown",
   "metadata": {},
   "source": [
    "### Part-of-Speech Tagging (POS)\n",
    "\n",
    "POS is a process in NLP that assigns a grammatical category or part-of-speach tag to each word in a given sentence or text. The part-of-speach tags represent the syntatic role and grammatical category words in a sentence, such as noun, verb, adjectice, adverb, pronun, preposition, conjuction, and more.\n",
    "\n",
    "POS tagging is essential for many NLP tasks and applications because it provides insights into the structure and meaning of sentences, allowing for more accurate analysis and understanding of text. It helps in disamblguating word meanings, resolving grammatical ambiguities, and facilitating further linguistic analysis.\n",
    "\n",
    "The process of POS tagging involves training machine learning models on annotated corpora, where human linguists or annotators manually assign appropriate part-of-speech tags to each word. These annotated datasets serve as training data for supervised learning algorithms to learn patterns and statistical associations between words and their corresponding part-of-speech tags.\n",
    "\n",
    "There are different approaches to POS tagging, icluding:\n",
    "1. **Rule-Based Tagging**: In this approach, a set of predefined rules and patterns are created to assign part-of-speech tags based on word morphology, context, and syntactic rules. For example, if a word ends with \"-ing\", it is likely a verb.\n",
    "2. **Probabilistic Tagging**: This approach involves using statistical models, such as Hidden Markov Models (HMMs) or Maximum Entropy Markov Models (MEMMs), to assign part-of-speech tags based on the probability of a word belonging to a particular category given its context and surrounding words.\n",
    "3. **Neural Network Tagging**: With the advancements in deep learning, neural network-based approaches, such as Recurrent Neural Networks (RNNs) or Transformer models, have been successfully applied to POS tagging. These models learn the sequential dependencies and contextual information in a sentence to predict the part-of-speech tags.\n",
    "\n",
    "POS tagging is a fundamental step in many NLP applications, including:\n",
    "+ **Syntax Parsing:**: POS tags provide information about the grammatical structure of a sentence, which is crucial for syntactic parsing and analyzing the relationships between words.\n",
    "+ **Named Entity Recognition**: POS tags can assist in identifying names entities by providing contextual cues. For example, proper nouns are often tagged as nouns.\n",
    "+ **Sentiment Analysis**: POS tags can be used as features for sentiment analysis tasks as different parts of speech may convey different sentiments.\n",
    "+ **Machine Translation**: POS tags help in disambiguating words during the translation process by providing information about the word's role in the sentence.\n",
    "\n",
    "POS tagging is a foundational task in NLP that plays a vital role in understanding the syntactic structure of text and facilitating various higher-level language processing tasks."
   ]
  },
  {
   "attachments": {},
   "cell_type": "markdown",
   "metadata": {},
   "source": [
    "### Syntatic Parsing"
   ]
  },
  {
   "attachments": {},
   "cell_type": "markdown",
   "metadata": {},
   "source": [
    "### Text Categorization"
   ]
  },
  {
   "attachments": {},
   "cell_type": "markdown",
   "metadata": {},
   "source": [
    "### Coreference Resolution"
   ]
  },
  {
   "attachments": {},
   "cell_type": "markdown",
   "metadata": {},
   "source": [
    "### Machine Translation"
   ]
  },
  {
   "attachments": {},
   "cell_type": "markdown",
   "metadata": {},
   "source": [
    "## Natural Language Understanding (NLU)\n",
    "\n",
    "NLU is where we train computer systems to do things like:\n",
    "+ **Relation Extracion**\n",
    "+ **Paraphrasing**\n",
    "+ **Sematic Parsing**\n",
    "+ **Sentiment Analysis**\n",
    "+ **Question and Answering**\n",
    "+ **Summarization**"
   ]
  },
  {
   "attachments": {},
   "cell_type": "markdown",
   "metadata": {},
   "source": [
    "### Relation Extraction"
   ]
  },
  {
   "attachments": {},
   "cell_type": "markdown",
   "metadata": {},
   "source": [
    "### Paraphrasing"
   ]
  },
  {
   "attachments": {},
   "cell_type": "markdown",
   "metadata": {},
   "source": [
    "### Sematic Parsing"
   ]
  },
  {
   "attachments": {},
   "cell_type": "markdown",
   "metadata": {},
   "source": [
    "### Sentiment Analysis"
   ]
  },
  {
   "attachments": {},
   "cell_type": "markdown",
   "metadata": {},
   "source": [
    "### Question and Answering"
   ]
  },
  {
   "attachments": {},
   "cell_type": "markdown",
   "metadata": {},
   "source": [
    "### Summarization"
   ]
  },
  {
   "attachments": {},
   "cell_type": "markdown",
   "metadata": {},
   "source": []
  }
 ],
 "metadata": {
  "language_info": {
   "name": "python"
  },
  "orig_nbformat": 4
 },
 "nbformat": 4,
 "nbformat_minor": 2
}
