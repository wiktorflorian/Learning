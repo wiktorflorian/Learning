{
 "cells": [
  {
   "attachments": {},
   "cell_type": "markdown",
   "metadata": {},
   "source": [
    "# Functional API **Project**\n",
    "\n",
    "Based on **Patric Loeber** video: https://www.youtube.com/watch?v=LwM7xabuiIc&t=6604s"
   ]
  },
  {
   "attachments": {},
   "cell_type": "markdown",
   "metadata": {},
   "source": [
    "The functional API  is another way to define our models. It is more flexible than the beginner friendly sequential API."
   ]
  },
  {
   "attachments": {},
   "cell_type": "markdown",
   "metadata": {},
   "source": [
    "### Introduction\n",
    "\n",
    "https://www.tensorflow.org/guide/keras/functional\n",
    "\n",
    "The Keras functional API is a way to create models that are more flexible than the tf.keras.Sequential API. The functional API can handle models with non-linear topology, shared layers, and even multiple inputs or outputs.\n",
    "\n",
    "The main idea is that a deep learning model is usually a directed acyclic graph (DAG) of layers. So the functional API is a way to build graphs of layers."
   ]
  },
  {
   "attachments": {},
   "cell_type": "markdown",
   "metadata": {},
   "source": [
    "## Code"
   ]
  },
  {
   "cell_type": "code",
   "execution_count": 1,
   "metadata": {},
   "outputs": [],
   "source": [
    "import tensorflow as tf\n",
    "from tensorflow import keras\n",
    "import numpy as np"
   ]
  },
  {
   "attachments": {},
   "cell_type": "markdown",
   "metadata": {},
   "source": [
    "### Typical example of the sequential API\n",
    "\n",
    "With the Sequential API we can only have a linear graph:\n",
    "\n",
    "a\n",
    "|\n",
    "b\n",
    "|\n",
    "c\n",
    "\n",
    "one input and then one layer after the other and only one output."
   ]
  },
  {
   "cell_type": "code",
   "execution_count": 3,
   "metadata": {},
   "outputs": [
    {
     "name": "stdout",
     "output_type": "stream",
     "text": [
      "Model: \"sequential\"\n",
      "_________________________________________________________________\n",
      " Layer (type)                Output Shape              Param #   \n",
      "=================================================================\n",
      " flatten (Flatten)           (None, 784)               0         \n",
      "                                                                 \n",
      " dense (Dense)               (None, 128)               100480    \n",
      "                                                                 \n",
      " dense_1 (Dense)             (None, 10)                1290      \n",
      "                                                                 \n",
      "=================================================================\n",
      "Total params: 101770 (397.54 KB)\n",
      "Trainable params: 101770 (397.54 KB)\n",
      "Non-trainable params: 0 (0.00 Byte)\n",
      "_________________________________________________________________\n",
      "None\n"
     ]
    }
   ],
   "source": [
    "# model; Sequential: one input, one output\n",
    "model = keras.models.Sequential([\n",
    "    keras.layers.Flatten(input_shape=(28,28)),\n",
    "    keras.layers.Dense(128, activation='relu'),\n",
    "    keras.layers.Dense(10)\n",
    "])\n",
    "\n",
    "print(model.summary())"
   ]
  },
  {
   "attachments": {},
   "cell_type": "markdown",
   "metadata": {},
   "source": [
    "### Functional API\n",
    "\n",
    "With the functional API we have a lot of more options like this below. For example we can have multiple inputs, outputs or even somwhere in the middle we can have different paths.\n",
    "\n",
    "```python\n",
    "#a           a           a   b           a\n",
    "#|           |            \\ /           / \\\n",
    "#b           b             c           b   c\n",
    "#|          / \\            |            \\ /\n",
    "#c         c   d           d             d\n",
    "```"
   ]
  },
  {
   "cell_type": "code",
   "execution_count": 5,
   "metadata": {},
   "outputs": [
    {
     "name": "stdout",
     "output_type": "stream",
     "text": [
      "Model: \"functionam_model\"\n",
      "_________________________________________________________________\n",
      " Layer (type)                Output Shape              Param #   \n",
      "=================================================================\n",
      " input_2 (InputLayer)        [(None, 28, 28)]          0         \n",
      "                                                                 \n",
      " flatten_2 (Flatten)         (None, 784)               0         \n",
      "                                                                 \n",
      " dense_4 (Dense)             (None, 128)               100480    \n",
      "                                                                 \n",
      " dense_5 (Dense)             (None, 10)                1290      \n",
      "                                                                 \n",
      "=================================================================\n",
      "Total params: 101770 (397.54 KB)\n",
      "Trainable params: 101770 (397.54 KB)\n",
      "Non-trainable params: 0 (0.00 Byte)\n",
      "_________________________________________________________________\n",
      "None\n"
     ]
    }
   ],
   "source": [
    "# We start by creating an input layer\n",
    "\n",
    "inputs = keras.Input(shape=(28,28))\n",
    "\n",
    "# Then we define our layers\n",
    "flatten = keras.layers.Flatten()\n",
    "dense1 = keras.layers.Dense(128, activation='relu')\n",
    "dense2 = keras.layers.Dense(10)\n",
    "\n",
    "# Calling layers, all layers above are callable like functions\n",
    "\n",
    "x = flatten(inputs)\n",
    "x = dense1(x)\n",
    "\n",
    "outputs = dense2(x)\n",
    "\n",
    "# Creating model\n",
    "model = keras.Model(inputs = inputs, outputs = outputs, name='functionam_model')\n",
    "\n",
    "print(model.summary())"
   ]
  },
  {
   "attachments": {},
   "cell_type": "markdown",
   "metadata": {},
   "source": [
    "### Functional API with multiple outputs"
   ]
  },
  {
   "cell_type": "code",
   "execution_count": 7,
   "metadata": {},
   "outputs": [
    {
     "name": "stdout",
     "output_type": "stream",
     "text": [
      "Model: \"functionam_model\"\n",
      "__________________________________________________________________________________________________\n",
      " Layer (type)                Output Shape                 Param #   Connected to                  \n",
      "==================================================================================================\n",
      " input_4 (InputLayer)        [(None, 28, 28)]             0         []                            \n",
      "                                                                                                  \n",
      " flatten_4 (Flatten)         (None, 784)                  0         ['input_4[0][0]']             \n",
      "                                                                                                  \n",
      " dense_9 (Dense)             (None, 128)                  100480    ['flatten_4[0][0]']           \n",
      "                                                                                                  \n",
      " dense_10 (Dense)            (None, 10)                   1290      ['dense_9[0][0]']             \n",
      "                                                                                                  \n",
      " dense_11 (Dense)            (None, 1)                    129       ['dense_9[0][0]']             \n",
      "                                                                                                  \n",
      "==================================================================================================\n",
      "Total params: 101899 (398.04 KB)\n",
      "Trainable params: 101899 (398.04 KB)\n",
      "Non-trainable params: 0 (0.00 Byte)\n",
      "__________________________________________________________________________________________________\n",
      "None\n"
     ]
    }
   ],
   "source": [
    "# We start by creating an input layer\n",
    "\n",
    "inputs = keras.Input(shape=(28,28))\n",
    "\n",
    "# Then we define our layers\n",
    "flatten = keras.layers.Flatten()\n",
    "dense1 = keras.layers.Dense(128, activation='relu')\n",
    "dense2 = keras.layers.Dense(10)\n",
    "dense2_2 = keras.layers.Dense(1) # second binary classification task\n",
    "\n",
    "# Calling layers, all layers above are callable like functions\n",
    "\n",
    "x = flatten(inputs)\n",
    "x = dense1(x)\n",
    "\n",
    "outputs = dense2(x)\n",
    "outputs2 = dense2_2(x)\n",
    "\n",
    "# Creating model, in outputs we use a list to have multiple outputs -> we can do same with multiple inputs etc.\n",
    "model = keras.Model(inputs = inputs, outputs = [outputs, outputs2], name='functionam_model')\n",
    "\n",
    "print(model.summary())"
   ]
  },
  {
   "attachments": {},
   "cell_type": "markdown",
   "metadata": {},
   "source": [
    "### Converting to a sequential model from a functional model\n",
    "\n",
    "It is very simple because we can iterate over the layers. this operation only works if the layer graph is linear."
   ]
  },
  {
   "cell_type": "code",
   "execution_count": null,
   "metadata": {},
   "outputs": [],
   "source": [
    "# Define new empty sequential model\n",
    "\n",
    "new_model = keras.models.Sequential()\n",
    "\n",
    "for layer in model.layers:\n",
    "    new_model.add(layer)"
   ]
  },
  {
   "attachments": {},
   "cell_type": "markdown",
   "metadata": {},
   "source": [
    "### Converting from to a functional model from a sequential model\n",
    "\n",
    "For a funcional API we have to define an input and then we can access the first layer by calling model layers 0 and then pass in the inputs. Then we do a for loop and iterate over all the other layers starting at 1. Then we call the layer and give it the input and assign it. At the end we say our output is the output from  the last iteration and then we define model.\n",
    "\n",
    "It is very flexible because we can leav out certain layers by doing if statment or we can use slicing operators, it is very common that we leaver out the last layer.\n",
    "\n",
    "this is very powerful for transfer learning which is very important concept."
   ]
  },
  {
   "cell_type": "code",
   "execution_count": null,
   "metadata": {},
   "outputs": [],
   "source": [
    "inputs = keras.Input(shape=(28,28))\n",
    "x = new_model.layers[0](inputs)\n",
    "for layer in new_model.layers[1:-1]:\n",
    "    x = layer(x)\n",
    "outputs = x\n",
    "\n",
    "model = keras.Model(inputs = inputs, outputs = outputs, name='functional_model_from_seq')"
   ]
  },
  {
   "attachments": {},
   "cell_type": "markdown",
   "metadata": {},
   "source": [
    "### Advantages of the functional API\n",
    "\n",
    "+ Models with multiple inputs and outputs\n",
    "+ Shared layers\n",
    "+ Extract and reuse nodes in the graph of layers\n",
    "+ Model are callable like layers (put model into sequential)"
   ]
  },
  {
   "attachments": {},
   "cell_type": "markdown",
   "metadata": {},
   "source": [
    "### Accessing the inputs and the outputs\n",
    "\n",
    "For every model we can acces the inputs and the outputs of a model and the layer."
   ]
  },
  {
   "cell_type": "code",
   "execution_count": 9,
   "metadata": {},
   "outputs": [
    {
     "name": "stdout",
     "output_type": "stream",
     "text": [
      "[<KerasTensor: shape=(None, 28, 28) dtype=float32 (created by layer 'input_4')>]\n",
      "[<KerasTensor: shape=(None, 10) dtype=float32 (created by layer 'dense_10')>, <KerasTensor: shape=(None, 1) dtype=float32 (created by layer 'dense_11')>]\n"
     ]
    }
   ],
   "source": [
    "inputs = model.inputs\n",
    "outputs = model.outputs\n",
    "\n",
    "print(inputs)\n",
    "print(outputs)"
   ]
  },
  {
   "attachments": {},
   "cell_type": "markdown",
   "metadata": {},
   "source": [
    "We can also get the input and the output for each layer."
   ]
  },
  {
   "cell_type": "code",
   "execution_count": 10,
   "metadata": {},
   "outputs": [
    {
     "name": "stdout",
     "output_type": "stream",
     "text": [
      "KerasTensor(type_spec=TensorSpec(shape=(None, 28, 28), dtype=tf.float32, name='input_4'), name='input_4', description=\"created by layer 'input_4'\")\n",
      "KerasTensor(type_spec=TensorSpec(shape=(None, 28, 28), dtype=tf.float32, name='input_4'), name='input_4', description=\"created by layer 'input_4'\")\n"
     ]
    }
   ],
   "source": [
    "input0 = model.layers[0].input\n",
    "output0 = model.layers[0].output\n",
    "\n",
    "print(input0)\n",
    "print(output0)"
   ]
  },
  {
   "attachments": {},
   "cell_type": "markdown",
   "metadata": {},
   "source": [
    "### Usage of accessning the inputs and the outputs in transfer learning"
   ]
  },
  {
   "attachments": {},
   "cell_type": "markdown",
   "metadata": {},
   "source": [
    "Let's say that we have already trained model and we want to modify onbly the last layer. So we want to cut out the last layer so we want to cut out the last layer of the base model and use our own. We can do this by accessing the output of the second last last layer and then we have to define a new output and pass inthis last output. Then we set up a new functional model."
   ]
  },
  {
   "cell_type": "code",
   "execution_count": null,
   "metadata": {},
   "outputs": [],
   "source": [
    "base_model = keras.applications.VGG16()\n",
    "\n",
    "x = base_model.layers[-2].output\n",
    "new_outputs = keras.layers.Dense(1)(x)\n",
    "\n",
    "new_model = keras.Model(inputs=base_model.inputs, outputs=new_outputs)"
   ]
  },
  {
   "attachments": {},
   "cell_type": "markdown",
   "metadata": {},
   "source": [
    "## Example with a classification task"
   ]
  },
  {
   "attachments": {},
   "cell_type": "markdown",
   "metadata": {},
   "source": [
    "We have two outputs that we want to predict. In this case we use MNIST dataset so we want to predict the hand written digit. But now we also assume that we want to predict if the digit was written with a right hand or a left hand."
   ]
  },
  {
   "cell_type": "code",
   "execution_count": 11,
   "metadata": {},
   "outputs": [],
   "source": [
    "import tensorflow as tf\n",
    "from tensorflow import keras\n",
    "import numpy as np"
   ]
  },
  {
   "cell_type": "code",
   "execution_count": 15,
   "metadata": {},
   "outputs": [],
   "source": [
    "# Define Functional Model\n",
    "inputs = keras.Input(shape=(28,28))\n",
    "flatten = keras.layers.Flatten()\n",
    "dense1 = keras.layers.Dense(128, activation='relu')\n",
    "\n",
    "dense2 = keras.layers.Dense(10, activation='softmax', name=\"category_output\")\n",
    "dense3 = keras.layers.Dense(1, activation='sigmoid', name=\"leftright_output\")"
   ]
  },
  {
   "cell_type": "code",
   "execution_count": 16,
   "metadata": {},
   "outputs": [],
   "source": [
    "x = flatten(inputs)\n",
    "x = dense1(x)\n",
    "\n",
    "outputs1 = dense2(x)\n",
    "outputs2 = dense3(x)\n",
    "\n",
    "model = keras.Model(inputs=inputs, outputs=[outputs1, outputs2], name=\"mnist_model\")"
   ]
  },
  {
   "cell_type": "code",
   "execution_count": 17,
   "metadata": {},
   "outputs": [
    {
     "name": "stdout",
     "output_type": "stream",
     "text": [
      "Model: \"mnist_model\"\n",
      "__________________________________________________________________________________________________\n",
      " Layer (type)                Output Shape                 Param #   Connected to                  \n",
      "==================================================================================================\n",
      " input_7 (InputLayer)        [(None, 28, 28)]             0         []                            \n",
      "                                                                                                  \n",
      " flatten_7 (Flatten)         (None, 784)                  0         ['input_7[0][0]']             \n",
      "                                                                                                  \n",
      " dense_14 (Dense)            (None, 128)                  100480    ['flatten_7[0][0]']           \n",
      "                                                                                                  \n",
      " category_output (Dense)     (None, 10)                   1290      ['dense_14[0][0]']            \n",
      "                                                                                                  \n",
      " leftright_output (Dense)    (None, 1)                    129       ['dense_14[0][0]']            \n",
      "                                                                                                  \n",
      "==================================================================================================\n",
      "Total params: 101899 (398.04 KB)\n",
      "Trainable params: 101899 (398.04 KB)\n",
      "Non-trainable params: 0 (0.00 Byte)\n",
      "__________________________________________________________________________________________________\n"
     ]
    }
   ],
   "source": [
    "model.summary()"
   ]
  },
  {
   "cell_type": "code",
   "execution_count": 20,
   "metadata": {},
   "outputs": [],
   "source": [
    "# loss and optimizer\n",
    "loss1 = keras.losses.SparseCategoricalCrossentropy(from_logits=False)\n",
    "loss2 = keras.losses.BinaryCrossentropy(from_logits=False)\n",
    "\n",
    "optim = keras.optimizers.legacy.Adam(learning_rate=0.001)\n",
    "\n",
    "metrics = [\"accuracy\"]\n",
    "\n",
    "losses = {\n",
    "    \"category_output\": loss1,\n",
    "    \"leftright_output\": loss2,\n",
    "}\n",
    "\n",
    "model.compile(loss=losses, optimizer=optim, metrics=metrics)"
   ]
  },
  {
   "cell_type": "code",
   "execution_count": 21,
   "metadata": {},
   "outputs": [
    {
     "name": "stdout",
     "output_type": "stream",
     "text": [
      "uint8 [5 0 4 1 9 2 1 3 1 4 3 5 3 6 1 7 2 8 6 9]\n",
      "uint8 [0 0 0 0 1 0 0 0 0 0 0 0 0 1 0 1 0 1 1 1]\n"
     ]
    }
   ],
   "source": [
    "# create data with 2 labels\n",
    "mnist = keras.datasets.mnist\n",
    "(x_train, y_train), (x_test, y_test) = mnist.load_data()\n",
    "x_train, x_test = x_train / 255.0, x_test / 255.0\n",
    "\n",
    "# 0=left, 1=right -> dummy example because mnist doesn't have information about which hand was used to write the numbers\n",
    "y_leftright = np.zeros(y_train.shape, dtype=np.uint8)\n",
    "for idx, y in enumerate(y_train):\n",
    "    if y > 5:\n",
    "        y_leftright[idx] = 1\n",
    "\n",
    "print(y_train.dtype, y_train[0:20])\n",
    "print(y_leftright.dtype, y_leftright[0:20])\n",
    "\n",
    "y = {\"category_output\": y_train,\n",
    "    \"leftright_output\": y_leftright}"
   ]
  },
  {
   "cell_type": "code",
   "execution_count": 22,
   "metadata": {},
   "outputs": [
    {
     "name": "stdout",
     "output_type": "stream",
     "text": [
      "Epoch 1/5\n",
      "938/938 - 1s - loss: 0.4993 - category_output_loss: 0.3102 - leftright_output_loss: 0.1890 - category_output_accuracy: 0.9128 - leftright_output_accuracy: 0.9313 - 807ms/epoch - 860us/step\n",
      "Epoch 2/5\n",
      "938/938 - 1s - loss: 0.2403 - category_output_loss: 0.1431 - leftright_output_loss: 0.0972 - category_output_accuracy: 0.9580 - leftright_output_accuracy: 0.9670 - 584ms/epoch - 622us/step\n",
      "Epoch 3/5\n",
      "938/938 - 1s - loss: 0.1787 - category_output_loss: 0.1020 - leftright_output_loss: 0.0767 - category_output_accuracy: 0.9704 - leftright_output_accuracy: 0.9741 - 577ms/epoch - 615us/step\n",
      "Epoch 4/5\n",
      "938/938 - 1s - loss: 0.1432 - category_output_loss: 0.0788 - leftright_output_loss: 0.0644 - category_output_accuracy: 0.9770 - leftright_output_accuracy: 0.9778 - 569ms/epoch - 606us/step\n",
      "Epoch 5/5\n",
      "938/938 - 1s - loss: 0.1169 - category_output_loss: 0.0622 - leftright_output_loss: 0.0547 - category_output_accuracy: 0.9820 - leftright_output_accuracy: 0.9817 - 566ms/epoch - 603us/step\n"
     ]
    },
    {
     "data": {
      "text/plain": [
       "<keras.src.callbacks.History at 0x14b8c9c90>"
      ]
     },
     "execution_count": 22,
     "metadata": {},
     "output_type": "execute_result"
    }
   ],
   "source": [
    "# training\n",
    "model.fit(x_train, y=y, epochs=5,\n",
    "          batch_size=64, verbose=2)"
   ]
  },
  {
   "cell_type": "code",
   "execution_count": 23,
   "metadata": {},
   "outputs": [
    {
     "name": "stdout",
     "output_type": "stream",
     "text": [
      "313/313 [==============================] - 0s 317us/step\n"
     ]
    },
    {
     "data": {
      "text/plain": [
       "2"
      ]
     },
     "execution_count": 23,
     "metadata": {},
     "output_type": "execute_result"
    }
   ],
   "source": [
    "# list with 2 predictions\n",
    "predictions = model.predict(x_test)\n",
    "len(predictions)"
   ]
  },
  {
   "cell_type": "code",
   "execution_count": 24,
   "metadata": {},
   "outputs": [],
   "source": [
    "prediction_category = predictions[0]\n",
    "prediction_lr = predictions[1]\n",
    "\n",
    "pr_cat = prediction_category[0:20]\n",
    "pr_lr = prediction_lr[0:20]\n",
    "\n",
    "labels_cat = np.argmax(pr_cat, axis=1)\n",
    "labels_lr = np.array([1 if p >= 0.5 else 0 for p in pr_lr])"
   ]
  },
  {
   "cell_type": "code",
   "execution_count": 27,
   "metadata": {},
   "outputs": [
    {
     "name": "stdout",
     "output_type": "stream",
     "text": [
      "First 20 real category labels: [7 2 1 0 4 1 4 9 5 9 0 6 9 0 1 5 9 7 3 4]\n",
      "First 20 predicted category labels: [7 2 1 0 4 1 4 9 5 9 0 6 9 0 1 5 9 7 3 4]\n",
      "First 20 predicted left(0) or right(1) hand labels: [1 0 0 0 0 0 0 1 0 1 0 1 1 0 0 0 1 1 0 0]\n"
     ]
    }
   ],
   "source": [
    "print(f\"First 20 real category labels: {y_test[0:20]}\")\n",
    "print(f\"First 20 predicted category labels: {labels_cat}\")\n",
    "print(f\"First 20 predicted left(0) or right(1) hand labels: {labels_lr}\")"
   ]
  }
 ],
 "metadata": {
  "kernelspec": {
   "display_name": "tf",
   "language": "python",
   "name": "python3"
  },
  "language_info": {
   "codemirror_mode": {
    "name": "ipython",
    "version": 3
   },
   "file_extension": ".py",
   "mimetype": "text/x-python",
   "name": "python",
   "nbconvert_exporter": "python",
   "pygments_lexer": "ipython3",
   "version": "3.10.11"
  },
  "orig_nbformat": 4
 },
 "nbformat": 4,
 "nbformat_minor": 2
}
