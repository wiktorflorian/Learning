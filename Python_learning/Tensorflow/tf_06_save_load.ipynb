{
 "cells": [
  {
   "attachments": {},
   "cell_type": "markdown",
   "metadata": {},
   "source": [
    "# Save & Load\n",
    "\n",
    "Based on **Patric Loeber** video: https://www.youtube.com/watch?v=LwM7xabuiIc&t=6078s"
   ]
  },
  {
   "attachments": {},
   "cell_type": "markdown",
   "metadata": {},
   "source": []
  }
 ],
 "metadata": {
  "language_info": {
   "name": "python"
  },
  "orig_nbformat": 4
 },
 "nbformat": 4,
 "nbformat_minor": 2
}
