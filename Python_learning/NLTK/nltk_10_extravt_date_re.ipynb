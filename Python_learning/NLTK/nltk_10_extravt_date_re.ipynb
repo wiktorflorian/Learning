{
 "cells": [
  {
   "attachments": {},
   "cell_type": "markdown",
   "metadata": {},
   "source": [
    "# Extract Date using Regular Expressions\n",
    "\n",
    "Based on **Stats Wire** video: https://www.youtube.com/watch?v=e8oCVuC-bFQ&list=PLBSCvBlTOLa_wS8iy84DfyizdSs7ps7L5"
   ]
  },
  {
   "cell_type": "code",
   "execution_count": null,
   "metadata": {},
   "outputs": [],
   "source": []
  }
 ],
 "metadata": {
  "language_info": {
   "name": "python"
  },
  "orig_nbformat": 4
 },
 "nbformat": 4,
 "nbformat_minor": 2
}
