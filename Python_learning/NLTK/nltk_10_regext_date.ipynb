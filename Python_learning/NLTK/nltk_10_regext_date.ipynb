{
 "cells": [
  {
   "attachments": {},
   "cell_type": "markdown",
   "metadata": {},
   "source": [
    "# Extract Date using Regular Expressions\n",
    "\n",
    "Based on **Stats Wire** video: https://www.youtube.com/watch?v=e8oCVuC-bFQ&list=PLBSCvBlTOLa_wS8iy84DfyizdSs7ps7L5"
   ]
  },
  {
   "cell_type": "code",
   "execution_count": 1,
   "metadata": {},
   "outputs": [],
   "source": [
    "import re"
   ]
  },
  {
   "cell_type": "code",
   "execution_count": 23,
   "metadata": {},
   "outputs": [],
   "source": [
    "d1 = \"11-07-2020\\jk11/07/2020/fhfhs11-07-20\""
   ]
  },
  {
   "cell_type": "code",
   "execution_count": 24,
   "metadata": {},
   "outputs": [
    {
     "name": "stdout",
     "output_type": "stream",
     "text": [
      "11-07-2020\\jk11/07/2020/fhfhs11-07-20\n"
     ]
    }
   ],
   "source": [
    "print(d1)"
   ]
  },
  {
   "cell_type": "code",
   "execution_count": 25,
   "metadata": {},
   "outputs": [
    {
     "data": {
      "text/plain": [
       "['11-07-2020', '11/07/2020']"
      ]
     },
     "execution_count": 25,
     "metadata": {},
     "output_type": "execute_result"
    }
   ],
   "source": [
    "# searching for 2 digits followed by / or - followed by 2 digits followed by / or - followed by 4 digits\n",
    "re.findall(r'\\d{2}[/-]\\d{2}[/-]\\d{4}', d1)"
   ]
  },
  {
   "cell_type": "code",
   "execution_count": 26,
   "metadata": {},
   "outputs": [
    {
     "data": {
      "text/plain": [
       "['11-07-20', '11/07/20', '11-07-20']"
      ]
     },
     "execution_count": 26,
     "metadata": {},
     "output_type": "execute_result"
    }
   ],
   "source": [
    "# searching for 2 digits followed by / or - followed by 2 digits followed by / or - followed by 2 digits\n",
    "re.findall(r'\\d{2}[/-]\\d{2}[/-]\\d{2}', d1)"
   ]
  },
  {
   "cell_type": "code",
   "execution_count": 27,
   "metadata": {},
   "outputs": [
    {
     "data": {
      "text/plain": [
       "['11-07-2020', '11/07/2020', '11-07-20']"
      ]
     },
     "execution_count": 27,
     "metadata": {},
     "output_type": "execute_result"
    }
   ],
   "source": [
    "# searching for 2 digits followed by / or - followed by 2 digits followed by / or - followed by 4 digits\n",
    "re.findall(r'\\d{2}[/-]\\d{2}[/-]\\d{2,4}', d1)"
   ]
  },
  {
   "cell_type": "code",
   "execution_count": 12,
   "metadata": {},
   "outputs": [],
   "source": [
    "d2 = \"1-07-2020\\jk1/07/2020/fhfhs1-07-20\""
   ]
  },
  {
   "cell_type": "code",
   "execution_count": 13,
   "metadata": {},
   "outputs": [
    {
     "name": "stdout",
     "output_type": "stream",
     "text": [
      "1-07-2020\\jk1/07/2020/fhfhs1-07-20\n"
     ]
    }
   ],
   "source": [
    "print(d2)"
   ]
  },
  {
   "cell_type": "code",
   "execution_count": 17,
   "metadata": {},
   "outputs": [
    {
     "data": {
      "text/plain": [
       "['1-07-2020', '1/07/2020', '1-07-20']"
      ]
     },
     "execution_count": 17,
     "metadata": {},
     "output_type": "execute_result"
    }
   ],
   "source": [
    "# searching for 2 digits followed by / or - followed by 2 digits followed by / or - followed by 4 digits\n",
    "re.findall(r'\\d{1}[/-]\\d{2}[/-]\\d{2,4}', d2)"
   ]
  },
  {
   "cell_type": "code",
   "execution_count": 18,
   "metadata": {},
   "outputs": [],
   "source": [
    "d3 = \"1-7-2020\\jk1/7/2020/fhfhs1-7-20\""
   ]
  },
  {
   "cell_type": "code",
   "execution_count": 19,
   "metadata": {},
   "outputs": [
    {
     "name": "stdout",
     "output_type": "stream",
     "text": [
      "1-7-2020\\jk1/7/2020/fhfhs1-7-20\n"
     ]
    }
   ],
   "source": [
    "print(d3)"
   ]
  },
  {
   "cell_type": "code",
   "execution_count": 22,
   "metadata": {},
   "outputs": [
    {
     "data": {
      "text/plain": [
       "['1-7-2020', '1/7/2020', '1-7-20']"
      ]
     },
     "execution_count": 22,
     "metadata": {},
     "output_type": "execute_result"
    }
   ],
   "source": [
    "# searching for 2 digits followed by / or - followed by 2 digits followed by / or - followed by 4 digits\n",
    "re.findall(r'\\d{1}[/-]\\d{1}[/-]\\d{2,4}', d3)"
   ]
  }
 ],
 "metadata": {
  "kernelspec": {
   "display_name": "base",
   "language": "python",
   "name": "python3"
  },
  "language_info": {
   "codemirror_mode": {
    "name": "ipython",
    "version": 3
   },
   "file_extension": ".py",
   "mimetype": "text/x-python",
   "name": "python",
   "nbconvert_exporter": "python",
   "pygments_lexer": "ipython3",
   "version": "3.10.11"
  },
  "orig_nbformat": 4
 },
 "nbformat": 4,
 "nbformat_minor": 2
}
