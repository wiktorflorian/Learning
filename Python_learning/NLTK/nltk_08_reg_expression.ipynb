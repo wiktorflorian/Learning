{
 "cells": [
  {
   "attachments": {},
   "cell_type": "markdown",
   "metadata": {},
   "source": [
    "# Regular Expression\n",
    "\n",
    "Based on **Stats Wire** video: https://www.youtube.com/watch?v=Lw4MpTUxta4&t=3s"
   ]
  },
  {
   "cell_type": "code",
   "execution_count": 4,
   "metadata": {},
   "outputs": [],
   "source": [
    "text1 = '\"Ethics are built right into the ideals and objectives of the United Nations\" #UNSG @ NY Society for Ethical Culture bit.ly/2guVerl @UN @UN_Women'"
   ]
  },
  {
   "cell_type": "code",
   "execution_count": 5,
   "metadata": {},
   "outputs": [
    {
     "name": "stdout",
     "output_type": "stream",
     "text": [
      "\"Ethics are built right into the ideals and objectives of the United Nations\" #UNSG @ NY Society for Ethical Culture bit.ly/2guVerl @UN @UN_Women\n"
     ]
    }
   ],
   "source": [
    "print(text1)"
   ]
  },
  {
   "cell_type": "code",
   "execution_count": 6,
   "metadata": {},
   "outputs": [],
   "source": [
    "text2 = text1.split(' ')"
   ]
  },
  {
   "cell_type": "code",
   "execution_count": 7,
   "metadata": {},
   "outputs": [
    {
     "name": "stdout",
     "output_type": "stream",
     "text": [
      "['\"Ethics', 'are', 'built', 'right', 'into', 'the', 'ideals', 'and', 'objectives', 'of', 'the', 'United', 'Nations\"', '#UNSG', '@', 'NY', 'Society', 'for', 'Ethical', 'Culture', 'bit.ly/2guVerl', '@UN', '@UN_Women']\n"
     ]
    }
   ],
   "source": [
    "print(text2)"
   ]
  },
  {
   "cell_type": "code",
   "execution_count": 8,
   "metadata": {},
   "outputs": [
    {
     "data": {
      "text/plain": [
       "23"
      ]
     },
     "execution_count": 8,
     "metadata": {},
     "output_type": "execute_result"
    }
   ],
   "source": [
    "len(text2)"
   ]
  },
  {
   "cell_type": "code",
   "execution_count": 9,
   "metadata": {},
   "outputs": [
    {
     "data": {
      "text/plain": [
       "['#UNSG']"
      ]
     },
     "execution_count": 9,
     "metadata": {},
     "output_type": "execute_result"
    }
   ],
   "source": [
    "[t for t in text2 if t.startswith(\"#\")]"
   ]
  },
  {
   "cell_type": "code",
   "execution_count": 10,
   "metadata": {},
   "outputs": [
    {
     "data": {
      "text/plain": [
       "['@', '@UN', '@UN_Women']"
      ]
     },
     "execution_count": 10,
     "metadata": {},
     "output_type": "execute_result"
    }
   ],
   "source": [
    "[t for t in text2 if t.startswith(\"@\")]"
   ]
  },
  {
   "attachments": {},
   "cell_type": "markdown",
   "metadata": {},
   "source": [
    "To use regular expressions we have to implement **re** library"
   ]
  },
  {
   "cell_type": "code",
   "execution_count": 12,
   "metadata": {},
   "outputs": [],
   "source": [
    "import re"
   ]
  },
  {
   "cell_type": "code",
   "execution_count": 14,
   "metadata": {},
   "outputs": [
    {
     "data": {
      "text/plain": [
       "['@UN', '@UN_Women']"
      ]
     },
     "execution_count": 14,
     "metadata": {},
     "output_type": "execute_result"
    }
   ],
   "source": [
    "# Search for @ followed by any character\n",
    "[t for t in text2 if re.search('@[A-Za-z0-9_]+', t)]"
   ]
  },
  {
   "cell_type": "code",
   "execution_count": 15,
   "metadata": {},
   "outputs": [
    {
     "data": {
      "text/plain": [
       "['@UN', '@UN_Women']"
      ]
     },
     "execution_count": 15,
     "metadata": {},
     "output_type": "execute_result"
    }
   ],
   "source": [
    "# Search for @ followed by one ore more word characters (alphanumeric characters or underscores)\n",
    "[t for t in text2 if re.search('@\\w+', t)]"
   ]
  },
  {
   "cell_type": "code",
   "execution_count": 16,
   "metadata": {},
   "outputs": [
    {
     "data": {
      "text/plain": [
       "['i',\n",
       " 'a',\n",
       " 'e',\n",
       " 'u',\n",
       " 'i',\n",
       " 'i',\n",
       " 'i',\n",
       " 'o',\n",
       " 'e',\n",
       " 'i',\n",
       " 'e',\n",
       " 'a',\n",
       " 'a',\n",
       " 'o',\n",
       " 'e',\n",
       " 'i',\n",
       " 'e',\n",
       " 'o',\n",
       " 'e',\n",
       " 'i',\n",
       " 'e',\n",
       " 'a',\n",
       " 'i',\n",
       " 'o',\n",
       " 'o',\n",
       " 'i',\n",
       " 'e',\n",
       " 'o',\n",
       " 'i',\n",
       " 'a',\n",
       " 'u',\n",
       " 'u',\n",
       " 'e',\n",
       " 'i',\n",
       " 'u',\n",
       " 'e',\n",
       " 'o',\n",
       " 'e']"
      ]
     },
     "execution_count": 16,
     "metadata": {},
     "output_type": "execute_result"
    }
   ],
   "source": [
    "# Find all occurrences of lowercase vowels in text\n",
    "re.findall(r'[aeiou]', text1)"
   ]
  },
  {
   "cell_type": "code",
   "execution_count": 18,
   "metadata": {},
   "outputs": [
    {
     "data": {
      "text/plain": [
       "['\"',\n",
       " 'E',\n",
       " 't',\n",
       " 'h',\n",
       " 'c',\n",
       " 's',\n",
       " ' ',\n",
       " 'r',\n",
       " ' ',\n",
       " 'b',\n",
       " 'l',\n",
       " 't',\n",
       " ' ',\n",
       " 'r',\n",
       " 'g',\n",
       " 'h',\n",
       " 't',\n",
       " ' ',\n",
       " 'n',\n",
       " 't',\n",
       " ' ',\n",
       " 't',\n",
       " 'h',\n",
       " ' ',\n",
       " 'd',\n",
       " 'l',\n",
       " 's',\n",
       " ' ',\n",
       " 'n',\n",
       " 'd',\n",
       " ' ',\n",
       " 'b',\n",
       " 'j',\n",
       " 'c',\n",
       " 't',\n",
       " 'v',\n",
       " 's',\n",
       " ' ',\n",
       " 'f',\n",
       " ' ',\n",
       " 't',\n",
       " 'h',\n",
       " ' ',\n",
       " 'U',\n",
       " 'n',\n",
       " 't',\n",
       " 'd',\n",
       " ' ',\n",
       " 'N',\n",
       " 't',\n",
       " 'n',\n",
       " 's',\n",
       " '\"',\n",
       " ' ',\n",
       " '#',\n",
       " 'U',\n",
       " 'N',\n",
       " 'S',\n",
       " 'G',\n",
       " ' ',\n",
       " '@',\n",
       " ' ',\n",
       " 'N',\n",
       " 'Y',\n",
       " ' ',\n",
       " 'S',\n",
       " 'c',\n",
       " 't',\n",
       " 'y',\n",
       " ' ',\n",
       " 'f',\n",
       " 'r',\n",
       " ' ',\n",
       " 'E',\n",
       " 't',\n",
       " 'h',\n",
       " 'c',\n",
       " 'l',\n",
       " ' ',\n",
       " 'C',\n",
       " 'l',\n",
       " 't',\n",
       " 'r',\n",
       " ' ',\n",
       " 'b',\n",
       " 't',\n",
       " '.',\n",
       " 'l',\n",
       " 'y',\n",
       " '/',\n",
       " '2',\n",
       " 'g',\n",
       " 'V',\n",
       " 'r',\n",
       " 'l',\n",
       " ' ',\n",
       " '@',\n",
       " 'U',\n",
       " 'N',\n",
       " ' ',\n",
       " '@',\n",
       " 'U',\n",
       " 'N',\n",
       " '_',\n",
       " 'W',\n",
       " 'm',\n",
       " 'n']"
      ]
     },
     "execution_count": 18,
     "metadata": {},
     "output_type": "execute_result"
    }
   ],
   "source": [
    "# find everything expect of lowercase vowels\n",
    "re.findall(r'[^aeiou]', text1)"
   ]
  }
 ],
 "metadata": {
  "kernelspec": {
   "display_name": "base",
   "language": "python",
   "name": "python3"
  },
  "language_info": {
   "codemirror_mode": {
    "name": "ipython",
    "version": 3
   },
   "file_extension": ".py",
   "mimetype": "text/x-python",
   "name": "python",
   "nbconvert_exporter": "python",
   "pygments_lexer": "ipython3",
   "version": "3.10.11"
  },
  "orig_nbformat": 4
 },
 "nbformat": 4,
 "nbformat_minor": 2
}
