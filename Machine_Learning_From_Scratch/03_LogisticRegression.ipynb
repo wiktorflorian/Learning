{
 "cells": [
  {
   "cell_type": "markdown",
   "id": "a7d17e6d-550f-4485-8419-119ce9a34203",
   "metadata": {},
   "source": [
    "# Logistic Regression\n",
    "\n",
    "Based on **Patric Loeber** video: https://www.youtube.com/watch?v=JDU3AzH3WKg&list=PLqnslRFeH2Upcrywf-u2etjdxxkL8nl7E&index=3"
   ]
  },
  {
   "cell_type": "markdown",
   "id": "e39d5a97-c6db-4ee5-9c11-52451c03f26c",
   "metadata": {},
   "source": []
  },
  {
   "cell_type": "markdown",
   "id": "caf641de-62a4-44e4-bbb1-38fd77ab2bc3",
   "metadata": {},
   "source": []
  },
  {
   "cell_type": "markdown",
   "id": "354b4adc-8189-4059-ac71-da088d894cbb",
   "metadata": {},
   "source": []
  }
 ],
 "metadata": {
  "kernelspec": {
   "display_name": "Python 3 (ipykernel)",
   "language": "python",
   "name": "python3"
  },
  "language_info": {
   "codemirror_mode": {
    "name": "ipython",
    "version": 3
   },
   "file_extension": ".py",
   "mimetype": "text/x-python",
   "name": "python",
   "nbconvert_exporter": "python",
   "pygments_lexer": "ipython3",
   "version": "3.11.2"
  }
 },
 "nbformat": 4,
 "nbformat_minor": 5
}
