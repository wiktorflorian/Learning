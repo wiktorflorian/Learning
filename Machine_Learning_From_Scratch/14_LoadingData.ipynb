{
 "cells": [
  {
   "cell_type": "markdown",
   "id": "eecd7808-f7f5-4e81-9667-e854de019910",
   "metadata": {},
   "source": [
    "# How to Load Machine Learning Data\n",
    "\n",
    "Based on **Patric Loeber** video: https://www.youtube.com/watch?v=eivDTOlA0TE&list=PLqnslRFeH2Upcrywf-u2etjdxxkL8nl7E&index=16"
   ]
  },
  {
   "cell_type": "markdown",
   "id": "5e8a5b99-bd67-466c-88ee-f026e1df637c",
   "metadata": {},
   "source": [
    "# Loading with pure python and csv module\n",
    "\n",
    "**Not recomended** because it is slower and need more code than other methods. Manualy option."
   ]
  },
  {
   "cell_type": "code",
   "execution_count": 5,
   "id": "0970833d-3c31-4f4a-8bc4-1d326c64aea3",
   "metadata": {
    "tags": []
   },
   "outputs": [
    {
     "name": "stdout",
     "output_type": "stream",
     "text": [
      "(4601, 58)\n",
      "(4601, 57) (4601,)\n"
     ]
    }
   ],
   "source": [
    "import csv\n",
    "import numpy as np\n",
    "\n",
    "FILE_NAME = \"spambase.data\"\n",
    "with open(FILE_NAME, 'r') as f:\n",
    "    data = list(csv.reader(f, delimiter=\",\"))\n",
    "    \n",
    "data = np.array(data)\n",
    "print(data.shape)\n",
    "n_samples, n_features = data.shape\n",
    "n_features -= 1\n",
    "X = data[:,0:n_features]\n",
    "y = data[:, n_features]\n",
    "print(X.shape, y.shape)"
   ]
  },
  {
   "cell_type": "markdown",
   "id": "fb000e1d-52d8-4d66-835b-a2057b041f38",
   "metadata": {},
   "source": [
    "# Loading with numpy\n",
    "\n",
    "First method"
   ]
  },
  {
   "cell_type": "code",
   "execution_count": 9,
   "id": "10cc29b3-1d79-4e94-ad7c-96988d8bb5ce",
   "metadata": {
    "tags": []
   },
   "outputs": [
    {
     "name": "stdout",
     "output_type": "stream",
     "text": [
      "(4601, 58)\n",
      "(4601, 57) (4601,)\n"
     ]
    }
   ],
   "source": [
    "import numpy as np\n",
    "\n",
    "FILE_NAME = \"spambase.data\"\n",
    "data = np.loadtxt(FILE_NAME, delimiter=\",\")\n",
    "    \n",
    "print(data.shape)\n",
    "n_samples, n_features = data.shape\n",
    "n_features -= 1\n",
    "X = data[:,0:n_features]\n",
    "y = data[:, n_features]\n",
    "print(X.shape, y.shape)"
   ]
  },
  {
   "cell_type": "markdown",
   "id": "45430e09-d7d4-408d-a97b-63c4dbdd5ed8",
   "metadata": {},
   "source": [
    "Second method, Even better. Recomended one, does the same thing as last method but also offers a little more options for parameters. We can for example deal with missing data."
   ]
  },
  {
   "cell_type": "code",
   "execution_count": 10,
   "id": "e05a6364-40de-4a22-893f-3b4a8f1bb170",
   "metadata": {
    "tags": []
   },
   "outputs": [
    {
     "name": "stdout",
     "output_type": "stream",
     "text": [
      "(4601, 58)\n",
      "(4601, 57) (4601,)\n"
     ]
    }
   ],
   "source": [
    "import numpy as np\n",
    "\n",
    "FILE_NAME = \"spambase.data\"\n",
    "data = np.genfromtxt(FILE_NAME, delimiter=\",\")\n",
    "    \n",
    "print(data.shape)\n",
    "n_samples, n_features = data.shape\n",
    "n_features -= 1\n",
    "X = data[:,0:n_features]\n",
    "y = data[:, n_features]\n",
    "print(X.shape, y.shape)"
   ]
  },
  {
   "cell_type": "markdown",
   "id": "e002a084-afa5-431a-8d2a-31965d9eb81a",
   "metadata": {},
   "source": [
    "# Pandas\n",
    "\n",
    "Pandas tries to read a header, in this case we don't have it. Even more options and it should be a little faster"
   ]
  },
  {
   "cell_type": "code",
   "execution_count": 13,
   "id": "f6bc1938-73e5-4676-a828-1ead7ce5072c",
   "metadata": {
    "tags": []
   },
   "outputs": [
    {
     "name": "stdout",
     "output_type": "stream",
     "text": [
      "(4601, 58)\n",
      "(4601, 57) (4601,)\n"
     ]
    }
   ],
   "source": [
    "import pandas as pd\n",
    "\n",
    "FILE_NAME = \"spambase.data\"\n",
    "df = pd.read_csv(FILE_NAME, header=None, delimiter=\",\")\n",
    "data = df.to_numpy()\n",
    "\n",
    "print(data.shape)\n",
    "n_samples, n_features = data.shape\n",
    "n_features -= 1\n",
    "X = data[:,0:n_features]\n",
    "y = data[:, n_features]\n",
    "print(X.shape, y.shape)"
   ]
  },
  {
   "cell_type": "markdown",
   "id": "0f61f876-9a7c-4106-9f43-9d5afee52dba",
   "metadata": {},
   "source": [
    "## Good practices"
   ]
  },
  {
   "cell_type": "markdown",
   "id": "050ab2f0-d1d6-4736-8917-b354c3cc646e",
   "metadata": {
    "jp-MarkdownHeadingCollapsed": true,
    "tags": []
   },
   "source": [
    "If we know data type, the good practice is to specifying it. Otherwise the function has t figure the data type for itself and it can take more time or be wrong. Some alghoritms or classifiers expect data type as float"
   ]
  },
  {
   "cell_type": "code",
   "execution_count": 14,
   "id": "e5a3eab2-b274-4928-9df3-97f865d93288",
   "metadata": {
    "tags": []
   },
   "outputs": [
    {
     "name": "stdout",
     "output_type": "stream",
     "text": [
      "(4601, 58) <class 'numpy.float32'>\n",
      "(4601, 57) (4601,)\n",
      "(4601, 58) <class 'numpy.float32'>\n",
      "(4601, 57) (4601,)\n"
     ]
    }
   ],
   "source": [
    "import numpy as np\n",
    "\n",
    "FILE_NAME = \"spambase.data\"\n",
    "data = np.genfromtxt(FILE_NAME, delimiter=\",\", dtype=np.float32)\n",
    "    \n",
    "print(data.shape, type(data[0][0]))\n",
    "n_samples, n_features = data.shape\n",
    "n_features -= 1\n",
    "X = data[:,0:n_features]\n",
    "y = data[:, n_features]\n",
    "print(X.shape, y.shape)\n",
    "\n",
    "import pandas as pd\n",
    "\n",
    "FILE_NAME = \"spambase.data\"\n",
    "df = pd.read_csv(FILE_NAME, header=None, delimiter=\",\", dtype=np.float32)\n",
    "data = df.to_numpy()\n",
    "\n",
    "print(data.shape,  type(data[0][0]))\n",
    "n_samples, n_features = data.shape\n",
    "n_features -= 1\n",
    "X = data[:,0:n_features]\n",
    "y = data[:, n_features]\n",
    "print(X.shape, y.shape)"
   ]
  },
  {
   "cell_type": "markdown",
   "id": "9f3977ef-a859-48d0-8867-759151f49ca6",
   "metadata": {},
   "source": [
    "## Headers"
   ]
  },
  {
   "cell_type": "markdown",
   "id": "0c071c23-fedd-47f0-9214-ac16a4581f9d",
   "metadata": {},
   "source": [
    "In np.genfromtxt by using skip_header argument we can specify how many rows we want to omit. Same for pandas read_csv but we have to use skiprows argument."
   ]
  },
  {
   "cell_type": "code",
   "execution_count": 15,
   "id": "16e89598-331e-46c9-a813-b87f99ae3f7b",
   "metadata": {
    "tags": []
   },
   "outputs": [
    {
     "name": "stdout",
     "output_type": "stream",
     "text": [
      "(4600, 58) <class 'numpy.float32'>\n",
      "(4600, 57) (4600,)\n",
      "(4600, 58) <class 'numpy.float32'>\n",
      "(4600, 57) (4600,)\n"
     ]
    }
   ],
   "source": [
    "import numpy as np\n",
    "\n",
    "FILE_NAME = \"spambase.data\"\n",
    "data = np.genfromtxt(FILE_NAME, delimiter=\",\", dtype=np.float32, skip_header=1)\n",
    "    \n",
    "print(data.shape, type(data[0][0]))\n",
    "n_samples, n_features = data.shape\n",
    "n_features -= 1\n",
    "X = data[:,0:n_features]\n",
    "y = data[:, n_features]\n",
    "print(X.shape, y.shape)\n",
    "\n",
    "import pandas as pd\n",
    "\n",
    "FILE_NAME = \"spambase.data\"\n",
    "df = pd.read_csv(FILE_NAME, header=None, delimiter=\",\", dtype=np.float32, skiprows=1)\n",
    "data = df.to_numpy()\n",
    "\n",
    "print(data.shape,  type(data[0][0]))\n",
    "n_samples, n_features = data.shape\n",
    "n_features -= 1\n",
    "X = data[:,0:n_features]\n",
    "y = data[:, n_features]\n",
    "print(X.shape, y.shape)"
   ]
  },
  {
   "cell_type": "markdown",
   "id": "7a360a89-6d36-4857-9309-40985d9591c8",
   "metadata": {},
   "source": [
    "## Missing values"
   ]
  },
  {
   "cell_type": "markdown",
   "id": "56c928bd-2ef7-4c3e-9ad4-3e5fbfad5798",
   "metadata": {},
   "source": [
    "Missing values are very common. So we can occur them from time to time or even more often. Usually, when data is loaded, missing values are automatically detected, however, there may be situations in which the function does not recognize missing values.\n",
    "\n",
    "We can specify additional missing values like strings etc. In np.genfromtxt we use missing_values argument where we can use a list or just a string value. In pandas read_csv function we use argument called na_values where we have to use a list.\n",
    "\n",
    "By adding argument filling_values in genfromtxt function we can specify with which values we want to replace missing ones. In pandas we can do something similar by using fillna() function which we must apply after loading our data."
   ]
  },
  {
   "cell_type": "code",
   "execution_count": 18,
   "id": "3f0a80e1-ca62-4069-bc8c-732a3f235142",
   "metadata": {
    "tags": []
   },
   "outputs": [
    {
     "name": "stdout",
     "output_type": "stream",
     "text": [
      "(4600, 58) <class 'numpy.float32'>\n",
      "(4600, 57) (4600,)\n",
      "(4600, 58) <class 'numpy.float32'>\n",
      "(4600, 57) (4600,)\n"
     ]
    }
   ],
   "source": [
    "import numpy as np\n",
    "\n",
    "FILE_NAME = \"spambase.data\"\n",
    "data = np.genfromtxt(FILE_NAME, delimiter=\",\", dtype=np.float32, skip_header=1, missing_values=\"Hello\", filling_values=9999.0)\n",
    "    \n",
    "print(data.shape, type(data[0][0]))\n",
    "n_samples, n_features = data.shape\n",
    "n_features -= 1\n",
    "X = data[:,0:n_features]\n",
    "y = data[:, n_features]\n",
    "print(X.shape, y.shape)\n",
    "\n",
    "import pandas as pd\n",
    "\n",
    "FILE_NAME = \"spambase.data\"\n",
    "df = pd.read_csv(FILE_NAME, header=None, delimiter=\",\", dtype=np.float32, skiprows=1, na_values=[\"Hello\"])\n",
    "df = df.fillna(9999.0)\n",
    "data = df.to_numpy()\n",
    "\n",
    "print(data.shape,  type(data[0][0]))\n",
    "n_samples, n_features = data.shape\n",
    "n_features -= 1\n",
    "X = data[:,0:n_features]\n",
    "y = data[:, n_features]\n",
    "print(X.shape, y.shape)"
   ]
  }
 ],
 "metadata": {
  "kernelspec": {
   "display_name": "Python 3 (ipykernel)",
   "language": "python",
   "name": "python3"
  },
  "language_info": {
   "codemirror_mode": {
    "name": "ipython",
    "version": 3
   },
   "file_extension": ".py",
   "mimetype": "text/x-python",
   "name": "python",
   "nbconvert_exporter": "python",
   "pygments_lexer": "ipython3",
   "version": "3.11.2"
  }
 },
 "nbformat": 4,
 "nbformat_minor": 5
}
